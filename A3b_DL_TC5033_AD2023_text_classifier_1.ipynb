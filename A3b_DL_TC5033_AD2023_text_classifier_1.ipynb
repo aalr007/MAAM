{
  "cells": [
    {
      "cell_type": "markdown",
      "metadata": {
        "id": "view-in-github",
        "colab_type": "text"
      },
      "source": [
        "<a href=\"https://colab.research.google.com/github/aalr007/MAAM/blob/main/A3b_DL_TC5033_AD2023_text_classifier_1.ipynb\" target=\"_parent\"><img src=\"https://colab.research.google.com/assets/colab-badge.svg\" alt=\"Open In Colab\"/></a>"
      ]
    },
    {
      "cell_type": "markdown",
      "source": [
        "# <center> ***Métodos Avanzados de Aprendizaje Máquina*** </center>\n",
        "## <center> ***Equipo 38*** </center>\n",
        "## <center> ***Activity 3b*** </center>\n",
        "### Profesor: Dr José Antonio Cantoral Cevallos\n",
        "### Alumnos:\n",
        "* Luis Alfredo Negron Naldos A01793865\n",
        "* Javier Muñoz Barrios A01794423\n",
        "* Aurelio Antonio Lozano Rábago A01081266\n",
        "\n",
        "#### <p style='text-align: right;'> Noviembre del 2023 </p>"
      ],
      "metadata": {
        "id": "w7_TMcRsT8go"
      },
      "id": "w7_TMcRsT8go"
    },
    {
      "cell_type": "markdown",
      "id": "940c6dbc",
      "metadata": {
        "id": "940c6dbc"
      },
      "source": [
        "## TC 5033\n",
        "### Word Embeddings\n",
        "\n",
        "<br>\n",
        "\n",
        "#### Activity 3b: Text Classification using RNNs and AG_NEWS dataset in PyTorch\n",
        "<br>\n",
        "\n",
        "- Objective:\n",
        "    - Understand the basics of Recurrent Neural Networks (RNNs) and their application in text classification.\n",
        "    - Learn how to handle a real-world text dataset, AG_NEWS, in PyTorch.\n",
        "    - Gain hands-on experience in defining, training, and evaluating a text classification model in PyTorch.\n",
        "    \n",
        "<br>\n",
        "\n",
        "- Instructions:\n",
        "    - Data Preparation: Starter code will be provided that loads the AG_NEWS dataset and prepares it for training. Do not modify this part. However, you should be sure to understand it, and comment it, the use of markdown cells is suggested.\n",
        "\n",
        "    - Model Setup: A skeleton code for the RNN model class will be provided. Complete this class and use it to instantiate your model.\n",
        "\n",
        "    - Implementing Accuracy Function: Write a function that takes model predictions and ground truth labels as input and returns the model's accuracy.\n",
        "\n",
        "    - Training Function: Implement a function that performs training on the given model using the AG_NEWS dataset. Your model should achieve an accuracy of at least 80% to get full marks for this part.\n",
        "\n",
        "    - Text Sampling: Write a function that takes a sample text as input and classifies it using your trained model.\n",
        "\n",
        "    - Confusion Matrix: Implement a function to display the confusion matrix for your model on the test data.\n",
        "\n",
        "    - Submission: Submit your completed Jupyter Notebook. Make sure to include a markdown cell at the beginning of the notebook that lists the names of all team members. Teams should consist of 3 to 4 members.\n",
        "    \n",
        "<br>\n",
        "\n",
        "- Evaluation Criteria:\n",
        "\n",
        "    - Correct setup of all the required libraries and modules (10%)\n",
        "    - Code Quality (30%): Your code should be well-organized, clearly commented, and easy to follow. Use also markdown cells for clarity. Comments should be given for all the provided code, this will help you understand its functionality.\n",
        "    \n",
        "   - Functionality (60%):\n",
        "        - All the functions should execute without errors and provide the expected outputs.\n",
        "        - RNN model class (20%)\n",
        "        - Accuracy fucntion (10%)\n",
        "        - Training function (10%)\n",
        "        - Sampling function (10%)\n",
        "        - Confucion matrix (10%)\n",
        "\n",
        "        - The model should achieve at least an 80% accuracy on the AG_NEWS test set for full marks in this criterion.\n"
      ]
    },
    {
      "cell_type": "markdown",
      "id": "4de318da",
      "metadata": {
        "id": "4de318da"
      },
      "source": [
        "Dataset\n",
        "\n",
        "https://pytorch.org/text/stable/datasets.html#text-classification\n",
        "\n",
        "https://paperswithcode.com/dataset/ag-news\n"
      ]
    },
    {
      "cell_type": "markdown",
      "id": "4a9801f9",
      "metadata": {
        "id": "4a9801f9"
      },
      "source": [
        "### Import libraries"
      ]
    },
    {
      "cell_type": "code",
      "execution_count": null,
      "id": "b68f57f4",
      "metadata": {
        "id": "b68f57f4"
      },
      "outputs": [],
      "source": []
    },
    {
      "cell_type": "code",
      "execution_count": 1,
      "id": "878b524f",
      "metadata": {
        "id": "878b524f"
      },
      "outputs": [],
      "source": [
        "# The following libraries are required for running the given code\n",
        "# Please feel free to add any libraries you consider adecuate to complete the assingment.\n",
        "import numpy as np\n",
        "#PyTorch libraries\n",
        "import torch\n",
        "from torchtext.datasets import AG_NEWS\n",
        "# Dataloader library\n",
        "from torch.utils.data import DataLoader\n",
        "from torch.utils.data.dataset import random_split\n",
        "# Libraries to prepare the data\n",
        "from torchtext.data.utils import get_tokenizer\n",
        "from torchtext.vocab import build_vocab_from_iterator\n",
        "from torchtext.data.functional import to_map_style_dataset\n",
        "# neural layers\n",
        "from torch import nn\n",
        "from torch.nn import functional as F\n",
        "\n",
        "# These libraries are suggested to plot confusion matrix\n",
        "# you may use others\n",
        "import scikitplot as skplt\n",
        "import gc\n",
        "\n",
        "from sklearn.metrics import confusion_matrix\n",
        "import matplotlib.pyplot as plt\n",
        "import seaborn as sns\n",
        "\n",
        "import tensorflow as tf\n",
        "tf.config.list_physical_devices('GPU')\n",
        "\n",
        "import torch.nn.init as init"
      ]
    },
    {
      "cell_type": "markdown",
      "source": [
        "Check if GPU is available"
      ],
      "metadata": {
        "id": "xH1gAOHmFPl5"
      },
      "id": "xH1gAOHmFPl5"
    },
    {
      "cell_type": "code",
      "execution_count": 2,
      "id": "3bab55f3",
      "metadata": {
        "id": "3bab55f3",
        "outputId": "f24c5ccf-8baa-4387-e823-30eb70bf2fa2",
        "colab": {
          "base_uri": "https://localhost:8080/"
        }
      },
      "outputs": [
        {
          "output_type": "stream",
          "name": "stdout",
          "text": [
            "cpu\n"
          ]
        }
      ],
      "source": [
        "# Use GPU if available\n",
        "device = torch.device(\"cuda\" if torch.cuda.is_available() else \"cpu\")\n",
        "print(device)"
      ]
    },
    {
      "cell_type": "markdown",
      "id": "3d38956d",
      "metadata": {
        "id": "3d38956d"
      },
      "source": [
        "### Get the train and the test datasets and dataloaders"
      ]
    },
    {
      "cell_type": "markdown",
      "source": [
        "#### Data Preparation"
      ],
      "metadata": {
        "id": "7keWbGjyu8zg"
      },
      "id": "7keWbGjyu8zg"
    },
    {
      "cell_type": "markdown",
      "id": "e9c6b784",
      "metadata": {
        "id": "e9c6b784"
      },
      "source": [
        "Classes:\n",
        "\n",
        "* 1 - World\n",
        "\n",
        "* 2 - Sports\n",
        "\n",
        "* 3 - Business\n",
        "\n",
        "* 4 - Sci/Tech\n",
        "\n",
        "We will convert them to:\n",
        "\n",
        "* 0 - World\n",
        "\n",
        "* 1 - Sports\n",
        "\n",
        "* 2 - Business\n",
        "\n",
        "* 3 - Sci/Tech"
      ]
    },
    {
      "cell_type": "code",
      "execution_count": 5,
      "id": "49fbed19",
      "metadata": {
        "id": "49fbed19"
      },
      "outputs": [],
      "source": [
        "train_dataset, test_dataset = AG_NEWS()  # AG_NEWS dataset is divided into a train (120000 text examples) and test (7600 text examples) sets\n",
        "train_dataset, test_dataset = to_map_style_dataset(train_dataset), to_map_style_dataset(test_dataset) # we convert the iterable-style dataset to map-style dataset.\n",
        "#torch format"
      ]
    },
    {
      "cell_type": "markdown",
      "source": [
        "Tokenize the words"
      ],
      "metadata": {
        "id": "D97Eu6x7FVB0"
      },
      "id": "D97Eu6x7FVB0"
    },
    {
      "cell_type": "markdown",
      "source": [
        "\n",
        "\n",
        "> Indented block\n",
        "The primarey goal of this tokenizer function is to take the dataset as an input and yield a list of tokens for each text example using a tokenizer (get_tokenizer) in basic_english\n",
        "\n",
        "\n",
        "Quote from our research: \"*The tokens are general words of the text but they can also be punctuation marks and special symbols.*\"\n"
      ],
      "metadata": {
        "id": "Xsljib6Qrekh"
      },
      "id": "Xsljib6Qrekh"
    },
    {
      "cell_type": "code",
      "execution_count": 6,
      "id": "9c372eb9",
      "metadata": {
        "id": "9c372eb9"
      },
      "outputs": [],
      "source": [
        "# Here we get the tokeniser in english, that later will be used\n",
        "# tokeniser object\n",
        "tokeniser = get_tokenizer('basic_english') #divide the words into tokens using english rules\n",
        "\n",
        "def yield_tokens(data):\n",
        "    for _, text in data:\n",
        "        yield tokeniser(text)  #tokenize the text"
      ]
    },
    {
      "cell_type": "markdown",
      "source": [
        "from tokes, build a vocabulary, which is a data structure to store unique words from the data set."
      ],
      "metadata": {
        "id": "uMLaIxgqFs4I"
      },
      "id": "uMLaIxgqFs4I"
    },
    {
      "cell_type": "code",
      "execution_count": 11,
      "id": "794d0375",
      "metadata": {
        "id": "794d0375"
      },
      "outputs": [],
      "source": [
        "# Build the vocabulary\n",
        "vocab = build_vocab_from_iterator(yield_tokens(train_dataset), specials=[\"<unk>\"])\n",
        "#set unknown token at position 0\n",
        "vocab.set_default_index(vocab[\"<unk>\"])"
      ]
    },
    {
      "cell_type": "markdown",
      "source": [
        "test the tokens"
      ],
      "metadata": {
        "id": "DhXJaWW6GDbr"
      },
      "id": "DhXJaWW6GDbr"
    },
    {
      "cell_type": "code",
      "execution_count": 12,
      "id": "b48268d4",
      "metadata": {
        "id": "b48268d4",
        "outputId": "9fded588-a67a-42a1-dcdb-8c4deab7176c",
        "colab": {
          "base_uri": "https://localhost:8080/"
        }
      },
      "outputs": [
        {
          "output_type": "stream",
          "name": "stdout",
          "text": [
            "['welcome', 'to', 'te3007'] [3314, 4, 0]\n"
          ]
        }
      ],
      "source": [
        "#test tokens\n",
        "tokens = tokeniser('Welcome to TE3007')  #test and expect 0 for TE3007 which is not an english word\n",
        "print(tokens, vocab(tokens))"
      ]
    },
    {
      "cell_type": "markdown",
      "source": [
        "Split the train data into train and validation"
      ],
      "metadata": {
        "id": "D8AVssVVGGq_"
      },
      "id": "D8AVssVVGGq_"
    },
    {
      "cell_type": "code",
      "execution_count": 13,
      "id": "c8c8f6a6",
      "metadata": {
        "id": "c8c8f6a6"
      },
      "outputs": [],
      "source": [
        "NUM_TRAIN = int(len(train_dataset)*0.9)  #lets keep 10% for validation purposes\n",
        "NUM_VAL = len(train_dataset) - NUM_TRAIN"
      ]
    },
    {
      "cell_type": "code",
      "execution_count": 14,
      "id": "8290895e",
      "metadata": {
        "id": "8290895e"
      },
      "outputs": [],
      "source": [
        "train_dataset, val_dataset = random_split(train_dataset, [NUM_TRAIN, NUM_VAL]) #split the dataset into train and validation randomly"
      ]
    },
    {
      "cell_type": "code",
      "execution_count": 15,
      "id": "cbc75b54",
      "metadata": {
        "id": "cbc75b54",
        "outputId": "1f3f4c74-7f19-4fcf-91b1-00b341f7562a",
        "colab": {
          "base_uri": "https://localhost:8080/"
        }
      },
      "outputs": [
        {
          "output_type": "stream",
          "name": "stdout",
          "text": [
            "108000 12000 7600\n"
          ]
        }
      ],
      "source": [
        "print(len(train_dataset), len(val_dataset), len(test_dataset)) #print the size of each dataset: train, validation and test."
      ]
    },
    {
      "cell_type": "markdown",
      "id": "db46744b",
      "metadata": {
        "id": "db46744b"
      },
      "source": [
        "Data loaders\n",
        "\n",
        "Create Data Loaders to process data in batches"
      ]
    },
    {
      "cell_type": "code",
      "execution_count": 16,
      "id": "ffdbf077",
      "metadata": {
        "id": "ffdbf077"
      },
      "outputs": [],
      "source": [
        "# function passed to the DataLoader to process a batch of data as indicated\n",
        "def collate_batch(batch):\n",
        "    # Get label and text\n",
        "    y, x = list(zip(*batch))\n",
        "\n",
        "    # Create list with indices from tokeniser\n",
        "    x = [vocab(tokeniser(text)) for text in x]\n",
        "    x = [t + ([0]*(max_tokens - len(t))) if len(t) < max_tokens else t[:max_tokens] for t in x]\n",
        "\n",
        "    # Prepare the labels, by subtracting 1 to get them in the range 0-3\n",
        "    return torch.tensor(x, dtype=torch.int32), torch.tensor(y, dtype=torch.int32) - 1"
      ]
    },
    {
      "cell_type": "markdown",
      "source": [
        "Create the category labels"
      ],
      "metadata": {
        "id": "Cv7SeAj3GSFk"
      },
      "id": "Cv7SeAj3GSFk"
    },
    {
      "cell_type": "code",
      "execution_count": 17,
      "id": "5eb459c7",
      "metadata": {
        "id": "5eb459c7"
      },
      "outputs": [],
      "source": [
        "labels =  [\"World\", \"Sports\", \"Business\", \"Sci/Tech\"]  #create the labels for the clasification\n",
        "max_tokens = 50\n",
        "BATCH_SIZE = 256"
      ]
    },
    {
      "cell_type": "code",
      "execution_count": 18,
      "id": "0a55e6ee",
      "metadata": {
        "id": "0a55e6ee"
      },
      "outputs": [],
      "source": [
        "#create the data loaders\n",
        "train_loader = DataLoader(train_dataset, batch_size=BATCH_SIZE, collate_fn=collate_batch, shuffle = True)\n",
        "val_loader = DataLoader(val_dataset, batch_size=BATCH_SIZE, collate_fn=collate_batch, shuffle = True)\n",
        "test_loader = DataLoader(test_dataset, batch_size=BATCH_SIZE, collate_fn=collate_batch, shuffle = True)"
      ]
    },
    {
      "cell_type": "markdown",
      "id": "47b98898",
      "metadata": {
        "id": "47b98898"
      },
      "source": [
        "### Let us build our RNN model"
      ]
    },
    {
      "cell_type": "code",
      "execution_count": 19,
      "id": "50f20793",
      "metadata": {
        "id": "50f20793"
      },
      "outputs": [],
      "source": [
        "EMBEDDING_SIZE = 50 # complete\n",
        "NEURONS = 200 # number of neurons of each layer\n",
        "LAYERS = 2 # number of hidden layers of the CNN\n",
        "NUM_CLASSES = 4 # world, sports, business and Sci/Tech"
      ]
    },
    {
      "cell_type": "markdown",
      "source": [
        "#### Model Setup"
      ],
      "metadata": {
        "id": "VYTyZN0vvnav"
      },
      "id": "VYTyZN0vvnav"
    },
    {
      "cell_type": "markdown",
      "source": [
        "model class definition"
      ],
      "metadata": {
        "id": "pjPyNcHhGWAX"
      },
      "id": "pjPyNcHhGWAX"
    },
    {
      "cell_type": "code",
      "execution_count": 23,
      "id": "0f7f5621",
      "metadata": {
        "id": "0f7f5621"
      },
      "outputs": [],
      "source": [
        "class RNN_Model_1(nn.Module):              #Defines a class named RNN_Model_1 that inherits from nn.Module, which is the base class for creating models in PyTorch\n",
        "    def __init__(self, embed_size, hidden, layers, num_classes):  #Constructor of the class, define the architecture\n",
        "\n",
        "        super(RNN_Model_1, self).__init__()\n",
        "\n",
        "        self.embedding_layer = nn.Embedding(num_embeddings=len(vocab), embedding_dim=embed_size)  #Creates an embedding layer\n",
        "        #using nn.Embedding. This layer is used to convert integer values (word indices) into embed_size-dimensional\n",
        "        #embedding vectors\n",
        "\n",
        "        self.rnn = nn.RNN(input_size=embed_size, hidden_size=hidden, num_layers=layers, batch_first=True)#Creates an RNN layer using nn.RNN.\n",
        "        #This layer takes embedding vectors as input and has an input size of embed_size, a hidden size of hidden,\n",
        "        #and layers RNN layers\n",
        "\n",
        "        self.fc = nn.Linear(hidden, num_classes) #Creates a linear (fully connected) layer that maps the output from the RNN to the num_classes output classes\n",
        "\n",
        "\n",
        "    def forward(self, x):\n",
        "        embedded = self.embedding_layer(x) #Converts word indices into embedding vectors.\n",
        "        output, hidden = self.rnn(embedded) #Passes the embedding vectors through the RNN layer and obtains the output and hidden state hidden\n",
        "        output = output[:, -1, :] #Selects the last output from the RNN output sequence\n",
        "        scores = self.fc(output) #obtain output scores\n",
        "        return scores\n"
      ]
    },
    {
      "cell_type": "markdown",
      "source": [
        "#### Implementing Accuracy Function\n",
        "\n",
        "*Accuracy* function"
      ],
      "metadata": {
        "id": "FWU2dtE7xRDt"
      },
      "id": "FWU2dtE7xRDt"
    },
    {
      "cell_type": "code",
      "execution_count": 22,
      "id": "2a42613f",
      "metadata": {
        "code_folding": [],
        "id": "2a42613f"
      },
      "outputs": [],
      "source": [
        "\"\"\"\n",
        "Accuracy function\n",
        "\n",
        "Parameters:\n",
        "model -  RNN_Model_1\n",
        "optimiser - torch.optim.Optimizer\n",
        "epochs - default is 100\n",
        "\"\"\"\n",
        "def accuracy(model:RNN_Model_1, loader):\n",
        "    #variables to use\n",
        "    num_correct = 0\n",
        "    num_total = 0\n",
        "    cost = 0.\n",
        "    model.eval() #set evaluation mode\n",
        "    model = model.to(device=device) #use the GPU if defined\n",
        "    with torch.no_grad(): #deactivate gradient calculation, not requited for evaluation\n",
        "        for xi, yi in loader:\n",
        "            xi = xi.to(device=device, dtype = torch.long) #use the correct data type\n",
        "            yi = yi.to(device=device, dtype = torch.long)\n",
        "            scores = model(xi) #use the model to predict the input\n",
        "            _, pred = scores.max(dim=1) #calculates the prediction by selecting the highest probability\n",
        "            num_correct += (pred == yi).sum() #increase the counter if the prediction was right\n",
        "            num_total += pred.size(0) #increase the total data processed\n",
        "\n",
        "        return float(num_correct)/num_total #returns the accuracy"
      ]
    },
    {
      "cell_type": "markdown",
      "source": [
        "#### Training Function\n",
        "\n",
        "*Train loop*"
      ],
      "metadata": {
        "id": "0gz06wWRGitc"
      },
      "id": "0gz06wWRGitc"
    },
    {
      "cell_type": "code",
      "execution_count": 28,
      "id": "5e843e1f",
      "metadata": {
        "code_folding": [],
        "id": "5e843e1f"
      },
      "outputs": [],
      "source": [
        "\"\"\"\n",
        "Train function\n",
        "\n",
        "Parameters:\n",
        "model -  RNN_Model_1\n",
        "optimiser - torch.optim.Optimizer\n",
        "epochs - default is 100\n",
        "\"\"\"\n",
        "def train(model:RNN_Model_1, optimiser, epochs=100):\n",
        "    model = model.to(device=device) #The model is passed to the device.\n",
        "    for epoch in range(epochs): #epochs to train\n",
        "        for i, (xi, yi) in enumerate(train_loader):   #loader form from tensors\n",
        "            model.train()                             #train the model\n",
        "            xi = xi.to(device=device, dtype=torch.int64) #use the right data type\n",
        "            yi = yi.to(device=device, dtype=torch.long)\n",
        "            scores = model(xi) #uses the model to make predictions (compute scores) on the input features\n",
        "            # funcion cost\n",
        "            cost = F.cross_entropy(input= scores, target=yi) #This calculates the cost or loss using the cross-entropy loss function. It measures the difference between the predicted scores and the actual target labels\n",
        "            optimiser.zero_grad() #clears the gradients in the model's parameters before back propagation\n",
        "            cost.backward() #performs backpropagation\n",
        "            optimiser.step() #optimization updates the model's parameters using the computed gradients\n",
        "        acc = accuracy(model, val_loader) #get the accuracy\n",
        "        print(f'Epoch:{epoch}, costo: {cost.item()}, accuracy: {acc},')\n",
        "    pass\n",
        "\n"
      ]
    },
    {
      "cell_type": "markdown",
      "source": [
        "model parameters"
      ],
      "metadata": {
        "id": "9kTB0WbAGkdI"
      },
      "id": "9kTB0WbAGkdI"
    },
    {
      "cell_type": "code",
      "execution_count": 26,
      "id": "87775b29",
      "metadata": {
        "id": "87775b29"
      },
      "outputs": [],
      "source": [
        "epochs = 20 # number of epochs to train\n",
        "lr=0.0001 #leqarning rate\n",
        "# instantiate model\n",
        "rnn_model = RNN_Model_1(EMBEDDING_SIZE, NEURONS, LAYERS, NUM_CLASSES) #instantiation of the model\n",
        "optimiser = torch.optim.Adam(rnn_model.parameters(), lr=lr) #use adam optimizer\n"
      ]
    },
    {
      "cell_type": "markdown",
      "source": [
        "train the model"
      ],
      "metadata": {
        "id": "9NY5o-zCGnEX"
      },
      "id": "9NY5o-zCGnEX"
    },
    {
      "cell_type": "code",
      "execution_count": 27,
      "id": "aec12a1b",
      "metadata": {
        "scrolled": true,
        "id": "aec12a1b",
        "outputId": "d0f21a01-4bcf-4273-bca7-c9afa407fede",
        "colab": {
          "base_uri": "https://localhost:8080/"
        }
      },
      "outputs": [
        {
          "output_type": "stream",
          "name": "stdout",
          "text": [
            "Epoch:0, costo: 1.2073004245758057, accuracy: 0.41833333333333333,\n",
            "Epoch:1, costo: 1.0179591178894043, accuracy: 0.5344166666666667,\n",
            "Epoch:2, costo: 0.9986827969551086, accuracy: 0.6185,\n",
            "Epoch:3, costo: 0.7674700617790222, accuracy: 0.6708333333333333,\n",
            "Epoch:4, costo: 0.6562641859054565, accuracy: 0.7080833333333333,\n",
            "Epoch:5, costo: 0.7519431114196777, accuracy: 0.74725,\n",
            "Epoch:6, costo: 0.5768855214118958, accuracy: 0.7669166666666667,\n",
            "Epoch:7, costo: 0.590798556804657, accuracy: 0.7776666666666666,\n",
            "Epoch:8, costo: 0.5492128729820251, accuracy: 0.7926666666666666,\n",
            "Epoch:9, costo: 0.677663266658783, accuracy: 0.80925,\n",
            "Epoch:10, costo: 0.49659591913223267, accuracy: 0.8109166666666666,\n",
            "Epoch:11, costo: 0.5468166470527649, accuracy: 0.8175,\n",
            "Epoch:12, costo: 0.452106237411499, accuracy: 0.8299166666666666,\n",
            "Epoch:13, costo: 0.46290087699890137, accuracy: 0.8105833333333333,\n",
            "Epoch:14, costo: 0.4389231204986572, accuracy: 0.834,\n",
            "Epoch:15, costo: 0.46225783228874207, accuracy: 0.8415,\n",
            "Epoch:16, costo: 0.34571316838264465, accuracy: 0.8474166666666667,\n",
            "Epoch:17, costo: 0.3964475095272064, accuracy: 0.8505833333333334,\n",
            "Epoch:18, costo: 0.379659503698349, accuracy: 0.8515,\n",
            "Epoch:19, costo: 0.3255613446235657, accuracy: 0.85625,\n"
          ]
        }
      ],
      "source": [
        "train(rnn_model, optimiser=optimiser,  epochs=epochs) #train the model."
      ]
    },
    {
      "cell_type": "markdown",
      "source": [
        "print the accuracy"
      ],
      "metadata": {
        "id": "m6lypI8sGqLn"
      },
      "id": "m6lypI8sGqLn"
    },
    {
      "cell_type": "code",
      "execution_count": 29,
      "id": "7a3ef175",
      "metadata": {
        "id": "7a3ef175",
        "outputId": "0f195295-ede9-48e8-b958-d7878b776cf4",
        "colab": {
          "base_uri": "https://localhost:8080/"
        }
      },
      "outputs": [
        {
          "output_type": "stream",
          "name": "stdout",
          "text": [
            "0.8546\n"
          ]
        }
      ],
      "source": [
        "print(f'{accuracy(rnn_model, test_loader):.4f}') #prints the accuracy of the model using test data."
      ]
    },
    {
      "cell_type": "markdown",
      "source": [
        "#### Text Sampling\n",
        "\n",
        "*Let's try the model with text*\n",
        "\n",
        "We create a sample function that takes a Model and a loader"
      ],
      "metadata": {
        "id": "5B-KkGnfGsZK"
      },
      "id": "5B-KkGnfGsZK"
    },
    {
      "cell_type": "code",
      "execution_count": 45,
      "id": "ed30693d",
      "metadata": {
        "id": "ed30693d"
      },
      "outputs": [],
      "source": [
        "\"\"\"\n",
        "Sample Text function\n",
        "\n",
        "Parameters:\n",
        "model -  RNN_Model_1\n",
        "loader - DataLoader\n",
        "\"\"\"\n",
        "def sample_text(model, loader:DataLoader):\n",
        "    model = model.to(device=device)\n",
        "    model.eval()  # make sure model is in evaluation mode\n",
        "    predictions = []  # to acumulate the predictions\n",
        "\n",
        "    with torch.no_grad(): #not required to calculate the gradient.\n",
        "        for xi, _ in loader:\n",
        "            xi = xi.to(device=device, dtype=torch.int32)  # right data type\n",
        "            scores = model(xi)\n",
        "            _, pred = scores.max(dim=1)\n",
        "            predictions.extend(pred.cpu().numpy())  # Agregar las predicciones a la lista\n",
        "\n",
        "    return predictions"
      ]
    },
    {
      "cell_type": "markdown",
      "source": [],
      "metadata": {
        "id": "vw4-1G5QBMJK"
      },
      "id": "vw4-1G5QBMJK"
    },
    {
      "cell_type": "markdown",
      "source": [
        "We run our sample test function against our rnn model using the test dataset\n",
        "\n"
      ],
      "metadata": {
        "id": "95igDZsC6_5P"
      },
      "id": "95igDZsC6_5P"
    },
    {
      "cell_type": "code",
      "execution_count": 48,
      "id": "534f0220",
      "metadata": {
        "id": "534f0220",
        "outputId": "9268e072-f449-4672-be0d-a08d2500434e",
        "colab": {
          "base_uri": "https://localhost:8080/"
        }
      },
      "outputs": [
        {
          "output_type": "execute_result",
          "data": {
            "text/plain": [
              "[0,\n",
              " 0,\n",
              " 3,\n",
              " 3,\n",
              " 0,\n",
              " 3,\n",
              " 2,\n",
              " 0,\n",
              " 3,\n",
              " 0,\n",
              " 2,\n",
              " 1,\n",
              " 3,\n",
              " 0,\n",
              " 3,\n",
              " 2,\n",
              " 3,\n",
              " 3,\n",
              " 0,\n",
              " 2,\n",
              " 2,\n",
              " 3,\n",
              " 3,\n",
              " 2,\n",
              " 2,\n",
              " 1,\n",
              " 1,\n",
              " 0,\n",
              " 2,\n",
              " 2,\n",
              " 3,\n",
              " 3,\n",
              " 3,\n",
              " 0,\n",
              " 3,\n",
              " 1,\n",
              " 3,\n",
              " 2,\n",
              " 2,\n",
              " 2,\n",
              " 1,\n",
              " 0,\n",
              " 2,\n",
              " 0,\n",
              " 0,\n",
              " 3,\n",
              " 2,\n",
              " 0,\n",
              " 3,\n",
              " 1,\n",
              " 1,\n",
              " 0,\n",
              " 1,\n",
              " 0,\n",
              " 0,\n",
              " 3,\n",
              " 0,\n",
              " 2,\n",
              " 3,\n",
              " 3,\n",
              " 3,\n",
              " 0,\n",
              " 1,\n",
              " 0,\n",
              " 3,\n",
              " 2,\n",
              " 0,\n",
              " 2,\n",
              " 3,\n",
              " 1,\n",
              " 1,\n",
              " 2,\n",
              " 2,\n",
              " 3,\n",
              " 2,\n",
              " 3,\n",
              " 2,\n",
              " 1,\n",
              " 0,\n",
              " 0,\n",
              " 3,\n",
              " 3,\n",
              " 0,\n",
              " 1,\n",
              " 0,\n",
              " 1,\n",
              " 3,\n",
              " 0,\n",
              " 2,\n",
              " 3,\n",
              " 3,\n",
              " 1,\n",
              " 2,\n",
              " 1,\n",
              " 2,\n",
              " 3,\n",
              " 2,\n",
              " 3,\n",
              " 3,\n",
              " 2,\n",
              " 2,\n",
              " 2,\n",
              " 3,\n",
              " 0,\n",
              " 1,\n",
              " 2,\n",
              " 3,\n",
              " 0,\n",
              " 0,\n",
              " 3,\n",
              " 3,\n",
              " 1,\n",
              " 3,\n",
              " 3,\n",
              " 1,\n",
              " 2,\n",
              " 1,\n",
              " 2,\n",
              " 3,\n",
              " 2,\n",
              " 0,\n",
              " 3,\n",
              " 0,\n",
              " 2,\n",
              " 3,\n",
              " 0,\n",
              " 2,\n",
              " 3,\n",
              " 0,\n",
              " 3,\n",
              " 2,\n",
              " 1,\n",
              " 3,\n",
              " 0,\n",
              " 1,\n",
              " 3,\n",
              " 3,\n",
              " 3,\n",
              " 1,\n",
              " 3,\n",
              " 3,\n",
              " 2,\n",
              " 3,\n",
              " 1,\n",
              " 2,\n",
              " 3,\n",
              " 1,\n",
              " 0,\n",
              " 2,\n",
              " 1,\n",
              " 0,\n",
              " 1,\n",
              " 1,\n",
              " 0,\n",
              " 1,\n",
              " 3,\n",
              " 3,\n",
              " 3,\n",
              " 2,\n",
              " 3,\n",
              " 0,\n",
              " 2,\n",
              " 3,\n",
              " 2,\n",
              " 1,\n",
              " 2,\n",
              " 0,\n",
              " 0,\n",
              " 3,\n",
              " 2,\n",
              " 3,\n",
              " 3,\n",
              " 1,\n",
              " 2,\n",
              " 3,\n",
              " 1,\n",
              " 0,\n",
              " 3,\n",
              " 3,\n",
              " 1,\n",
              " 1,\n",
              " 2,\n",
              " 2,\n",
              " 3,\n",
              " 3,\n",
              " 2,\n",
              " 3,\n",
              " 2,\n",
              " 3,\n",
              " 3,\n",
              " 2,\n",
              " 1,\n",
              " 0,\n",
              " 3,\n",
              " 1,\n",
              " 1,\n",
              " 2,\n",
              " 3,\n",
              " 3,\n",
              " 2,\n",
              " 2,\n",
              " 2,\n",
              " 0,\n",
              " 2,\n",
              " 2,\n",
              " 1,\n",
              " 3,\n",
              " 2,\n",
              " 0,\n",
              " 3,\n",
              " 0,\n",
              " 3,\n",
              " 1,\n",
              " 0,\n",
              " 0,\n",
              " 0,\n",
              " 0,\n",
              " 3,\n",
              " 0,\n",
              " 0,\n",
              " 0,\n",
              " 3,\n",
              " 3,\n",
              " 0,\n",
              " 0,\n",
              " 0,\n",
              " 1,\n",
              " 3,\n",
              " 2,\n",
              " 2,\n",
              " 0,\n",
              " 1,\n",
              " 0,\n",
              " 3,\n",
              " 0,\n",
              " 0,\n",
              " 2,\n",
              " 3,\n",
              " 1,\n",
              " 2,\n",
              " 3,\n",
              " 0,\n",
              " 0,\n",
              " 0,\n",
              " 0,\n",
              " 0,\n",
              " 1,\n",
              " 1,\n",
              " 1,\n",
              " 3,\n",
              " 3,\n",
              " 1,\n",
              " 0,\n",
              " 1,\n",
              " 2,\n",
              " 0,\n",
              " 2,\n",
              " 0,\n",
              " 2,\n",
              " 2,\n",
              " 3,\n",
              " 3,\n",
              " 1,\n",
              " 2,\n",
              " 2,\n",
              " 0,\n",
              " 0,\n",
              " 0,\n",
              " 1,\n",
              " 0,\n",
              " 0,\n",
              " 2,\n",
              " 3,\n",
              " 2,\n",
              " 1,\n",
              " 3,\n",
              " 0,\n",
              " 2,\n",
              " 2,\n",
              " 3,\n",
              " 0,\n",
              " 0,\n",
              " 1,\n",
              " 3,\n",
              " 2,\n",
              " 0,\n",
              " 1,\n",
              " 0,\n",
              " 1,\n",
              " 2,\n",
              " 3,\n",
              " 1,\n",
              " 2,\n",
              " 0,\n",
              " 3,\n",
              " 1,\n",
              " 0,\n",
              " 3,\n",
              " 0,\n",
              " 1,\n",
              " 0,\n",
              " 1,\n",
              " 1,\n",
              " 3,\n",
              " 3,\n",
              " 2,\n",
              " 3,\n",
              " 1,\n",
              " 3,\n",
              " 3,\n",
              " 3,\n",
              " 0,\n",
              " 2,\n",
              " 2,\n",
              " 3,\n",
              " 2,\n",
              " 1,\n",
              " 3,\n",
              " 3,\n",
              " 2,\n",
              " 0,\n",
              " 1,\n",
              " 0,\n",
              " 1,\n",
              " 1,\n",
              " 3,\n",
              " 1,\n",
              " 0,\n",
              " 3,\n",
              " 3,\n",
              " 2,\n",
              " 1,\n",
              " 2,\n",
              " 3,\n",
              " 2,\n",
              " 0,\n",
              " 2,\n",
              " 3,\n",
              " 0,\n",
              " 3,\n",
              " 3,\n",
              " 2,\n",
              " 1,\n",
              " 0,\n",
              " 3,\n",
              " 3,\n",
              " 1,\n",
              " 2,\n",
              " 2,\n",
              " 1,\n",
              " 2,\n",
              " 1,\n",
              " 0,\n",
              " 3,\n",
              " 1,\n",
              " 0,\n",
              " 0,\n",
              " 1,\n",
              " 0,\n",
              " 2,\n",
              " 1,\n",
              " 3,\n",
              " 1,\n",
              " 0,\n",
              " 1,\n",
              " 3,\n",
              " 0,\n",
              " 1,\n",
              " 3,\n",
              " 0,\n",
              " 0,\n",
              " 3,\n",
              " 3,\n",
              " 0,\n",
              " 0,\n",
              " 2,\n",
              " 2,\n",
              " 3,\n",
              " 2,\n",
              " 3,\n",
              " 1,\n",
              " 0,\n",
              " 1,\n",
              " 0,\n",
              " 2,\n",
              " 2,\n",
              " 0,\n",
              " 3,\n",
              " 1,\n",
              " 3,\n",
              " 3,\n",
              " 0,\n",
              " 1,\n",
              " 2,\n",
              " 1,\n",
              " 1,\n",
              " 2,\n",
              " 0,\n",
              " 0,\n",
              " 3,\n",
              " 1,\n",
              " 2,\n",
              " 2,\n",
              " 1,\n",
              " 1,\n",
              " 2,\n",
              " 1,\n",
              " 0,\n",
              " 0,\n",
              " 0,\n",
              " 2,\n",
              " 3,\n",
              " 2,\n",
              " 0,\n",
              " 0,\n",
              " 3,\n",
              " 1,\n",
              " 1,\n",
              " 3,\n",
              " 0,\n",
              " 2,\n",
              " 0,\n",
              " 3,\n",
              " 3,\n",
              " 3,\n",
              " 1,\n",
              " 3,\n",
              " 2,\n",
              " 3,\n",
              " 1,\n",
              " 2,\n",
              " 1,\n",
              " 0,\n",
              " 2,\n",
              " 3,\n",
              " 0,\n",
              " 3,\n",
              " 3,\n",
              " 1,\n",
              " 0,\n",
              " 0,\n",
              " 2,\n",
              " 1,\n",
              " 1,\n",
              " 1,\n",
              " 3,\n",
              " 3,\n",
              " 2,\n",
              " 3,\n",
              " 3,\n",
              " 1,\n",
              " 3,\n",
              " 0,\n",
              " 1,\n",
              " 1,\n",
              " 3,\n",
              " 2,\n",
              " 2,\n",
              " 1,\n",
              " 3,\n",
              " 2,\n",
              " 3,\n",
              " 3,\n",
              " 3,\n",
              " 0,\n",
              " 3,\n",
              " 2,\n",
              " 0,\n",
              " 2,\n",
              " 2,\n",
              " 1,\n",
              " 2,\n",
              " 1,\n",
              " 0,\n",
              " 3,\n",
              " 1,\n",
              " 2,\n",
              " 0,\n",
              " 0,\n",
              " 1,\n",
              " 2,\n",
              " 1,\n",
              " 0,\n",
              " 0,\n",
              " 1,\n",
              " 3,\n",
              " 2,\n",
              " 0,\n",
              " 0,\n",
              " 0,\n",
              " 3,\n",
              " 0,\n",
              " 3,\n",
              " 3,\n",
              " 3,\n",
              " 3,\n",
              " 1,\n",
              " 2,\n",
              " 3,\n",
              " 3,\n",
              " 2,\n",
              " 0,\n",
              " 1,\n",
              " 2,\n",
              " 2,\n",
              " 1,\n",
              " 1,\n",
              " 3,\n",
              " 0,\n",
              " 0,\n",
              " 2,\n",
              " 0,\n",
              " 1,\n",
              " 2,\n",
              " 3,\n",
              " 2,\n",
              " 0,\n",
              " 1,\n",
              " 1,\n",
              " 3,\n",
              " 2,\n",
              " 1,\n",
              " 3,\n",
              " 3,\n",
              " 3,\n",
              " 2,\n",
              " 0,\n",
              " 0,\n",
              " 2,\n",
              " 3,\n",
              " 3,\n",
              " 1,\n",
              " 1,\n",
              " 3,\n",
              " 2,\n",
              " 2,\n",
              " 3,\n",
              " 1,\n",
              " 2,\n",
              " 3,\n",
              " 3,\n",
              " 2,\n",
              " 1,\n",
              " 1,\n",
              " 1,\n",
              " 1,\n",
              " 2,\n",
              " 3,\n",
              " 1,\n",
              " 0,\n",
              " 1,\n",
              " 3,\n",
              " 2,\n",
              " 0,\n",
              " 1,\n",
              " 3,\n",
              " 3,\n",
              " 2,\n",
              " 0,\n",
              " 3,\n",
              " 2,\n",
              " 1,\n",
              " 2,\n",
              " 3,\n",
              " 1,\n",
              " 1,\n",
              " 1,\n",
              " 0,\n",
              " 1,\n",
              " 1,\n",
              " 3,\n",
              " 1,\n",
              " 3,\n",
              " 2,\n",
              " 2,\n",
              " 1,\n",
              " 0,\n",
              " 1,\n",
              " 3,\n",
              " 0,\n",
              " 0,\n",
              " 2,\n",
              " 0,\n",
              " 1,\n",
              " 2,\n",
              " 1,\n",
              " 0,\n",
              " 1,\n",
              " 3,\n",
              " 3,\n",
              " 3,\n",
              " 2,\n",
              " 3,\n",
              " 2,\n",
              " 3,\n",
              " 2,\n",
              " 2,\n",
              " 3,\n",
              " 1,\n",
              " 1,\n",
              " 2,\n",
              " 1,\n",
              " 1,\n",
              " 3,\n",
              " 1,\n",
              " 0,\n",
              " 3,\n",
              " 2,\n",
              " 2,\n",
              " 3,\n",
              " 0,\n",
              " 0,\n",
              " 2,\n",
              " 2,\n",
              " 3,\n",
              " 2,\n",
              " 2,\n",
              " 0,\n",
              " 3,\n",
              " 2,\n",
              " 0,\n",
              " 3,\n",
              " 1,\n",
              " 3,\n",
              " 3,\n",
              " 0,\n",
              " 0,\n",
              " 0,\n",
              " 2,\n",
              " 2,\n",
              " 1,\n",
              " 2,\n",
              " 0,\n",
              " 0,\n",
              " 1,\n",
              " 1,\n",
              " 0,\n",
              " 1,\n",
              " 2,\n",
              " 0,\n",
              " 2,\n",
              " 1,\n",
              " 2,\n",
              " 1,\n",
              " 3,\n",
              " 2,\n",
              " 3,\n",
              " 1,\n",
              " 3,\n",
              " 1,\n",
              " 1,\n",
              " 0,\n",
              " 2,\n",
              " 3,\n",
              " 1,\n",
              " 2,\n",
              " 3,\n",
              " 2,\n",
              " 1,\n",
              " 1,\n",
              " 3,\n",
              " 1,\n",
              " 1,\n",
              " 2,\n",
              " 3,\n",
              " 2,\n",
              " 0,\n",
              " 3,\n",
              " 2,\n",
              " 2,\n",
              " 0,\n",
              " 2,\n",
              " 2,\n",
              " 3,\n",
              " 1,\n",
              " 3,\n",
              " 1,\n",
              " 2,\n",
              " 1,\n",
              " 3,\n",
              " 3,\n",
              " 1,\n",
              " 1,\n",
              " 2,\n",
              " 2,\n",
              " 0,\n",
              " 0,\n",
              " 3,\n",
              " 1,\n",
              " 2,\n",
              " 2,\n",
              " 0,\n",
              " 3,\n",
              " 2,\n",
              " 2,\n",
              " 0,\n",
              " 1,\n",
              " 2,\n",
              " 3,\n",
              " 0,\n",
              " 0,\n",
              " 3,\n",
              " 2,\n",
              " 0,\n",
              " 0,\n",
              " 2,\n",
              " 1,\n",
              " 3,\n",
              " 2,\n",
              " 2,\n",
              " 1,\n",
              " 0,\n",
              " 1,\n",
              " 2,\n",
              " 1,\n",
              " 1,\n",
              " 0,\n",
              " 3,\n",
              " 1,\n",
              " 0,\n",
              " 2,\n",
              " 1,\n",
              " 2,\n",
              " 1,\n",
              " 3,\n",
              " 1,\n",
              " 2,\n",
              " 1,\n",
              " 3,\n",
              " 2,\n",
              " 1,\n",
              " 3,\n",
              " 3,\n",
              " 0,\n",
              " 1,\n",
              " 0,\n",
              " 2,\n",
              " 1,\n",
              " 3,\n",
              " 0,\n",
              " 3,\n",
              " 3,\n",
              " 2,\n",
              " 2,\n",
              " 0,\n",
              " 2,\n",
              " 3,\n",
              " 0,\n",
              " 1,\n",
              " 2,\n",
              " 2,\n",
              " 2,\n",
              " 2,\n",
              " 3,\n",
              " 2,\n",
              " 3,\n",
              " 2,\n",
              " 3,\n",
              " 2,\n",
              " 0,\n",
              " 2,\n",
              " 3,\n",
              " 0,\n",
              " 3,\n",
              " 1,\n",
              " 1,\n",
              " 0,\n",
              " 2,\n",
              " 3,\n",
              " 0,\n",
              " 3,\n",
              " 1,\n",
              " 2,\n",
              " 2,\n",
              " 0,\n",
              " 3,\n",
              " 0,\n",
              " 0,\n",
              " 3,\n",
              " 1,\n",
              " 3,\n",
              " 2,\n",
              " 2,\n",
              " 3,\n",
              " 2,\n",
              " 2,\n",
              " 1,\n",
              " 0,\n",
              " 1,\n",
              " 1,\n",
              " 3,\n",
              " 0,\n",
              " 2,\n",
              " 1,\n",
              " 1,\n",
              " 3,\n",
              " 1,\n",
              " 3,\n",
              " 3,\n",
              " 3,\n",
              " 2,\n",
              " 2,\n",
              " 3,\n",
              " 0,\n",
              " 3,\n",
              " 1,\n",
              " 2,\n",
              " 3,\n",
              " 2,\n",
              " 3,\n",
              " 3,\n",
              " 1,\n",
              " 1,\n",
              " 2,\n",
              " 1,\n",
              " 0,\n",
              " 3,\n",
              " 2,\n",
              " 3,\n",
              " 1,\n",
              " 1,\n",
              " 3,\n",
              " 0,\n",
              " 2,\n",
              " 0,\n",
              " 0,\n",
              " 2,\n",
              " 1,\n",
              " 0,\n",
              " 0,\n",
              " 1,\n",
              " 3,\n",
              " 2,\n",
              " 1,\n",
              " 2,\n",
              " 3,\n",
              " 0,\n",
              " 1,\n",
              " 1,\n",
              " 0,\n",
              " 2,\n",
              " 2,\n",
              " 1,\n",
              " 2,\n",
              " 2,\n",
              " 3,\n",
              " 2,\n",
              " 2,\n",
              " 2,\n",
              " 2,\n",
              " 3,\n",
              " 0,\n",
              " 2,\n",
              " 0,\n",
              " 0,\n",
              " 3,\n",
              " 3,\n",
              " 1,\n",
              " 1,\n",
              " 0,\n",
              " 0,\n",
              " 3,\n",
              " 0,\n",
              " 2,\n",
              " 3,\n",
              " 0,\n",
              " 1,\n",
              " 1,\n",
              " 1,\n",
              " 3,\n",
              " 3,\n",
              " 3,\n",
              " 1,\n",
              " 2,\n",
              " 3,\n",
              " 0,\n",
              " 1,\n",
              " 1,\n",
              " 0,\n",
              " 1,\n",
              " 0,\n",
              " 3,\n",
              " 0,\n",
              " 3,\n",
              " 2,\n",
              " 0,\n",
              " 0,\n",
              " 0,\n",
              " 0,\n",
              " 1,\n",
              " 3,\n",
              " 3,\n",
              " 2,\n",
              " 1,\n",
              " 3,\n",
              " 2,\n",
              " 3,\n",
              " 0,\n",
              " 2,\n",
              " 2,\n",
              " 3,\n",
              " 3,\n",
              " 2,\n",
              " 1,\n",
              " 2,\n",
              " 1,\n",
              " 1,\n",
              " 3,\n",
              " 1,\n",
              " 2,\n",
              " 2,\n",
              " 2,\n",
              " 1,\n",
              " 2,\n",
              " 1,\n",
              " 0,\n",
              " 3,\n",
              " 0,\n",
              " 3,\n",
              " 2,\n",
              " 1,\n",
              " 2,\n",
              " 0,\n",
              " 2,\n",
              " 2,\n",
              " 0,\n",
              " 3,\n",
              " 1,\n",
              " 1,\n",
              " 3,\n",
              " 2,\n",
              " 2,\n",
              " 1,\n",
              " 3,\n",
              " 0,\n",
              " 3,\n",
              " 0,\n",
              " 0,\n",
              " 3,\n",
              " 3,\n",
              " 1,\n",
              " 2,\n",
              " 0,\n",
              " 1,\n",
              " 2,\n",
              " 3,\n",
              " 1,\n",
              " 3,\n",
              " 0,\n",
              " 2,\n",
              " 0,\n",
              " 1,\n",
              " 3,\n",
              " 2,\n",
              " 3,\n",
              " 0,\n",
              " 0,\n",
              " 1,\n",
              " 2,\n",
              " 0,\n",
              " 1,\n",
              " 0,\n",
              " 1,\n",
              " 3,\n",
              " 0,\n",
              " 1,\n",
              " 2,\n",
              " 2,\n",
              " 2,\n",
              " 1,\n",
              " 2,\n",
              " 0,\n",
              " 3,\n",
              " 1,\n",
              " 1,\n",
              " 3,\n",
              " 3,\n",
              " 3,\n",
              " 3,\n",
              " 2,\n",
              " 2,\n",
              " 1,\n",
              " 1,\n",
              " 3,\n",
              " 3,\n",
              " 3,\n",
              " 2,\n",
              " 2,\n",
              " 0,\n",
              " 2,\n",
              " 3,\n",
              " 1,\n",
              " 0,\n",
              " 1,\n",
              " 0,\n",
              " 0,\n",
              " 0,\n",
              " 3,\n",
              " 0,\n",
              " 0,\n",
              " ...]"
            ]
          },
          "metadata": {},
          "execution_count": 48
        }
      ],
      "source": [
        "sample_text(rnn_model, test_loader)\n"
      ]
    },
    {
      "cell_type": "markdown",
      "source": [
        "#### Confusion Matrix\n",
        "Create the confusion matrix, there are 2 one with the total numbers and another one with percentages"
      ],
      "metadata": {
        "id": "GQjVXoQPGyC1"
      },
      "id": "GQjVXoQPGyC1"
    },
    {
      "cell_type": "code",
      "execution_count": 50,
      "id": "bb38e093",
      "metadata": {
        "id": "bb38e093",
        "outputId": "ab715994-aaa7-4142-de9f-44ae19dbd49c",
        "colab": {
          "base_uri": "https://localhost:8080/",
          "height": 472
        }
      },
      "outputs": [
        {
          "output_type": "display_data",
          "data": {
            "text/plain": [
              "<Figure size 640x480 with 2 Axes>"
            ],
            "image/png": "[encoded data removed]"
          },
          "metadata": {}
        }
      ],
      "source": [
        "# create confusion matrix\n",
        "# Initialize empty lists to store true and predicted labels\n",
        "true_labels = []\n",
        "predicted_labels = []\n",
        "\n",
        "# Iterate through the validation data and make predictions\n",
        "with torch.no_grad():\n",
        "    for xi, yi in val_loader:\n",
        "        xi = xi.to(device=device, dtype=torch.int32)\n",
        "        scores = rnn_model(xi)\n",
        "        _, pred = scores.max(dim=1)\n",
        "\n",
        "        true_labels.extend(yi.cpu().numpy())  # Store the true labels\n",
        "        predicted_labels.extend(pred.cpu().numpy())  # Store the predicted labels\n",
        "\n",
        "# Create the confusion matrix\n",
        "skplt.metrics.plot_confusion_matrix(true_labels, predicted_labels, normalize=False)\n",
        "\n",
        "# Show the confusion matrix\n",
        "plt.show()\n"
      ]
    },
    {
      "cell_type": "code",
      "execution_count": 51,
      "id": "e7d73f69",
      "metadata": {
        "id": "e7d73f69",
        "outputId": "e0cdd739-0a61-41ad-f2bf-f36467c912c9",
        "colab": {
          "base_uri": "https://localhost:8080/",
          "height": 472
        }
      },
      "outputs": [
        {
          "output_type": "display_data",
          "data": {
            "text/plain": [
              "<Figure size 640x480 with 2 Axes>"
            ],
            "image/png": "[encoded data removed]"
          },
          "metadata": {}
        }
      ],
      "source": [
        "# Create the confusion matrix with percentages\n",
        "skplt.metrics.plot_confusion_matrix(true_labels, predicted_labels, normalize=True)\n",
        "\n",
        "# Show the confusion matrix\n",
        "plt.show()"
      ]
    },
    {
      "cell_type": "code",
      "execution_count": null,
      "id": "1c82cfd3",
      "metadata": {
        "id": "1c82cfd3"
      },
      "outputs": [],
      "source": []
    }
  ],
  "metadata": {
    "kernelspec": {
      "display_name": "gpu2",
      "language": "python",
      "name": "gpu2"
    },
    "language_info": {
      "codemirror_mode": {
        "name": "ipython",
        "version": 3
      },
      "file_extension": ".py",
      "mimetype": "text/x-python",
      "name": "python",
      "nbconvert_exporter": "python",
      "pygments_lexer": "ipython3",
      "version": "3.11.5"
    },
    "varInspector": {
      "cols": {
        "lenName": 16,
        "lenType": 16,
        "lenVar": 40
      },
      "kernels_config": {
        "python": {
          "delete_cmd_postfix": "",
          "delete_cmd_prefix": "del ",
          "library": "var_list.py",
          "varRefreshCmd": "print(var_dic_list())"
        },
        "r": {
          "delete_cmd_postfix": ") ",
          "delete_cmd_prefix": "rm(",
          "library": "var_list.r",
          "varRefreshCmd": "cat(var_dic_list()) "
        }
      },
      "types_to_exclude": [
        "module",
        "function",
        "builtin_function_or_method",
        "instance",
        "_Feature"
      ],
      "window_display": false
    },
    "colab": {
      "provenance": [],
      "include_colab_link": true
    }
  },
  "nbformat": 4,
  "nbformat_minor": 5
}