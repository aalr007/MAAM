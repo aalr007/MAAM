{
  "cells": [
    {
      "cell_type": "markdown",
      "metadata": {
        "id": "view-in-github",
        "colab_type": "text"
      },
      "source": [
        "<a href=\"https://colab.research.google.com/github/aalr007/MAAM/blob/main/A2c_DL_TC5033_AD2023.ipynb\" target=\"_parent\"><img src=\"https://colab.research.google.com/assets/colab-badge.svg\" alt=\"Open In Colab\"/></a>"
      ]
    },
    {
      "cell_type": "markdown",
      "source": [
        "# <center> ***Métodos Avanzados de Aprendizaje Máquina*** </center>\n",
        "## <center> ***Equipo 38*** </center>\n",
        "## <center> ***Activity 2C*** </center>\n",
        "### Profesor: Dr José Antonio Cantoral Cevallos\n",
        "### Alumnos:\n",
        "* Luis Alfredo Negron Naldos A01793865\n",
        "* Javier Muñoz Barrios A01794423\n",
        "* Aurelio Antonio Lozano Rábago A01081266\n",
        "\n",
        "#### <p style='text-align: right;'> Octubre del 2023 </p>\n"
      ],
      "metadata": {
        "id": "t7YxDwuY4rzw"
      }
    },
    {
      "cell_type": "markdown",
      "metadata": {
        "id": "dKJMGwNo4iZa"
      },
      "source": [
        "# TC 5033\n",
        "## Deep Learning\n",
        "## Transfer Learning\n",
        "\n",
        "<br>\n",
        "\n",
        "#### Activity 2c: Exploring Transfer Learning with CIFAR-10\n",
        "<br>\n",
        "\n",
        "- Objective:\n",
        "\n",
        "    In this activity, you'll study the concept of Transfer Learning, a powerful technique to improve the performance of your models by leveraging pre-trained architectures. The provided notebook offers a complete solution using a specific pre-trained model on the CIFAR-10 dataset. Your task is to extend this by trying out two other pre-trained models.\n",
        "    \n",
        "- Instructions:\n",
        "\n",
        "    This activity should be submitted in the same format as previous activities. Remember to include the names of all team members in a markdown cell at the beginning of the notebook. The grade obtained in this notebook will be averaged with that of Activity 2b, for the grade of Activity 2.    \n",
        "\n",
        "    Study the Provided Code: The provided notebook has a complete Transfer Learning solution using a particular pre-trained model. Make sure you understand the flow of the code and the role of each component.\n",
        "\n",
        "    Select Two Other Pre-trained Models: Choose two different pre-trained models available in PyTorch's model zoo.\n",
        "\n",
        "    Apply Transfer Learning: Add cells to implement Transfer Learning using the two models you've chosen. Train these models on the CIFAR-10 dataset.\n",
        "\n",
        "    Evaluation: After training, evaluate your models' performance. Compare the results with the provided solution and try to interpret why there might be differences.\n",
        "\n",
        "    Documentation: In a markdown cell, summarize your findings. Include any challenges you faced, how you overcame them, and any interesting insights you gained from comparing the different pre-trained models.\n",
        "\n",
        "- Note:\n",
        "\n",
        "    Although the provided code serves as a guide, you're encouraged to implement the new solutions on your own. The goal is to reinforce your understanding of Transfer Learning and how to apply it effectively.\n",
        "\n",
        "\n"
      ]
    },
    {
      "cell_type": "markdown",
      "source": [],
      "metadata": {
        "id": "8zm4NcIT4q6Q"
      }
    },
    {
      "cell_type": "code",
      "execution_count": 1,
      "metadata": {
        "id": "CEdL2oGU4iZc"
      },
      "outputs": [],
      "source": [
        "import numpy as np\n",
        "import torch\n",
        "import torch.nn as nn\n",
        "import torch.nn.functional as F\n",
        "\n",
        "from torch.utils.data import DataLoader\n",
        "from torch.utils.data import sampler #Helps making  samples\n",
        "import torchvision.datasets as datasets # Database sets and datasets\n",
        "import torchvision.transforms as T # Helps to make Transformations\n",
        "from torchvision import models # Pre-trained Models"
      ]
    },
    {
      "cell_type": "code",
      "execution_count": 2,
      "metadata": {
        "id": "8fuyT_ad4iZd"
      },
      "outputs": [],
      "source": [
        "import matplotlib.pyplot as plt"
      ]
    },
    {
      "cell_type": "markdown",
      "metadata": {
        "id": "juKXa0JV4iZe"
      },
      "source": [
        "### Descargar sets de datos"
      ]
    },
    {
      "cell_type": "code",
      "execution_count": 32,
      "metadata": {
        "colab": {
          "base_uri": "https://localhost:8080/"
        },
        "id": "oHWnZr6_4iZe",
        "outputId": "b56874fd-351c-4337-f939-a3c7707c51a0"
      },
      "outputs": [
        {
          "output_type": "stream",
          "name": "stdout",
          "text": [
            "Files already downloaded and verified\n",
            "Files already downloaded and verified\n",
            "Files already downloaded and verified\n"
          ]
        }
      ],
      "source": [
        "# DATA_PATH = '/media/pepe/DataUbuntu/Databases/cifar-10/cifar-10-batches-py'\n",
        "DATA_PATH = 'sample_data/Cifar10/'\n",
        "NUM_TRAIN = 45000 #training images\n",
        "MINIBATCH_SIZE = 64 # validation\n",
        "#resize 224x224px\n",
        "transform_imagenet = T.Compose([\n",
        "                T.Resize(224),\n",
        "                T.ToTensor(),\n",
        "                T.Normalize((0.485, 0.456, 0.406), (0.229, 0.224, 0.225))\n",
        "            ])\n",
        "cifar_mean = [0.491, 0.482, 0.447] # well known parameters. RGB\n",
        "cifar_std = [0.247, 0.243, 0.261] # well known parameters. RGB\n",
        "transform_cifar = T.Compose([\n",
        "                T.ToTensor(),\n",
        "                T.Normalize(cifar_mean, cifar_std)\n",
        "            ])\n",
        "\n",
        "# Training set loader\n",
        "cifar10_train = datasets.CIFAR10(DATA_PATH, train=True, download=True,\n",
        "                             transform=transform_imagenet)\n",
        "train_loader = DataLoader(cifar10_train, batch_size=MINIBATCH_SIZE,\n",
        "                          sampler=sampler.SubsetRandomSampler(range(NUM_TRAIN)))\n",
        "\n",
        "# Validation set loader\n",
        "cifar10_val = datasets.CIFAR10(DATA_PATH, train=True, download=True,\n",
        "                           transform=transform_imagenet)\n",
        "val_loader = DataLoader(cifar10_val, batch_size=MINIBATCH_SIZE,\n",
        "                        sampler=sampler.SubsetRandomSampler(range(NUM_TRAIN, len(cifar10_val))))\n",
        "\n",
        "# Testing set loader\n",
        "cifar10_test = datasets.CIFAR10(DATA_PATH, train=False, download=True,\n",
        "                            transform=transform_imagenet)\n",
        "test_loader = DataLoader(cifar10_test, batch_size=MINIBATCH_SIZE)"
      ]
    },
    {
      "cell_type": "code",
      "execution_count": 34,
      "metadata": {
        "colab": {
          "base_uri": "https://localhost:8080/"
        },
        "id": "hIB0OueU4iZe",
        "outputId": "c62fc568-93a4-4f7d-ccec-cd290eb16381"
      },
      "outputs": [
        {
          "output_type": "stream",
          "name": "stdout",
          "text": [
            "0 torch.Size([64, 3, 224, 224]) torch.Size([64])\n",
            "1 torch.Size([64, 3, 224, 224]) torch.Size([64])\n",
            "2 torch.Size([64, 3, 224, 224]) torch.Size([64])\n",
            "3 torch.Size([64, 3, 224, 224]) torch.Size([64])\n",
            "4 torch.Size([64, 3, 224, 224]) torch.Size([64])\n",
            "5 torch.Size([64, 3, 224, 224]) torch.Size([64])\n",
            "6 torch.Size([64, 3, 224, 224]) torch.Size([64])\n",
            "7 torch.Size([64, 3, 224, 224]) torch.Size([64])\n",
            "8 torch.Size([64, 3, 224, 224]) torch.Size([64])\n",
            "9 torch.Size([64, 3, 224, 224]) torch.Size([64])\n",
            "10 torch.Size([64, 3, 224, 224]) torch.Size([64])\n",
            "11 torch.Size([64, 3, 224, 224]) torch.Size([64])\n",
            "12 torch.Size([64, 3, 224, 224]) torch.Size([64])\n",
            "13 torch.Size([64, 3, 224, 224]) torch.Size([64])\n",
            "14 torch.Size([64, 3, 224, 224]) torch.Size([64])\n",
            "15 torch.Size([64, 3, 224, 224]) torch.Size([64])\n",
            "16 torch.Size([64, 3, 224, 224]) torch.Size([64])\n",
            "17 torch.Size([64, 3, 224, 224]) torch.Size([64])\n",
            "18 torch.Size([64, 3, 224, 224]) torch.Size([64])\n",
            "19 torch.Size([64, 3, 224, 224]) torch.Size([64])\n",
            "20 torch.Size([64, 3, 224, 224]) torch.Size([64])\n",
            "21 torch.Size([64, 3, 224, 224]) torch.Size([64])\n",
            "22 torch.Size([64, 3, 224, 224]) torch.Size([64])\n",
            "23 torch.Size([64, 3, 224, 224]) torch.Size([64])\n",
            "24 torch.Size([64, 3, 224, 224]) torch.Size([64])\n",
            "25 torch.Size([64, 3, 224, 224]) torch.Size([64])\n",
            "26 torch.Size([64, 3, 224, 224]) torch.Size([64])\n",
            "27 torch.Size([64, 3, 224, 224]) torch.Size([64])\n",
            "28 torch.Size([64, 3, 224, 224]) torch.Size([64])\n",
            "29 torch.Size([64, 3, 224, 224]) torch.Size([64])\n",
            "30 torch.Size([64, 3, 224, 224]) torch.Size([64])\n",
            "31 torch.Size([64, 3, 224, 224]) torch.Size([64])\n",
            "32 torch.Size([64, 3, 224, 224]) torch.Size([64])\n",
            "33 torch.Size([64, 3, 224, 224]) torch.Size([64])\n",
            "34 torch.Size([64, 3, 224, 224]) torch.Size([64])\n",
            "35 torch.Size([64, 3, 224, 224]) torch.Size([64])\n",
            "36 torch.Size([64, 3, 224, 224]) torch.Size([64])\n",
            "37 torch.Size([64, 3, 224, 224]) torch.Size([64])\n",
            "38 torch.Size([64, 3, 224, 224]) torch.Size([64])\n",
            "39 torch.Size([64, 3, 224, 224]) torch.Size([64])\n",
            "40 torch.Size([64, 3, 224, 224]) torch.Size([64])\n",
            "41 torch.Size([64, 3, 224, 224]) torch.Size([64])\n",
            "42 torch.Size([64, 3, 224, 224]) torch.Size([64])\n",
            "43 torch.Size([64, 3, 224, 224]) torch.Size([64])\n",
            "44 torch.Size([64, 3, 224, 224]) torch.Size([64])\n",
            "45 torch.Size([64, 3, 224, 224]) torch.Size([64])\n",
            "46 torch.Size([64, 3, 224, 224]) torch.Size([64])\n",
            "47 torch.Size([64, 3, 224, 224]) torch.Size([64])\n",
            "48 torch.Size([64, 3, 224, 224]) torch.Size([64])\n",
            "49 torch.Size([64, 3, 224, 224]) torch.Size([64])\n",
            "50 torch.Size([64, 3, 224, 224]) torch.Size([64])\n",
            "51 torch.Size([64, 3, 224, 224]) torch.Size([64])\n",
            "52 torch.Size([64, 3, 224, 224]) torch.Size([64])\n",
            "53 torch.Size([64, 3, 224, 224]) torch.Size([64])\n",
            "54 torch.Size([64, 3, 224, 224]) torch.Size([64])\n",
            "55 torch.Size([64, 3, 224, 224]) torch.Size([64])\n",
            "56 torch.Size([64, 3, 224, 224]) torch.Size([64])\n",
            "57 torch.Size([64, 3, 224, 224]) torch.Size([64])\n",
            "58 torch.Size([64, 3, 224, 224]) torch.Size([64])\n",
            "59 torch.Size([64, 3, 224, 224]) torch.Size([64])\n",
            "60 torch.Size([64, 3, 224, 224]) torch.Size([64])\n",
            "61 torch.Size([64, 3, 224, 224]) torch.Size([64])\n",
            "62 torch.Size([64, 3, 224, 224]) torch.Size([64])\n",
            "63 torch.Size([64, 3, 224, 224]) torch.Size([64])\n",
            "64 torch.Size([64, 3, 224, 224]) torch.Size([64])\n",
            "65 torch.Size([64, 3, 224, 224]) torch.Size([64])\n",
            "66 torch.Size([64, 3, 224, 224]) torch.Size([64])\n",
            "67 torch.Size([64, 3, 224, 224]) torch.Size([64])\n",
            "68 torch.Size([64, 3, 224, 224]) torch.Size([64])\n",
            "69 torch.Size([64, 3, 224, 224]) torch.Size([64])\n",
            "70 torch.Size([64, 3, 224, 224]) torch.Size([64])\n",
            "71 torch.Size([64, 3, 224, 224]) torch.Size([64])\n",
            "72 torch.Size([64, 3, 224, 224]) torch.Size([64])\n",
            "73 torch.Size([64, 3, 224, 224]) torch.Size([64])\n",
            "74 torch.Size([64, 3, 224, 224]) torch.Size([64])\n",
            "75 torch.Size([64, 3, 224, 224]) torch.Size([64])\n",
            "76 torch.Size([64, 3, 224, 224]) torch.Size([64])\n",
            "77 torch.Size([64, 3, 224, 224]) torch.Size([64])\n",
            "78 torch.Size([8, 3, 224, 224]) torch.Size([8])\n"
          ]
        }
      ],
      "source": [
        "for i, (x, y) in enumerate(val_loader):\n",
        "    print(i, x.shape, y.shape)"
      ]
    },
    {
      "cell_type": "code",
      "execution_count": null,
      "metadata": {
        "id": "O7mqkp2c4iZe"
      },
      "outputs": [],
      "source": []
    },
    {
      "cell_type": "markdown",
      "metadata": {
        "id": "6muMizEI4iZe"
      },
      "source": [
        "### Usar GPU"
      ]
    },
    {
      "cell_type": "code",
      "execution_count": 35,
      "metadata": {
        "colab": {
          "base_uri": "https://localhost:8080/"
        },
        "id": "RtFg91M14iZe",
        "outputId": "e785f88d-b69d-45f6-bc3a-3f7f7d04ee11"
      },
      "outputs": [
        {
          "output_type": "stream",
          "name": "stdout",
          "text": [
            "cuda\n"
          ]
        }
      ],
      "source": [
        "if torch.cuda.is_available():\n",
        "    device = torch.device('cuda')\n",
        "else:\n",
        "    device = torch.device('cpu')\n",
        "\n",
        "print(device)"
      ]
    },
    {
      "cell_type": "markdown",
      "metadata": {
        "id": "hZFO-l9H4iZe"
      },
      "source": [
        "### Mostrar imágenes"
      ]
    },
    {
      "cell_type": "code",
      "execution_count": 36,
      "metadata": {
        "colab": {
          "base_uri": "https://localhost:8080/",
          "height": 424
        },
        "id": "hyfAWwTt4iZf",
        "outputId": "6b638158-6342-48f1-e3d2-79df43fe2205"
      },
      "outputs": [
        {
          "output_type": "stream",
          "name": "stdout",
          "text": [
            "La imagen muestreada representa un: Bird\n"
          ]
        },
        {
          "output_type": "display_data",
          "data": {
            "text/plain": [
              "<Figure size 640x480 with 1 Axes>"
            ],
            "image/png": "[encoded data removed]"
          },
          "metadata": {}
        }
      ],
      "source": [
        "classes = ['Plane', 'Car', 'Bird', 'Cat', 'Deer','Dog', 'Frog', 'Horse', 'Ship', 'Truck']\n",
        "\n",
        "def plot_figure(image):\n",
        "    plt.imshow(image.permute(1,2,0))\n",
        "    plt.axis('off')\n",
        "    plt.show()\n",
        "\n",
        "rnd_sample_idx = np.random.randint(len(test_loader))\n",
        "print(f'La imagen muestreada representa un: {classes[test_loader.dataset[rnd_sample_idx][1]]}')\n",
        "image = test_loader.dataset[rnd_sample_idx][0]\n",
        "image = (image - image.min()) / (image.max() -image.min() )\n",
        "plot_figure(image)"
      ]
    },
    {
      "cell_type": "markdown",
      "metadata": {
        "id": "qRT_6npK4iZf"
      },
      "source": [
        "### Calcular Accuracy"
      ]
    },
    {
      "cell_type": "code",
      "execution_count": 37,
      "metadata": {
        "id": "v29zSqJw4iZf"
      },
      "outputs": [],
      "source": [
        "def accuracy(model, loader):\n",
        "    num_correct = 0\n",
        "    num_total = 0\n",
        "    model.eval()\n",
        "    model = model.to(device=device)\n",
        "    with torch.no_grad():\n",
        "        for (xi, yi) in loader:\n",
        "            xi = xi.to(device=device, dtype = torch.float32)\n",
        "            yi = yi.to(device=device, dtype = torch.long)\n",
        "            scores = model(xi) # mb_size, 10\n",
        "            _, pred = scores.max(dim=1) #pred shape (mb_size )\n",
        "            num_correct += (pred == yi).sum() # pred shape (mb_size), yi shape (mb_size, 1)\n",
        "            num_total += pred.size(0)\n",
        "        return float(num_correct)/num_total\n",
        "\n"
      ]
    },
    {
      "cell_type": "markdown",
      "metadata": {
        "id": "NYXLgMc84iZf"
      },
      "source": [
        "### Cargar modelo pre-cargado"
      ]
    },
    {
      "cell_type": "code",
      "execution_count": 39,
      "metadata": {
        "id": "RB68RiDa4iZf"
      },
      "outputs": [],
      "source": [
        "model_resnet18 = models.resnet18(pretrained=True)"
      ]
    },
    {
      "cell_type": "code",
      "source": [
        "# Using GoogLeNet\n",
        "model_GoogLeNet = models.GoogLeNet()"
      ],
      "metadata": {
        "colab": {
          "base_uri": "https://localhost:8080/"
        },
        "id": "nV6gbe3Nj5Zk",
        "outputId": "468655d8-4084-4765-d242-1926126a4f5b"
      },
      "execution_count": 63,
      "outputs": [
        {
          "output_type": "stream",
          "name": "stderr",
          "text": [
            "/usr/local/lib/python3.10/dist-packages/torchvision/models/googlenet.py:47: FutureWarning: The default weight initialization of GoogleNet will be changed in future releases of torchvision. If you wish to keep the old behavior (which leads to long initialization times due to scipy/scipy#11299), please set init_weights=True.\n",
            "  warnings.warn(\n"
          ]
        }
      ]
    },
    {
      "cell_type": "code",
      "source": [
        "# Using AlexNet\n",
        "\n",
        "model_AlexNet = models.alexnet(pretrained=True)"
      ],
      "metadata": {
        "id": "a5Rmca5WnPln"
      },
      "execution_count": null,
      "outputs": []
    },
    {
      "cell_type": "markdown",
      "metadata": {
        "id": "7JGl7kTH4iZf"
      },
      "source": [
        "#### Exploremos el modelo"
      ]
    },
    {
      "cell_type": "markdown",
      "source": [
        "Exploring ResNet"
      ],
      "metadata": {
        "id": "ZLNc2HCwnomD"
      }
    },
    {
      "cell_type": "code",
      "execution_count": 66,
      "metadata": {
        "scrolled": true,
        "colab": {
          "base_uri": "https://localhost:8080/"
        },
        "id": "8ZADWtg74iZf",
        "outputId": "f03be159-1509-4223-d851-773afa43421e"
      },
      "outputs": [
        {
          "output_type": "stream",
          "name": "stdout",
          "text": [
            "0 torch.Size([64, 3, 7, 7]) False\n",
            "1 torch.Size([64]) False\n",
            "2 torch.Size([64]) False\n",
            "3 torch.Size([64, 64, 3, 3]) False\n",
            "4 torch.Size([64]) False\n",
            "5 torch.Size([64]) False\n",
            "6 torch.Size([64, 64, 3, 3]) False\n",
            "7 torch.Size([64]) False\n",
            "8 torch.Size([64]) False\n",
            "9 torch.Size([64, 64, 3, 3]) False\n",
            "10 torch.Size([64]) False\n",
            "11 torch.Size([64]) False\n",
            "12 torch.Size([64, 64, 3, 3]) False\n",
            "13 torch.Size([64]) False\n",
            "14 torch.Size([64]) False\n",
            "15 torch.Size([128, 64, 3, 3]) False\n",
            "16 torch.Size([128]) False\n",
            "17 torch.Size([128]) False\n",
            "18 torch.Size([128, 128, 3, 3]) False\n",
            "19 torch.Size([128]) False\n",
            "20 torch.Size([128]) False\n",
            "21 torch.Size([128, 64, 1, 1]) False\n",
            "22 torch.Size([128]) False\n",
            "23 torch.Size([128]) False\n",
            "24 torch.Size([128, 128, 3, 3]) False\n",
            "25 torch.Size([128]) False\n",
            "26 torch.Size([128]) False\n",
            "27 torch.Size([128, 128, 3, 3]) False\n",
            "28 torch.Size([128]) False\n",
            "29 torch.Size([128]) False\n",
            "30 torch.Size([256, 128, 3, 3]) False\n",
            "31 torch.Size([256]) False\n",
            "32 torch.Size([256]) False\n",
            "33 torch.Size([256, 256, 3, 3]) False\n",
            "34 torch.Size([256]) False\n",
            "35 torch.Size([256]) False\n",
            "36 torch.Size([256, 128, 1, 1]) False\n",
            "37 torch.Size([256]) False\n",
            "38 torch.Size([256]) False\n",
            "39 torch.Size([256, 256, 3, 3]) False\n",
            "40 torch.Size([256]) False\n",
            "41 torch.Size([256]) False\n",
            "42 torch.Size([256, 256, 3, 3]) False\n",
            "43 torch.Size([256]) False\n",
            "44 torch.Size([256]) False\n",
            "45 torch.Size([512, 256, 3, 3]) False\n",
            "46 torch.Size([512]) False\n",
            "47 torch.Size([512]) False\n",
            "48 torch.Size([512, 512, 3, 3]) False\n",
            "49 torch.Size([512]) False\n",
            "50 torch.Size([512]) False\n",
            "51 torch.Size([512, 256, 1, 1]) False\n",
            "52 torch.Size([512]) False\n",
            "53 torch.Size([512]) False\n",
            "54 torch.Size([512, 512, 3, 3]) False\n",
            "55 torch.Size([512]) False\n",
            "56 torch.Size([512]) False\n",
            "57 torch.Size([512, 512, 3, 3]) False\n",
            "58 torch.Size([512]) False\n",
            "59 torch.Size([512]) False\n",
            "60 torch.Size([1000, 512]) True\n",
            "61 torch.Size([1000]) True\n"
          ]
        }
      ],
      "source": [
        "for i, w in enumerate(model_resnet18.parameters()):\n",
        "    print(i, w.shape, w.requires_grad)"
      ]
    },
    {
      "cell_type": "code",
      "execution_count": 41,
      "metadata": {
        "scrolled": true,
        "colab": {
          "base_uri": "https://localhost:8080/"
        },
        "id": "bK-ZD2dC4iZf",
        "outputId": "86dd8dd9-d443-4763-ca96-02d019b2cb95"
      },
      "outputs": [
        {
          "output_type": "execute_result",
          "data": {
            "text/plain": [
              "ResNet(\n",
              "  (conv1): Conv2d(3, 64, kernel_size=(7, 7), stride=(2, 2), padding=(3, 3), bias=False)\n",
              "  (bn1): BatchNorm2d(64, eps=1e-05, momentum=0.1, affine=True, track_running_stats=True)\n",
              "  (relu): ReLU(inplace=True)\n",
              "  (maxpool): MaxPool2d(kernel_size=3, stride=2, padding=1, dilation=1, ceil_mode=False)\n",
              "  (layer1): Sequential(\n",
              "    (0): BasicBlock(\n",
              "      (conv1): Conv2d(64, 64, kernel_size=(3, 3), stride=(1, 1), padding=(1, 1), bias=False)\n",
              "      (bn1): BatchNorm2d(64, eps=1e-05, momentum=0.1, affine=True, track_running_stats=True)\n",
              "      (relu): ReLU(inplace=True)\n",
              "      (conv2): Conv2d(64, 64, kernel_size=(3, 3), stride=(1, 1), padding=(1, 1), bias=False)\n",
              "      (bn2): BatchNorm2d(64, eps=1e-05, momentum=0.1, affine=True, track_running_stats=True)\n",
              "    )\n",
              "    (1): BasicBlock(\n",
              "      (conv1): Conv2d(64, 64, kernel_size=(3, 3), stride=(1, 1), padding=(1, 1), bias=False)\n",
              "      (bn1): BatchNorm2d(64, eps=1e-05, momentum=0.1, affine=True, track_running_stats=True)\n",
              "      (relu): ReLU(inplace=True)\n",
              "      (conv2): Conv2d(64, 64, kernel_size=(3, 3), stride=(1, 1), padding=(1, 1), bias=False)\n",
              "      (bn2): BatchNorm2d(64, eps=1e-05, momentum=0.1, affine=True, track_running_stats=True)\n",
              "    )\n",
              "  )\n",
              "  (layer2): Sequential(\n",
              "    (0): BasicBlock(\n",
              "      (conv1): Conv2d(64, 128, kernel_size=(3, 3), stride=(2, 2), padding=(1, 1), bias=False)\n",
              "      (bn1): BatchNorm2d(128, eps=1e-05, momentum=0.1, affine=True, track_running_stats=True)\n",
              "      (relu): ReLU(inplace=True)\n",
              "      (conv2): Conv2d(128, 128, kernel_size=(3, 3), stride=(1, 1), padding=(1, 1), bias=False)\n",
              "      (bn2): BatchNorm2d(128, eps=1e-05, momentum=0.1, affine=True, track_running_stats=True)\n",
              "      (downsample): Sequential(\n",
              "        (0): Conv2d(64, 128, kernel_size=(1, 1), stride=(2, 2), bias=False)\n",
              "        (1): BatchNorm2d(128, eps=1e-05, momentum=0.1, affine=True, track_running_stats=True)\n",
              "      )\n",
              "    )\n",
              "    (1): BasicBlock(\n",
              "      (conv1): Conv2d(128, 128, kernel_size=(3, 3), stride=(1, 1), padding=(1, 1), bias=False)\n",
              "      (bn1): BatchNorm2d(128, eps=1e-05, momentum=0.1, affine=True, track_running_stats=True)\n",
              "      (relu): ReLU(inplace=True)\n",
              "      (conv2): Conv2d(128, 128, kernel_size=(3, 3), stride=(1, 1), padding=(1, 1), bias=False)\n",
              "      (bn2): BatchNorm2d(128, eps=1e-05, momentum=0.1, affine=True, track_running_stats=True)\n",
              "    )\n",
              "  )\n",
              "  (layer3): Sequential(\n",
              "    (0): BasicBlock(\n",
              "      (conv1): Conv2d(128, 256, kernel_size=(3, 3), stride=(2, 2), padding=(1, 1), bias=False)\n",
              "      (bn1): BatchNorm2d(256, eps=1e-05, momentum=0.1, affine=True, track_running_stats=True)\n",
              "      (relu): ReLU(inplace=True)\n",
              "      (conv2): Conv2d(256, 256, kernel_size=(3, 3), stride=(1, 1), padding=(1, 1), bias=False)\n",
              "      (bn2): BatchNorm2d(256, eps=1e-05, momentum=0.1, affine=True, track_running_stats=True)\n",
              "      (downsample): Sequential(\n",
              "        (0): Conv2d(128, 256, kernel_size=(1, 1), stride=(2, 2), bias=False)\n",
              "        (1): BatchNorm2d(256, eps=1e-05, momentum=0.1, affine=True, track_running_stats=True)\n",
              "      )\n",
              "    )\n",
              "    (1): BasicBlock(\n",
              "      (conv1): Conv2d(256, 256, kernel_size=(3, 3), stride=(1, 1), padding=(1, 1), bias=False)\n",
              "      (bn1): BatchNorm2d(256, eps=1e-05, momentum=0.1, affine=True, track_running_stats=True)\n",
              "      (relu): ReLU(inplace=True)\n",
              "      (conv2): Conv2d(256, 256, kernel_size=(3, 3), stride=(1, 1), padding=(1, 1), bias=False)\n",
              "      (bn2): BatchNorm2d(256, eps=1e-05, momentum=0.1, affine=True, track_running_stats=True)\n",
              "    )\n",
              "  )\n",
              "  (layer4): Sequential(\n",
              "    (0): BasicBlock(\n",
              "      (conv1): Conv2d(256, 512, kernel_size=(3, 3), stride=(2, 2), padding=(1, 1), bias=False)\n",
              "      (bn1): BatchNorm2d(512, eps=1e-05, momentum=0.1, affine=True, track_running_stats=True)\n",
              "      (relu): ReLU(inplace=True)\n",
              "      (conv2): Conv2d(512, 512, kernel_size=(3, 3), stride=(1, 1), padding=(1, 1), bias=False)\n",
              "      (bn2): BatchNorm2d(512, eps=1e-05, momentum=0.1, affine=True, track_running_stats=True)\n",
              "      (downsample): Sequential(\n",
              "        (0): Conv2d(256, 512, kernel_size=(1, 1), stride=(2, 2), bias=False)\n",
              "        (1): BatchNorm2d(512, eps=1e-05, momentum=0.1, affine=True, track_running_stats=True)\n",
              "      )\n",
              "    )\n",
              "    (1): BasicBlock(\n",
              "      (conv1): Conv2d(512, 512, kernel_size=(3, 3), stride=(1, 1), padding=(1, 1), bias=False)\n",
              "      (bn1): BatchNorm2d(512, eps=1e-05, momentum=0.1, affine=True, track_running_stats=True)\n",
              "      (relu): ReLU(inplace=True)\n",
              "      (conv2): Conv2d(512, 512, kernel_size=(3, 3), stride=(1, 1), padding=(1, 1), bias=False)\n",
              "      (bn2): BatchNorm2d(512, eps=1e-05, momentum=0.1, affine=True, track_running_stats=True)\n",
              "    )\n",
              "  )\n",
              "  (avgpool): AdaptiveAvgPool2d(output_size=(1, 1))\n",
              "  (fc): Linear(in_features=512, out_features=1000, bias=True)\n",
              ")"
            ]
          },
          "metadata": {},
          "execution_count": 41
        }
      ],
      "source": [
        "model_resnet18"
      ]
    },
    {
      "cell_type": "markdown",
      "source": [
        "Exploring GoogLeNet"
      ],
      "metadata": {
        "id": "cBcUVbypn2Gq"
      }
    },
    {
      "cell_type": "code",
      "source": [
        "#Model 2\n",
        "for i, w in enumerate(model_GoogLeNet.parameters()):\n",
        "    print(i, w.shape, w.requires_grad)"
      ],
      "metadata": {
        "colab": {
          "base_uri": "https://localhost:8080/"
        },
        "id": "9BHZYbj2k8vr",
        "outputId": "f69e1176-ce88-48ae-e501-beebd874374b"
      },
      "execution_count": 55,
      "outputs": [
        {
          "output_type": "stream",
          "name": "stdout",
          "text": [
            "0 torch.Size([64, 3, 7, 7]) True\n",
            "1 torch.Size([64]) True\n",
            "2 torch.Size([64]) True\n",
            "3 torch.Size([64, 64, 1, 1]) True\n",
            "4 torch.Size([64]) True\n",
            "5 torch.Size([64]) True\n",
            "6 torch.Size([192, 64, 3, 3]) True\n",
            "7 torch.Size([192]) True\n",
            "8 torch.Size([192]) True\n",
            "9 torch.Size([64, 192, 1, 1]) True\n",
            "10 torch.Size([64]) True\n",
            "11 torch.Size([64]) True\n",
            "12 torch.Size([96, 192, 1, 1]) True\n",
            "13 torch.Size([96]) True\n",
            "14 torch.Size([96]) True\n",
            "15 torch.Size([128, 96, 3, 3]) True\n",
            "16 torch.Size([128]) True\n",
            "17 torch.Size([128]) True\n",
            "18 torch.Size([16, 192, 1, 1]) True\n",
            "19 torch.Size([16]) True\n",
            "20 torch.Size([16]) True\n",
            "21 torch.Size([32, 16, 3, 3]) True\n",
            "22 torch.Size([32]) True\n",
            "23 torch.Size([32]) True\n",
            "24 torch.Size([32, 192, 1, 1]) True\n",
            "25 torch.Size([32]) True\n",
            "26 torch.Size([32]) True\n",
            "27 torch.Size([128, 256, 1, 1]) True\n",
            "28 torch.Size([128]) True\n",
            "29 torch.Size([128]) True\n",
            "30 torch.Size([128, 256, 1, 1]) True\n",
            "31 torch.Size([128]) True\n",
            "32 torch.Size([128]) True\n",
            "33 torch.Size([192, 128, 3, 3]) True\n",
            "34 torch.Size([192]) True\n",
            "35 torch.Size([192]) True\n",
            "36 torch.Size([32, 256, 1, 1]) True\n",
            "37 torch.Size([32]) True\n",
            "38 torch.Size([32]) True\n",
            "39 torch.Size([96, 32, 3, 3]) True\n",
            "40 torch.Size([96]) True\n",
            "41 torch.Size([96]) True\n",
            "42 torch.Size([64, 256, 1, 1]) True\n",
            "43 torch.Size([64]) True\n",
            "44 torch.Size([64]) True\n",
            "45 torch.Size([192, 480, 1, 1]) True\n",
            "46 torch.Size([192]) True\n",
            "47 torch.Size([192]) True\n",
            "48 torch.Size([96, 480, 1, 1]) True\n",
            "49 torch.Size([96]) True\n",
            "50 torch.Size([96]) True\n",
            "51 torch.Size([208, 96, 3, 3]) True\n",
            "52 torch.Size([208]) True\n",
            "53 torch.Size([208]) True\n",
            "54 torch.Size([16, 480, 1, 1]) True\n",
            "55 torch.Size([16]) True\n",
            "56 torch.Size([16]) True\n",
            "57 torch.Size([48, 16, 3, 3]) True\n",
            "58 torch.Size([48]) True\n",
            "59 torch.Size([48]) True\n",
            "60 torch.Size([64, 480, 1, 1]) True\n",
            "61 torch.Size([64]) True\n",
            "62 torch.Size([64]) True\n",
            "63 torch.Size([160, 512, 1, 1]) True\n",
            "64 torch.Size([160]) True\n",
            "65 torch.Size([160]) True\n",
            "66 torch.Size([112, 512, 1, 1]) True\n",
            "67 torch.Size([112]) True\n",
            "68 torch.Size([112]) True\n",
            "69 torch.Size([224, 112, 3, 3]) True\n",
            "70 torch.Size([224]) True\n",
            "71 torch.Size([224]) True\n",
            "72 torch.Size([24, 512, 1, 1]) True\n",
            "73 torch.Size([24]) True\n",
            "74 torch.Size([24]) True\n",
            "75 torch.Size([64, 24, 3, 3]) True\n",
            "76 torch.Size([64]) True\n",
            "77 torch.Size([64]) True\n",
            "78 torch.Size([64, 512, 1, 1]) True\n",
            "79 torch.Size([64]) True\n",
            "80 torch.Size([64]) True\n",
            "81 torch.Size([128, 512, 1, 1]) True\n",
            "82 torch.Size([128]) True\n",
            "83 torch.Size([128]) True\n",
            "84 torch.Size([128, 512, 1, 1]) True\n",
            "85 torch.Size([128]) True\n",
            "86 torch.Size([128]) True\n",
            "87 torch.Size([256, 128, 3, 3]) True\n",
            "88 torch.Size([256]) True\n",
            "89 torch.Size([256]) True\n",
            "90 torch.Size([24, 512, 1, 1]) True\n",
            "91 torch.Size([24]) True\n",
            "92 torch.Size([24]) True\n",
            "93 torch.Size([64, 24, 3, 3]) True\n",
            "94 torch.Size([64]) True\n",
            "95 torch.Size([64]) True\n",
            "96 torch.Size([64, 512, 1, 1]) True\n",
            "97 torch.Size([64]) True\n",
            "98 torch.Size([64]) True\n",
            "99 torch.Size([112, 512, 1, 1]) True\n",
            "100 torch.Size([112]) True\n",
            "101 torch.Size([112]) True\n",
            "102 torch.Size([144, 512, 1, 1]) True\n",
            "103 torch.Size([144]) True\n",
            "104 torch.Size([144]) True\n",
            "105 torch.Size([288, 144, 3, 3]) True\n",
            "106 torch.Size([288]) True\n",
            "107 torch.Size([288]) True\n",
            "108 torch.Size([32, 512, 1, 1]) True\n",
            "109 torch.Size([32]) True\n",
            "110 torch.Size([32]) True\n",
            "111 torch.Size([64, 32, 3, 3]) True\n",
            "112 torch.Size([64]) True\n",
            "113 torch.Size([64]) True\n",
            "114 torch.Size([64, 512, 1, 1]) True\n",
            "115 torch.Size([64]) True\n",
            "116 torch.Size([64]) True\n",
            "117 torch.Size([256, 528, 1, 1]) True\n",
            "118 torch.Size([256]) True\n",
            "119 torch.Size([256]) True\n",
            "120 torch.Size([160, 528, 1, 1]) True\n",
            "121 torch.Size([160]) True\n",
            "122 torch.Size([160]) True\n",
            "123 torch.Size([320, 160, 3, 3]) True\n",
            "124 torch.Size([320]) True\n",
            "125 torch.Size([320]) True\n",
            "126 torch.Size([32, 528, 1, 1]) True\n",
            "127 torch.Size([32]) True\n",
            "128 torch.Size([32]) True\n",
            "129 torch.Size([128, 32, 3, 3]) True\n",
            "130 torch.Size([128]) True\n",
            "131 torch.Size([128]) True\n",
            "132 torch.Size([128, 528, 1, 1]) True\n",
            "133 torch.Size([128]) True\n",
            "134 torch.Size([128]) True\n",
            "135 torch.Size([256, 832, 1, 1]) True\n",
            "136 torch.Size([256]) True\n",
            "137 torch.Size([256]) True\n",
            "138 torch.Size([160, 832, 1, 1]) True\n",
            "139 torch.Size([160]) True\n",
            "140 torch.Size([160]) True\n",
            "141 torch.Size([320, 160, 3, 3]) True\n",
            "142 torch.Size([320]) True\n",
            "143 torch.Size([320]) True\n",
            "144 torch.Size([32, 832, 1, 1]) True\n",
            "145 torch.Size([32]) True\n",
            "146 torch.Size([32]) True\n",
            "147 torch.Size([128, 32, 3, 3]) True\n",
            "148 torch.Size([128]) True\n",
            "149 torch.Size([128]) True\n",
            "150 torch.Size([128, 832, 1, 1]) True\n",
            "151 torch.Size([128]) True\n",
            "152 torch.Size([128]) True\n",
            "153 torch.Size([384, 832, 1, 1]) True\n",
            "154 torch.Size([384]) True\n",
            "155 torch.Size([384]) True\n",
            "156 torch.Size([192, 832, 1, 1]) True\n",
            "157 torch.Size([192]) True\n",
            "158 torch.Size([192]) True\n",
            "159 torch.Size([384, 192, 3, 3]) True\n",
            "160 torch.Size([384]) True\n",
            "161 torch.Size([384]) True\n",
            "162 torch.Size([48, 832, 1, 1]) True\n",
            "163 torch.Size([48]) True\n",
            "164 torch.Size([48]) True\n",
            "165 torch.Size([128, 48, 3, 3]) True\n",
            "166 torch.Size([128]) True\n",
            "167 torch.Size([128]) True\n",
            "168 torch.Size([128, 832, 1, 1]) True\n",
            "169 torch.Size([128]) True\n",
            "170 torch.Size([128]) True\n",
            "171 torch.Size([128, 512, 1, 1]) True\n",
            "172 torch.Size([128]) True\n",
            "173 torch.Size([128]) True\n",
            "174 torch.Size([1024, 2048]) True\n",
            "175 torch.Size([1024]) True\n",
            "176 torch.Size([1000, 1024]) True\n",
            "177 torch.Size([1000]) True\n",
            "178 torch.Size([128, 528, 1, 1]) True\n",
            "179 torch.Size([128]) True\n",
            "180 torch.Size([128]) True\n",
            "181 torch.Size([1024, 2048]) True\n",
            "182 torch.Size([1024]) True\n",
            "183 torch.Size([1000, 1024]) True\n",
            "184 torch.Size([1000]) True\n",
            "185 torch.Size([1000, 1024]) True\n",
            "186 torch.Size([1000]) True\n"
          ]
        }
      ]
    },
    {
      "cell_type": "markdown",
      "source": [
        "Exploring AlexNet"
      ],
      "metadata": {
        "id": "jtPbQUlIoCum"
      }
    },
    {
      "cell_type": "code",
      "source": [
        "#Model 2\n",
        "for i, w in enumerate(model_AlexNet.parameters()):\n",
        "    print(i, w.shape, w.requires_grad)"
      ],
      "metadata": {
        "colab": {
          "base_uri": "https://localhost:8080/"
        },
        "id": "DIZLALlBoEFK",
        "outputId": "f6ecc2d2-2112-4ced-bb17-fbac8587010f"
      },
      "execution_count": 104,
      "outputs": [
        {
          "output_type": "stream",
          "name": "stdout",
          "text": [
            "0 torch.Size([64, 3, 11, 11]) False\n",
            "1 torch.Size([64]) False\n",
            "2 torch.Size([192, 64, 5, 5]) False\n",
            "3 torch.Size([192]) False\n",
            "4 torch.Size([384, 192, 3, 3]) False\n",
            "5 torch.Size([384]) False\n",
            "6 torch.Size([256, 384, 3, 3]) False\n",
            "7 torch.Size([256]) False\n",
            "8 torch.Size([256, 256, 3, 3]) False\n",
            "9 torch.Size([256]) False\n",
            "10 torch.Size([4096, 9216]) False\n",
            "11 torch.Size([4096]) False\n",
            "12 torch.Size([4096, 4096]) False\n",
            "13 torch.Size([4096]) False\n",
            "14 torch.Size([1000, 4096]) False\n",
            "15 torch.Size([1000]) False\n"
          ]
        }
      ]
    },
    {
      "cell_type": "markdown",
      "metadata": {
        "id": "Lrb-5NG84iZf"
      },
      "source": [
        "#### Ajustar a nuestro modelo"
      ]
    },
    {
      "cell_type": "markdown",
      "source": [
        "Adjusting ResNet"
      ],
      "metadata": {
        "id": "s3WbU8qvoIPT"
      }
    },
    {
      "cell_type": "code",
      "execution_count": 105,
      "metadata": {
        "colab": {
          "base_uri": "https://localhost:8080/"
        },
        "id": "Qj6jOh784iZg",
        "outputId": "5d413a0f-7451-4c36-af94-dcd8946bf0ad"
      },
      "outputs": [
        {
          "output_type": "execute_result",
          "data": {
            "text/plain": [
              "Sequential(\n",
              "  (0): Conv2d(3, 64, kernel_size=(7, 7), stride=(2, 2), padding=(3, 3), bias=False)\n",
              "  (1): BatchNorm2d(64, eps=1e-05, momentum=0.1, affine=True, track_running_stats=True)\n",
              "  (2): ReLU(inplace=True)\n",
              "  (3): MaxPool2d(kernel_size=3, stride=2, padding=1, dilation=1, ceil_mode=False)\n",
              "  (4): Sequential(\n",
              "    (0): BasicBlock(\n",
              "      (conv1): Conv2d(64, 64, kernel_size=(3, 3), stride=(1, 1), padding=(1, 1), bias=False)\n",
              "      (bn1): BatchNorm2d(64, eps=1e-05, momentum=0.1, affine=True, track_running_stats=True)\n",
              "      (relu): ReLU(inplace=True)\n",
              "      (conv2): Conv2d(64, 64, kernel_size=(3, 3), stride=(1, 1), padding=(1, 1), bias=False)\n",
              "      (bn2): BatchNorm2d(64, eps=1e-05, momentum=0.1, affine=True, track_running_stats=True)\n",
              "    )\n",
              "    (1): BasicBlock(\n",
              "      (conv1): Conv2d(64, 64, kernel_size=(3, 3), stride=(1, 1), padding=(1, 1), bias=False)\n",
              "      (bn1): BatchNorm2d(64, eps=1e-05, momentum=0.1, affine=True, track_running_stats=True)\n",
              "      (relu): ReLU(inplace=True)\n",
              "      (conv2): Conv2d(64, 64, kernel_size=(3, 3), stride=(1, 1), padding=(1, 1), bias=False)\n",
              "      (bn2): BatchNorm2d(64, eps=1e-05, momentum=0.1, affine=True, track_running_stats=True)\n",
              "    )\n",
              "  )\n",
              "  (5): Sequential(\n",
              "    (0): BasicBlock(\n",
              "      (conv1): Conv2d(64, 128, kernel_size=(3, 3), stride=(2, 2), padding=(1, 1), bias=False)\n",
              "      (bn1): BatchNorm2d(128, eps=1e-05, momentum=0.1, affine=True, track_running_stats=True)\n",
              "      (relu): ReLU(inplace=True)\n",
              "      (conv2): Conv2d(128, 128, kernel_size=(3, 3), stride=(1, 1), padding=(1, 1), bias=False)\n",
              "      (bn2): BatchNorm2d(128, eps=1e-05, momentum=0.1, affine=True, track_running_stats=True)\n",
              "      (downsample): Sequential(\n",
              "        (0): Conv2d(64, 128, kernel_size=(1, 1), stride=(2, 2), bias=False)\n",
              "        (1): BatchNorm2d(128, eps=1e-05, momentum=0.1, affine=True, track_running_stats=True)\n",
              "      )\n",
              "    )\n",
              "    (1): BasicBlock(\n",
              "      (conv1): Conv2d(128, 128, kernel_size=(3, 3), stride=(1, 1), padding=(1, 1), bias=False)\n",
              "      (bn1): BatchNorm2d(128, eps=1e-05, momentum=0.1, affine=True, track_running_stats=True)\n",
              "      (relu): ReLU(inplace=True)\n",
              "      (conv2): Conv2d(128, 128, kernel_size=(3, 3), stride=(1, 1), padding=(1, 1), bias=False)\n",
              "      (bn2): BatchNorm2d(128, eps=1e-05, momentum=0.1, affine=True, track_running_stats=True)\n",
              "    )\n",
              "  )\n",
              "  (6): Sequential(\n",
              "    (0): BasicBlock(\n",
              "      (conv1): Conv2d(128, 256, kernel_size=(3, 3), stride=(2, 2), padding=(1, 1), bias=False)\n",
              "      (bn1): BatchNorm2d(256, eps=1e-05, momentum=0.1, affine=True, track_running_stats=True)\n",
              "      (relu): ReLU(inplace=True)\n",
              "      (conv2): Conv2d(256, 256, kernel_size=(3, 3), stride=(1, 1), padding=(1, 1), bias=False)\n",
              "      (bn2): BatchNorm2d(256, eps=1e-05, momentum=0.1, affine=True, track_running_stats=True)\n",
              "      (downsample): Sequential(\n",
              "        (0): Conv2d(128, 256, kernel_size=(1, 1), stride=(2, 2), bias=False)\n",
              "        (1): BatchNorm2d(256, eps=1e-05, momentum=0.1, affine=True, track_running_stats=True)\n",
              "      )\n",
              "    )\n",
              "    (1): BasicBlock(\n",
              "      (conv1): Conv2d(256, 256, kernel_size=(3, 3), stride=(1, 1), padding=(1, 1), bias=False)\n",
              "      (bn1): BatchNorm2d(256, eps=1e-05, momentum=0.1, affine=True, track_running_stats=True)\n",
              "      (relu): ReLU(inplace=True)\n",
              "      (conv2): Conv2d(256, 256, kernel_size=(3, 3), stride=(1, 1), padding=(1, 1), bias=False)\n",
              "      (bn2): BatchNorm2d(256, eps=1e-05, momentum=0.1, affine=True, track_running_stats=True)\n",
              "    )\n",
              "  )\n",
              "  (7): Sequential(\n",
              "    (0): BasicBlock(\n",
              "      (conv1): Conv2d(256, 512, kernel_size=(3, 3), stride=(2, 2), padding=(1, 1), bias=False)\n",
              "      (bn1): BatchNorm2d(512, eps=1e-05, momentum=0.1, affine=True, track_running_stats=True)\n",
              "      (relu): ReLU(inplace=True)\n",
              "      (conv2): Conv2d(512, 512, kernel_size=(3, 3), stride=(1, 1), padding=(1, 1), bias=False)\n",
              "      (bn2): BatchNorm2d(512, eps=1e-05, momentum=0.1, affine=True, track_running_stats=True)\n",
              "      (downsample): Sequential(\n",
              "        (0): Conv2d(256, 512, kernel_size=(1, 1), stride=(2, 2), bias=False)\n",
              "        (1): BatchNorm2d(512, eps=1e-05, momentum=0.1, affine=True, track_running_stats=True)\n",
              "      )\n",
              "    )\n",
              "    (1): BasicBlock(\n",
              "      (conv1): Conv2d(512, 512, kernel_size=(3, 3), stride=(1, 1), padding=(1, 1), bias=False)\n",
              "      (bn1): BatchNorm2d(512, eps=1e-05, momentum=0.1, affine=True, track_running_stats=True)\n",
              "      (relu): ReLU(inplace=True)\n",
              "      (conv2): Conv2d(512, 512, kernel_size=(3, 3), stride=(1, 1), padding=(1, 1), bias=False)\n",
              "      (bn2): BatchNorm2d(512, eps=1e-05, momentum=0.1, affine=True, track_running_stats=True)\n",
              "    )\n",
              "  )\n",
              "  (8): AdaptiveAvgPool2d(output_size=(1, 1))\n",
              "  (9): Linear(in_features=512, out_features=1000, bias=True)\n",
              ")"
            ]
          },
          "metadata": {},
          "execution_count": 105
        }
      ],
      "source": [
        "model_aux = nn.Sequential(*list(model_resnet18.children()))\n",
        "model_aux"
      ]
    },
    {
      "cell_type": "code",
      "execution_count": 106,
      "metadata": {
        "id": "hK8vvJFJ4iZg"
      },
      "outputs": [],
      "source": [
        "model_aux = nn.Sequential(*list(model_resnet18.children())[:-1])"
      ]
    },
    {
      "cell_type": "code",
      "execution_count": 107,
      "metadata": {
        "scrolled": true,
        "colab": {
          "base_uri": "https://localhost:8080/"
        },
        "id": "NtJ_jBzN4iZg",
        "outputId": "a0600c84-65ef-4387-b1e5-7f7f5bcb1db3"
      },
      "outputs": [
        {
          "output_type": "execute_result",
          "data": {
            "text/plain": [
              "Sequential(\n",
              "  (0): Conv2d(3, 64, kernel_size=(7, 7), stride=(2, 2), padding=(3, 3), bias=False)\n",
              "  (1): BatchNorm2d(64, eps=1e-05, momentum=0.1, affine=True, track_running_stats=True)\n",
              "  (2): ReLU(inplace=True)\n",
              "  (3): MaxPool2d(kernel_size=3, stride=2, padding=1, dilation=1, ceil_mode=False)\n",
              "  (4): Sequential(\n",
              "    (0): BasicBlock(\n",
              "      (conv1): Conv2d(64, 64, kernel_size=(3, 3), stride=(1, 1), padding=(1, 1), bias=False)\n",
              "      (bn1): BatchNorm2d(64, eps=1e-05, momentum=0.1, affine=True, track_running_stats=True)\n",
              "      (relu): ReLU(inplace=True)\n",
              "      (conv2): Conv2d(64, 64, kernel_size=(3, 3), stride=(1, 1), padding=(1, 1), bias=False)\n",
              "      (bn2): BatchNorm2d(64, eps=1e-05, momentum=0.1, affine=True, track_running_stats=True)\n",
              "    )\n",
              "    (1): BasicBlock(\n",
              "      (conv1): Conv2d(64, 64, kernel_size=(3, 3), stride=(1, 1), padding=(1, 1), bias=False)\n",
              "      (bn1): BatchNorm2d(64, eps=1e-05, momentum=0.1, affine=True, track_running_stats=True)\n",
              "      (relu): ReLU(inplace=True)\n",
              "      (conv2): Conv2d(64, 64, kernel_size=(3, 3), stride=(1, 1), padding=(1, 1), bias=False)\n",
              "      (bn2): BatchNorm2d(64, eps=1e-05, momentum=0.1, affine=True, track_running_stats=True)\n",
              "    )\n",
              "  )\n",
              "  (5): Sequential(\n",
              "    (0): BasicBlock(\n",
              "      (conv1): Conv2d(64, 128, kernel_size=(3, 3), stride=(2, 2), padding=(1, 1), bias=False)\n",
              "      (bn1): BatchNorm2d(128, eps=1e-05, momentum=0.1, affine=True, track_running_stats=True)\n",
              "      (relu): ReLU(inplace=True)\n",
              "      (conv2): Conv2d(128, 128, kernel_size=(3, 3), stride=(1, 1), padding=(1, 1), bias=False)\n",
              "      (bn2): BatchNorm2d(128, eps=1e-05, momentum=0.1, affine=True, track_running_stats=True)\n",
              "      (downsample): Sequential(\n",
              "        (0): Conv2d(64, 128, kernel_size=(1, 1), stride=(2, 2), bias=False)\n",
              "        (1): BatchNorm2d(128, eps=1e-05, momentum=0.1, affine=True, track_running_stats=True)\n",
              "      )\n",
              "    )\n",
              "    (1): BasicBlock(\n",
              "      (conv1): Conv2d(128, 128, kernel_size=(3, 3), stride=(1, 1), padding=(1, 1), bias=False)\n",
              "      (bn1): BatchNorm2d(128, eps=1e-05, momentum=0.1, affine=True, track_running_stats=True)\n",
              "      (relu): ReLU(inplace=True)\n",
              "      (conv2): Conv2d(128, 128, kernel_size=(3, 3), stride=(1, 1), padding=(1, 1), bias=False)\n",
              "      (bn2): BatchNorm2d(128, eps=1e-05, momentum=0.1, affine=True, track_running_stats=True)\n",
              "    )\n",
              "  )\n",
              "  (6): Sequential(\n",
              "    (0): BasicBlock(\n",
              "      (conv1): Conv2d(128, 256, kernel_size=(3, 3), stride=(2, 2), padding=(1, 1), bias=False)\n",
              "      (bn1): BatchNorm2d(256, eps=1e-05, momentum=0.1, affine=True, track_running_stats=True)\n",
              "      (relu): ReLU(inplace=True)\n",
              "      (conv2): Conv2d(256, 256, kernel_size=(3, 3), stride=(1, 1), padding=(1, 1), bias=False)\n",
              "      (bn2): BatchNorm2d(256, eps=1e-05, momentum=0.1, affine=True, track_running_stats=True)\n",
              "      (downsample): Sequential(\n",
              "        (0): Conv2d(128, 256, kernel_size=(1, 1), stride=(2, 2), bias=False)\n",
              "        (1): BatchNorm2d(256, eps=1e-05, momentum=0.1, affine=True, track_running_stats=True)\n",
              "      )\n",
              "    )\n",
              "    (1): BasicBlock(\n",
              "      (conv1): Conv2d(256, 256, kernel_size=(3, 3), stride=(1, 1), padding=(1, 1), bias=False)\n",
              "      (bn1): BatchNorm2d(256, eps=1e-05, momentum=0.1, affine=True, track_running_stats=True)\n",
              "      (relu): ReLU(inplace=True)\n",
              "      (conv2): Conv2d(256, 256, kernel_size=(3, 3), stride=(1, 1), padding=(1, 1), bias=False)\n",
              "      (bn2): BatchNorm2d(256, eps=1e-05, momentum=0.1, affine=True, track_running_stats=True)\n",
              "    )\n",
              "  )\n",
              "  (7): Sequential(\n",
              "    (0): BasicBlock(\n",
              "      (conv1): Conv2d(256, 512, kernel_size=(3, 3), stride=(2, 2), padding=(1, 1), bias=False)\n",
              "      (bn1): BatchNorm2d(512, eps=1e-05, momentum=0.1, affine=True, track_running_stats=True)\n",
              "      (relu): ReLU(inplace=True)\n",
              "      (conv2): Conv2d(512, 512, kernel_size=(3, 3), stride=(1, 1), padding=(1, 1), bias=False)\n",
              "      (bn2): BatchNorm2d(512, eps=1e-05, momentum=0.1, affine=True, track_running_stats=True)\n",
              "      (downsample): Sequential(\n",
              "        (0): Conv2d(256, 512, kernel_size=(1, 1), stride=(2, 2), bias=False)\n",
              "        (1): BatchNorm2d(512, eps=1e-05, momentum=0.1, affine=True, track_running_stats=True)\n",
              "      )\n",
              "    )\n",
              "    (1): BasicBlock(\n",
              "      (conv1): Conv2d(512, 512, kernel_size=(3, 3), stride=(1, 1), padding=(1, 1), bias=False)\n",
              "      (bn1): BatchNorm2d(512, eps=1e-05, momentum=0.1, affine=True, track_running_stats=True)\n",
              "      (relu): ReLU(inplace=True)\n",
              "      (conv2): Conv2d(512, 512, kernel_size=(3, 3), stride=(1, 1), padding=(1, 1), bias=False)\n",
              "      (bn2): BatchNorm2d(512, eps=1e-05, momentum=0.1, affine=True, track_running_stats=True)\n",
              "    )\n",
              "  )\n",
              "  (8): AdaptiveAvgPool2d(output_size=(1, 1))\n",
              ")"
            ]
          },
          "metadata": {},
          "execution_count": 107
        }
      ],
      "source": [
        "model_aux"
      ]
    },
    {
      "cell_type": "markdown",
      "source": [
        "Adjusting GoogLeNet"
      ],
      "metadata": {
        "id": "bieKDNsxoN_p"
      }
    },
    {
      "cell_type": "code",
      "source": [
        "model_aux2 = nn.Sequential(*list(model_GoogLeNet.children()))\n",
        "model_aux2 = nn.Sequential(*list(model_GoogLeNet.children())[:-1])\n",
        "model_aux2"
      ],
      "metadata": {
        "colab": {
          "base_uri": "https://localhost:8080/"
        },
        "id": "qs4u2WnLlO8g",
        "outputId": "5c7c3c40-e7c1-4574-ffd7-c7fa59692b6f"
      },
      "execution_count": 108,
      "outputs": [
        {
          "output_type": "execute_result",
          "data": {
            "text/plain": [
              "Sequential(\n",
              "  (0): BasicConv2d(\n",
              "    (conv): Conv2d(3, 64, kernel_size=(7, 7), stride=(2, 2), padding=(3, 3), bias=False)\n",
              "    (bn): BatchNorm2d(64, eps=0.001, momentum=0.1, affine=True, track_running_stats=True)\n",
              "  )\n",
              "  (1): MaxPool2d(kernel_size=3, stride=2, padding=0, dilation=1, ceil_mode=True)\n",
              "  (2): BasicConv2d(\n",
              "    (conv): Conv2d(64, 64, kernel_size=(1, 1), stride=(1, 1), bias=False)\n",
              "    (bn): BatchNorm2d(64, eps=0.001, momentum=0.1, affine=True, track_running_stats=True)\n",
              "  )\n",
              "  (3): BasicConv2d(\n",
              "    (conv): Conv2d(64, 192, kernel_size=(3, 3), stride=(1, 1), padding=(1, 1), bias=False)\n",
              "    (bn): BatchNorm2d(192, eps=0.001, momentum=0.1, affine=True, track_running_stats=True)\n",
              "  )\n",
              "  (4): MaxPool2d(kernel_size=3, stride=2, padding=0, dilation=1, ceil_mode=True)\n",
              "  (5): Inception(\n",
              "    (branch1): BasicConv2d(\n",
              "      (conv): Conv2d(192, 64, kernel_size=(1, 1), stride=(1, 1), bias=False)\n",
              "      (bn): BatchNorm2d(64, eps=0.001, momentum=0.1, affine=True, track_running_stats=True)\n",
              "    )\n",
              "    (branch2): Sequential(\n",
              "      (0): BasicConv2d(\n",
              "        (conv): Conv2d(192, 96, kernel_size=(1, 1), stride=(1, 1), bias=False)\n",
              "        (bn): BatchNorm2d(96, eps=0.001, momentum=0.1, affine=True, track_running_stats=True)\n",
              "      )\n",
              "      (1): BasicConv2d(\n",
              "        (conv): Conv2d(96, 128, kernel_size=(3, 3), stride=(1, 1), padding=(1, 1), bias=False)\n",
              "        (bn): BatchNorm2d(128, eps=0.001, momentum=0.1, affine=True, track_running_stats=True)\n",
              "      )\n",
              "    )\n",
              "    (branch3): Sequential(\n",
              "      (0): BasicConv2d(\n",
              "        (conv): Conv2d(192, 16, kernel_size=(1, 1), stride=(1, 1), bias=False)\n",
              "        (bn): BatchNorm2d(16, eps=0.001, momentum=0.1, affine=True, track_running_stats=True)\n",
              "      )\n",
              "      (1): BasicConv2d(\n",
              "        (conv): Conv2d(16, 32, kernel_size=(3, 3), stride=(1, 1), padding=(1, 1), bias=False)\n",
              "        (bn): BatchNorm2d(32, eps=0.001, momentum=0.1, affine=True, track_running_stats=True)\n",
              "      )\n",
              "    )\n",
              "    (branch4): Sequential(\n",
              "      (0): MaxPool2d(kernel_size=3, stride=1, padding=1, dilation=1, ceil_mode=True)\n",
              "      (1): BasicConv2d(\n",
              "        (conv): Conv2d(192, 32, kernel_size=(1, 1), stride=(1, 1), bias=False)\n",
              "        (bn): BatchNorm2d(32, eps=0.001, momentum=0.1, affine=True, track_running_stats=True)\n",
              "      )\n",
              "    )\n",
              "  )\n",
              "  (6): Inception(\n",
              "    (branch1): BasicConv2d(\n",
              "      (conv): Conv2d(256, 128, kernel_size=(1, 1), stride=(1, 1), bias=False)\n",
              "      (bn): BatchNorm2d(128, eps=0.001, momentum=0.1, affine=True, track_running_stats=True)\n",
              "    )\n",
              "    (branch2): Sequential(\n",
              "      (0): BasicConv2d(\n",
              "        (conv): Conv2d(256, 128, kernel_size=(1, 1), stride=(1, 1), bias=False)\n",
              "        (bn): BatchNorm2d(128, eps=0.001, momentum=0.1, affine=True, track_running_stats=True)\n",
              "      )\n",
              "      (1): BasicConv2d(\n",
              "        (conv): Conv2d(128, 192, kernel_size=(3, 3), stride=(1, 1), padding=(1, 1), bias=False)\n",
              "        (bn): BatchNorm2d(192, eps=0.001, momentum=0.1, affine=True, track_running_stats=True)\n",
              "      )\n",
              "    )\n",
              "    (branch3): Sequential(\n",
              "      (0): BasicConv2d(\n",
              "        (conv): Conv2d(256, 32, kernel_size=(1, 1), stride=(1, 1), bias=False)\n",
              "        (bn): BatchNorm2d(32, eps=0.001, momentum=0.1, affine=True, track_running_stats=True)\n",
              "      )\n",
              "      (1): BasicConv2d(\n",
              "        (conv): Conv2d(32, 96, kernel_size=(3, 3), stride=(1, 1), padding=(1, 1), bias=False)\n",
              "        (bn): BatchNorm2d(96, eps=0.001, momentum=0.1, affine=True, track_running_stats=True)\n",
              "      )\n",
              "    )\n",
              "    (branch4): Sequential(\n",
              "      (0): MaxPool2d(kernel_size=3, stride=1, padding=1, dilation=1, ceil_mode=True)\n",
              "      (1): BasicConv2d(\n",
              "        (conv): Conv2d(256, 64, kernel_size=(1, 1), stride=(1, 1), bias=False)\n",
              "        (bn): BatchNorm2d(64, eps=0.001, momentum=0.1, affine=True, track_running_stats=True)\n",
              "      )\n",
              "    )\n",
              "  )\n",
              "  (7): MaxPool2d(kernel_size=3, stride=2, padding=0, dilation=1, ceil_mode=True)\n",
              "  (8): Inception(\n",
              "    (branch1): BasicConv2d(\n",
              "      (conv): Conv2d(480, 192, kernel_size=(1, 1), stride=(1, 1), bias=False)\n",
              "      (bn): BatchNorm2d(192, eps=0.001, momentum=0.1, affine=True, track_running_stats=True)\n",
              "    )\n",
              "    (branch2): Sequential(\n",
              "      (0): BasicConv2d(\n",
              "        (conv): Conv2d(480, 96, kernel_size=(1, 1), stride=(1, 1), bias=False)\n",
              "        (bn): BatchNorm2d(96, eps=0.001, momentum=0.1, affine=True, track_running_stats=True)\n",
              "      )\n",
              "      (1): BasicConv2d(\n",
              "        (conv): Conv2d(96, 208, kernel_size=(3, 3), stride=(1, 1), padding=(1, 1), bias=False)\n",
              "        (bn): BatchNorm2d(208, eps=0.001, momentum=0.1, affine=True, track_running_stats=True)\n",
              "      )\n",
              "    )\n",
              "    (branch3): Sequential(\n",
              "      (0): BasicConv2d(\n",
              "        (conv): Conv2d(480, 16, kernel_size=(1, 1), stride=(1, 1), bias=False)\n",
              "        (bn): BatchNorm2d(16, eps=0.001, momentum=0.1, affine=True, track_running_stats=True)\n",
              "      )\n",
              "      (1): BasicConv2d(\n",
              "        (conv): Conv2d(16, 48, kernel_size=(3, 3), stride=(1, 1), padding=(1, 1), bias=False)\n",
              "        (bn): BatchNorm2d(48, eps=0.001, momentum=0.1, affine=True, track_running_stats=True)\n",
              "      )\n",
              "    )\n",
              "    (branch4): Sequential(\n",
              "      (0): MaxPool2d(kernel_size=3, stride=1, padding=1, dilation=1, ceil_mode=True)\n",
              "      (1): BasicConv2d(\n",
              "        (conv): Conv2d(480, 64, kernel_size=(1, 1), stride=(1, 1), bias=False)\n",
              "        (bn): BatchNorm2d(64, eps=0.001, momentum=0.1, affine=True, track_running_stats=True)\n",
              "      )\n",
              "    )\n",
              "  )\n",
              "  (9): Inception(\n",
              "    (branch1): BasicConv2d(\n",
              "      (conv): Conv2d(512, 160, kernel_size=(1, 1), stride=(1, 1), bias=False)\n",
              "      (bn): BatchNorm2d(160, eps=0.001, momentum=0.1, affine=True, track_running_stats=True)\n",
              "    )\n",
              "    (branch2): Sequential(\n",
              "      (0): BasicConv2d(\n",
              "        (conv): Conv2d(512, 112, kernel_size=(1, 1), stride=(1, 1), bias=False)\n",
              "        (bn): BatchNorm2d(112, eps=0.001, momentum=0.1, affine=True, track_running_stats=True)\n",
              "      )\n",
              "      (1): BasicConv2d(\n",
              "        (conv): Conv2d(112, 224, kernel_size=(3, 3), stride=(1, 1), padding=(1, 1), bias=False)\n",
              "        (bn): BatchNorm2d(224, eps=0.001, momentum=0.1, affine=True, track_running_stats=True)\n",
              "      )\n",
              "    )\n",
              "    (branch3): Sequential(\n",
              "      (0): BasicConv2d(\n",
              "        (conv): Conv2d(512, 24, kernel_size=(1, 1), stride=(1, 1), bias=False)\n",
              "        (bn): BatchNorm2d(24, eps=0.001, momentum=0.1, affine=True, track_running_stats=True)\n",
              "      )\n",
              "      (1): BasicConv2d(\n",
              "        (conv): Conv2d(24, 64, kernel_size=(3, 3), stride=(1, 1), padding=(1, 1), bias=False)\n",
              "        (bn): BatchNorm2d(64, eps=0.001, momentum=0.1, affine=True, track_running_stats=True)\n",
              "      )\n",
              "    )\n",
              "    (branch4): Sequential(\n",
              "      (0): MaxPool2d(kernel_size=3, stride=1, padding=1, dilation=1, ceil_mode=True)\n",
              "      (1): BasicConv2d(\n",
              "        (conv): Conv2d(512, 64, kernel_size=(1, 1), stride=(1, 1), bias=False)\n",
              "        (bn): BatchNorm2d(64, eps=0.001, momentum=0.1, affine=True, track_running_stats=True)\n",
              "      )\n",
              "    )\n",
              "  )\n",
              "  (10): Inception(\n",
              "    (branch1): BasicConv2d(\n",
              "      (conv): Conv2d(512, 128, kernel_size=(1, 1), stride=(1, 1), bias=False)\n",
              "      (bn): BatchNorm2d(128, eps=0.001, momentum=0.1, affine=True, track_running_stats=True)\n",
              "    )\n",
              "    (branch2): Sequential(\n",
              "      (0): BasicConv2d(\n",
              "        (conv): Conv2d(512, 128, kernel_size=(1, 1), stride=(1, 1), bias=False)\n",
              "        (bn): BatchNorm2d(128, eps=0.001, momentum=0.1, affine=True, track_running_stats=True)\n",
              "      )\n",
              "      (1): BasicConv2d(\n",
              "        (conv): Conv2d(128, 256, kernel_size=(3, 3), stride=(1, 1), padding=(1, 1), bias=False)\n",
              "        (bn): BatchNorm2d(256, eps=0.001, momentum=0.1, affine=True, track_running_stats=True)\n",
              "      )\n",
              "    )\n",
              "    (branch3): Sequential(\n",
              "      (0): BasicConv2d(\n",
              "        (conv): Conv2d(512, 24, kernel_size=(1, 1), stride=(1, 1), bias=False)\n",
              "        (bn): BatchNorm2d(24, eps=0.001, momentum=0.1, affine=True, track_running_stats=True)\n",
              "      )\n",
              "      (1): BasicConv2d(\n",
              "        (conv): Conv2d(24, 64, kernel_size=(3, 3), stride=(1, 1), padding=(1, 1), bias=False)\n",
              "        (bn): BatchNorm2d(64, eps=0.001, momentum=0.1, affine=True, track_running_stats=True)\n",
              "      )\n",
              "    )\n",
              "    (branch4): Sequential(\n",
              "      (0): MaxPool2d(kernel_size=3, stride=1, padding=1, dilation=1, ceil_mode=True)\n",
              "      (1): BasicConv2d(\n",
              "        (conv): Conv2d(512, 64, kernel_size=(1, 1), stride=(1, 1), bias=False)\n",
              "        (bn): BatchNorm2d(64, eps=0.001, momentum=0.1, affine=True, track_running_stats=True)\n",
              "      )\n",
              "    )\n",
              "  )\n",
              "  (11): Inception(\n",
              "    (branch1): BasicConv2d(\n",
              "      (conv): Conv2d(512, 112, kernel_size=(1, 1), stride=(1, 1), bias=False)\n",
              "      (bn): BatchNorm2d(112, eps=0.001, momentum=0.1, affine=True, track_running_stats=True)\n",
              "    )\n",
              "    (branch2): Sequential(\n",
              "      (0): BasicConv2d(\n",
              "        (conv): Conv2d(512, 144, kernel_size=(1, 1), stride=(1, 1), bias=False)\n",
              "        (bn): BatchNorm2d(144, eps=0.001, momentum=0.1, affine=True, track_running_stats=True)\n",
              "      )\n",
              "      (1): BasicConv2d(\n",
              "        (conv): Conv2d(144, 288, kernel_size=(3, 3), stride=(1, 1), padding=(1, 1), bias=False)\n",
              "        (bn): BatchNorm2d(288, eps=0.001, momentum=0.1, affine=True, track_running_stats=True)\n",
              "      )\n",
              "    )\n",
              "    (branch3): Sequential(\n",
              "      (0): BasicConv2d(\n",
              "        (conv): Conv2d(512, 32, kernel_size=(1, 1), stride=(1, 1), bias=False)\n",
              "        (bn): BatchNorm2d(32, eps=0.001, momentum=0.1, affine=True, track_running_stats=True)\n",
              "      )\n",
              "      (1): BasicConv2d(\n",
              "        (conv): Conv2d(32, 64, kernel_size=(3, 3), stride=(1, 1), padding=(1, 1), bias=False)\n",
              "        (bn): BatchNorm2d(64, eps=0.001, momentum=0.1, affine=True, track_running_stats=True)\n",
              "      )\n",
              "    )\n",
              "    (branch4): Sequential(\n",
              "      (0): MaxPool2d(kernel_size=3, stride=1, padding=1, dilation=1, ceil_mode=True)\n",
              "      (1): BasicConv2d(\n",
              "        (conv): Conv2d(512, 64, kernel_size=(1, 1), stride=(1, 1), bias=False)\n",
              "        (bn): BatchNorm2d(64, eps=0.001, momentum=0.1, affine=True, track_running_stats=True)\n",
              "      )\n",
              "    )\n",
              "  )\n",
              "  (12): Inception(\n",
              "    (branch1): BasicConv2d(\n",
              "      (conv): Conv2d(528, 256, kernel_size=(1, 1), stride=(1, 1), bias=False)\n",
              "      (bn): BatchNorm2d(256, eps=0.001, momentum=0.1, affine=True, track_running_stats=True)\n",
              "    )\n",
              "    (branch2): Sequential(\n",
              "      (0): BasicConv2d(\n",
              "        (conv): Conv2d(528, 160, kernel_size=(1, 1), stride=(1, 1), bias=False)\n",
              "        (bn): BatchNorm2d(160, eps=0.001, momentum=0.1, affine=True, track_running_stats=True)\n",
              "      )\n",
              "      (1): BasicConv2d(\n",
              "        (conv): Conv2d(160, 320, kernel_size=(3, 3), stride=(1, 1), padding=(1, 1), bias=False)\n",
              "        (bn): BatchNorm2d(320, eps=0.001, momentum=0.1, affine=True, track_running_stats=True)\n",
              "      )\n",
              "    )\n",
              "    (branch3): Sequential(\n",
              "      (0): BasicConv2d(\n",
              "        (conv): Conv2d(528, 32, kernel_size=(1, 1), stride=(1, 1), bias=False)\n",
              "        (bn): BatchNorm2d(32, eps=0.001, momentum=0.1, affine=True, track_running_stats=True)\n",
              "      )\n",
              "      (1): BasicConv2d(\n",
              "        (conv): Conv2d(32, 128, kernel_size=(3, 3), stride=(1, 1), padding=(1, 1), bias=False)\n",
              "        (bn): BatchNorm2d(128, eps=0.001, momentum=0.1, affine=True, track_running_stats=True)\n",
              "      )\n",
              "    )\n",
              "    (branch4): Sequential(\n",
              "      (0): MaxPool2d(kernel_size=3, stride=1, padding=1, dilation=1, ceil_mode=True)\n",
              "      (1): BasicConv2d(\n",
              "        (conv): Conv2d(528, 128, kernel_size=(1, 1), stride=(1, 1), bias=False)\n",
              "        (bn): BatchNorm2d(128, eps=0.001, momentum=0.1, affine=True, track_running_stats=True)\n",
              "      )\n",
              "    )\n",
              "  )\n",
              "  (13): MaxPool2d(kernel_size=2, stride=2, padding=0, dilation=1, ceil_mode=True)\n",
              "  (14): Inception(\n",
              "    (branch1): BasicConv2d(\n",
              "      (conv): Conv2d(832, 256, kernel_size=(1, 1), stride=(1, 1), bias=False)\n",
              "      (bn): BatchNorm2d(256, eps=0.001, momentum=0.1, affine=True, track_running_stats=True)\n",
              "    )\n",
              "    (branch2): Sequential(\n",
              "      (0): BasicConv2d(\n",
              "        (conv): Conv2d(832, 160, kernel_size=(1, 1), stride=(1, 1), bias=False)\n",
              "        (bn): BatchNorm2d(160, eps=0.001, momentum=0.1, affine=True, track_running_stats=True)\n",
              "      )\n",
              "      (1): BasicConv2d(\n",
              "        (conv): Conv2d(160, 320, kernel_size=(3, 3), stride=(1, 1), padding=(1, 1), bias=False)\n",
              "        (bn): BatchNorm2d(320, eps=0.001, momentum=0.1, affine=True, track_running_stats=True)\n",
              "      )\n",
              "    )\n",
              "    (branch3): Sequential(\n",
              "      (0): BasicConv2d(\n",
              "        (conv): Conv2d(832, 32, kernel_size=(1, 1), stride=(1, 1), bias=False)\n",
              "        (bn): BatchNorm2d(32, eps=0.001, momentum=0.1, affine=True, track_running_stats=True)\n",
              "      )\n",
              "      (1): BasicConv2d(\n",
              "        (conv): Conv2d(32, 128, kernel_size=(3, 3), stride=(1, 1), padding=(1, 1), bias=False)\n",
              "        (bn): BatchNorm2d(128, eps=0.001, momentum=0.1, affine=True, track_running_stats=True)\n",
              "      )\n",
              "    )\n",
              "    (branch4): Sequential(\n",
              "      (0): MaxPool2d(kernel_size=3, stride=1, padding=1, dilation=1, ceil_mode=True)\n",
              "      (1): BasicConv2d(\n",
              "        (conv): Conv2d(832, 128, kernel_size=(1, 1), stride=(1, 1), bias=False)\n",
              "        (bn): BatchNorm2d(128, eps=0.001, momentum=0.1, affine=True, track_running_stats=True)\n",
              "      )\n",
              "    )\n",
              "  )\n",
              "  (15): Inception(\n",
              "    (branch1): BasicConv2d(\n",
              "      (conv): Conv2d(832, 384, kernel_size=(1, 1), stride=(1, 1), bias=False)\n",
              "      (bn): BatchNorm2d(384, eps=0.001, momentum=0.1, affine=True, track_running_stats=True)\n",
              "    )\n",
              "    (branch2): Sequential(\n",
              "      (0): BasicConv2d(\n",
              "        (conv): Conv2d(832, 192, kernel_size=(1, 1), stride=(1, 1), bias=False)\n",
              "        (bn): BatchNorm2d(192, eps=0.001, momentum=0.1, affine=True, track_running_stats=True)\n",
              "      )\n",
              "      (1): BasicConv2d(\n",
              "        (conv): Conv2d(192, 384, kernel_size=(3, 3), stride=(1, 1), padding=(1, 1), bias=False)\n",
              "        (bn): BatchNorm2d(384, eps=0.001, momentum=0.1, affine=True, track_running_stats=True)\n",
              "      )\n",
              "    )\n",
              "    (branch3): Sequential(\n",
              "      (0): BasicConv2d(\n",
              "        (conv): Conv2d(832, 48, kernel_size=(1, 1), stride=(1, 1), bias=False)\n",
              "        (bn): BatchNorm2d(48, eps=0.001, momentum=0.1, affine=True, track_running_stats=True)\n",
              "      )\n",
              "      (1): BasicConv2d(\n",
              "        (conv): Conv2d(48, 128, kernel_size=(3, 3), stride=(1, 1), padding=(1, 1), bias=False)\n",
              "        (bn): BatchNorm2d(128, eps=0.001, momentum=0.1, affine=True, track_running_stats=True)\n",
              "      )\n",
              "    )\n",
              "    (branch4): Sequential(\n",
              "      (0): MaxPool2d(kernel_size=3, stride=1, padding=1, dilation=1, ceil_mode=True)\n",
              "      (1): BasicConv2d(\n",
              "        (conv): Conv2d(832, 128, kernel_size=(1, 1), stride=(1, 1), bias=False)\n",
              "        (bn): BatchNorm2d(128, eps=0.001, momentum=0.1, affine=True, track_running_stats=True)\n",
              "      )\n",
              "    )\n",
              "  )\n",
              "  (16): InceptionAux(\n",
              "    (conv): BasicConv2d(\n",
              "      (conv): Conv2d(512, 128, kernel_size=(1, 1), stride=(1, 1), bias=False)\n",
              "      (bn): BatchNorm2d(128, eps=0.001, momentum=0.1, affine=True, track_running_stats=True)\n",
              "    )\n",
              "    (fc1): Linear(in_features=2048, out_features=1024, bias=True)\n",
              "    (fc2): Linear(in_features=1024, out_features=1000, bias=True)\n",
              "    (dropout): Dropout(p=0.7, inplace=False)\n",
              "  )\n",
              "  (17): InceptionAux(\n",
              "    (conv): BasicConv2d(\n",
              "      (conv): Conv2d(528, 128, kernel_size=(1, 1), stride=(1, 1), bias=False)\n",
              "      (bn): BatchNorm2d(128, eps=0.001, momentum=0.1, affine=True, track_running_stats=True)\n",
              "    )\n",
              "    (fc1): Linear(in_features=2048, out_features=1024, bias=True)\n",
              "    (fc2): Linear(in_features=1024, out_features=1000, bias=True)\n",
              "    (dropout): Dropout(p=0.7, inplace=False)\n",
              "  )\n",
              "  (18): AdaptiveAvgPool2d(output_size=(1, 1))\n",
              "  (19): Dropout(p=0.2, inplace=False)\n",
              ")"
            ]
          },
          "metadata": {},
          "execution_count": 108
        }
      ]
    },
    {
      "cell_type": "markdown",
      "source": [
        "Adjusting AlexNet"
      ],
      "metadata": {
        "id": "5FjqlwXboTpX"
      }
    },
    {
      "cell_type": "code",
      "source": [
        "model_aux3 = nn.Sequential(*list(model_AlexNet.children()))\n",
        "# model_aux3 = nn.Sequential(*list(model_AlexNet.children())[:-1])\n",
        "model_aux3"
      ],
      "metadata": {
        "colab": {
          "base_uri": "https://localhost:8080/"
        },
        "id": "E9_CgfJhoStf",
        "outputId": "a4a1f5ba-9bab-4114-9ac4-8e2251a677f5"
      },
      "execution_count": 109,
      "outputs": [
        {
          "output_type": "execute_result",
          "data": {
            "text/plain": [
              "Sequential(\n",
              "  (0): Sequential(\n",
              "    (0): Conv2d(3, 64, kernel_size=(11, 11), stride=(4, 4), padding=(2, 2))\n",
              "    (1): ReLU(inplace=True)\n",
              "    (2): MaxPool2d(kernel_size=3, stride=2, padding=0, dilation=1, ceil_mode=False)\n",
              "    (3): Conv2d(64, 192, kernel_size=(5, 5), stride=(1, 1), padding=(2, 2))\n",
              "    (4): ReLU(inplace=True)\n",
              "    (5): MaxPool2d(kernel_size=3, stride=2, padding=0, dilation=1, ceil_mode=False)\n",
              "    (6): Conv2d(192, 384, kernel_size=(3, 3), stride=(1, 1), padding=(1, 1))\n",
              "    (7): ReLU(inplace=True)\n",
              "    (8): Conv2d(384, 256, kernel_size=(3, 3), stride=(1, 1), padding=(1, 1))\n",
              "    (9): ReLU(inplace=True)\n",
              "    (10): Conv2d(256, 256, kernel_size=(3, 3), stride=(1, 1), padding=(1, 1))\n",
              "    (11): ReLU(inplace=True)\n",
              "    (12): MaxPool2d(kernel_size=3, stride=2, padding=0, dilation=1, ceil_mode=False)\n",
              "  )\n",
              "  (1): AdaptiveAvgPool2d(output_size=(6, 6))\n",
              "  (2): Sequential(\n",
              "    (0): Dropout(p=0.5, inplace=False)\n",
              "    (1): Linear(in_features=9216, out_features=4096, bias=True)\n",
              "    (2): ReLU(inplace=True)\n",
              "    (3): Dropout(p=0.5, inplace=False)\n",
              "    (4): Linear(in_features=4096, out_features=4096, bias=True)\n",
              "    (5): ReLU(inplace=True)\n",
              "    (6): Linear(in_features=4096, out_features=1000, bias=True)\n",
              "  )\n",
              ")"
            ]
          },
          "metadata": {},
          "execution_count": 109
        }
      ]
    },
    {
      "cell_type": "markdown",
      "source": [
        "Setting train flag to false, so we can train only the last layer"
      ],
      "metadata": {
        "id": "CqhQpdVmob-C"
      }
    },
    {
      "cell_type": "code",
      "execution_count": 110,
      "metadata": {
        "id": "Wogyayak4iZg"
      },
      "outputs": [],
      "source": [
        "for i, parameter in enumerate(model_aux.parameters()):\n",
        "    parameter.requires_grad = False\n",
        "\n",
        "for i, parameter in enumerate(model_aux2.parameters()):\n",
        "    parameter.requires_grad = False\n",
        "\n",
        "for i, parameter in enumerate(model_aux3.parameters()):\n",
        "    parameter.requires_grad = False"
      ]
    },
    {
      "cell_type": "code",
      "execution_count": 111,
      "metadata": {
        "scrolled": true,
        "colab": {
          "base_uri": "https://localhost:8080/"
        },
        "id": "ruLpzaoc4iZg",
        "outputId": "3e85b750-9d1d-4948-b899-8f75619cd038"
      },
      "outputs": [
        {
          "output_type": "stream",
          "name": "stdout",
          "text": [
            "0 False\n",
            "1 False\n",
            "2 False\n",
            "3 False\n",
            "4 False\n",
            "5 False\n",
            "6 False\n",
            "7 False\n",
            "8 False\n",
            "9 False\n",
            "10 False\n",
            "11 False\n",
            "12 False\n",
            "13 False\n",
            "14 False\n",
            "15 False\n",
            "16 False\n",
            "17 False\n",
            "18 False\n",
            "19 False\n",
            "20 False\n",
            "21 False\n",
            "22 False\n",
            "23 False\n",
            "24 False\n",
            "25 False\n",
            "26 False\n",
            "27 False\n",
            "28 False\n",
            "29 False\n",
            "30 False\n",
            "31 False\n",
            "32 False\n",
            "33 False\n",
            "34 False\n",
            "35 False\n",
            "36 False\n",
            "37 False\n",
            "38 False\n",
            "39 False\n",
            "40 False\n",
            "41 False\n",
            "42 False\n",
            "43 False\n",
            "44 False\n",
            "45 False\n",
            "46 False\n",
            "47 False\n",
            "48 False\n",
            "49 False\n",
            "50 False\n",
            "51 False\n",
            "52 False\n",
            "53 False\n",
            "54 False\n",
            "55 False\n",
            "56 False\n",
            "57 False\n",
            "58 False\n",
            "59 False\n"
          ]
        }
      ],
      "source": [
        "for i, parameter in enumerate(model_aux.parameters()):\n",
        "    print(i, parameter.requires_grad)"
      ]
    },
    {
      "cell_type": "code",
      "source": [
        "for i, parameter in enumerate(model_aux2.parameters()):\n",
        "    print(i, parameter.requires_grad)"
      ],
      "metadata": {
        "colab": {
          "base_uri": "https://localhost:8080/"
        },
        "id": "3uo2RxcgleF-",
        "outputId": "ef208785-6189-4e62-db2b-36489cbddc36"
      },
      "execution_count": 112,
      "outputs": [
        {
          "output_type": "stream",
          "name": "stdout",
          "text": [
            "0 False\n",
            "1 False\n",
            "2 False\n",
            "3 False\n",
            "4 False\n",
            "5 False\n",
            "6 False\n",
            "7 False\n",
            "8 False\n",
            "9 False\n",
            "10 False\n",
            "11 False\n",
            "12 False\n",
            "13 False\n",
            "14 False\n",
            "15 False\n",
            "16 False\n",
            "17 False\n",
            "18 False\n",
            "19 False\n",
            "20 False\n",
            "21 False\n",
            "22 False\n",
            "23 False\n",
            "24 False\n",
            "25 False\n",
            "26 False\n",
            "27 False\n",
            "28 False\n",
            "29 False\n",
            "30 False\n",
            "31 False\n",
            "32 False\n",
            "33 False\n",
            "34 False\n",
            "35 False\n",
            "36 False\n",
            "37 False\n",
            "38 False\n",
            "39 False\n",
            "40 False\n",
            "41 False\n",
            "42 False\n",
            "43 False\n",
            "44 False\n",
            "45 False\n",
            "46 False\n",
            "47 False\n",
            "48 False\n",
            "49 False\n",
            "50 False\n",
            "51 False\n",
            "52 False\n",
            "53 False\n",
            "54 False\n",
            "55 False\n",
            "56 False\n",
            "57 False\n",
            "58 False\n",
            "59 False\n",
            "60 False\n",
            "61 False\n",
            "62 False\n",
            "63 False\n",
            "64 False\n",
            "65 False\n",
            "66 False\n",
            "67 False\n",
            "68 False\n",
            "69 False\n",
            "70 False\n",
            "71 False\n",
            "72 False\n",
            "73 False\n",
            "74 False\n",
            "75 False\n",
            "76 False\n",
            "77 False\n",
            "78 False\n",
            "79 False\n",
            "80 False\n",
            "81 False\n",
            "82 False\n",
            "83 False\n",
            "84 False\n",
            "85 False\n",
            "86 False\n",
            "87 False\n",
            "88 False\n",
            "89 False\n",
            "90 False\n",
            "91 False\n",
            "92 False\n",
            "93 False\n",
            "94 False\n",
            "95 False\n",
            "96 False\n",
            "97 False\n",
            "98 False\n",
            "99 False\n",
            "100 False\n",
            "101 False\n",
            "102 False\n",
            "103 False\n",
            "104 False\n",
            "105 False\n",
            "106 False\n",
            "107 False\n",
            "108 False\n",
            "109 False\n",
            "110 False\n",
            "111 False\n",
            "112 False\n",
            "113 False\n",
            "114 False\n",
            "115 False\n",
            "116 False\n",
            "117 False\n",
            "118 False\n",
            "119 False\n",
            "120 False\n",
            "121 False\n",
            "122 False\n",
            "123 False\n",
            "124 False\n",
            "125 False\n",
            "126 False\n",
            "127 False\n",
            "128 False\n",
            "129 False\n",
            "130 False\n",
            "131 False\n",
            "132 False\n",
            "133 False\n",
            "134 False\n",
            "135 False\n",
            "136 False\n",
            "137 False\n",
            "138 False\n",
            "139 False\n",
            "140 False\n",
            "141 False\n",
            "142 False\n",
            "143 False\n",
            "144 False\n",
            "145 False\n",
            "146 False\n",
            "147 False\n",
            "148 False\n",
            "149 False\n",
            "150 False\n",
            "151 False\n",
            "152 False\n",
            "153 False\n",
            "154 False\n",
            "155 False\n",
            "156 False\n",
            "157 False\n",
            "158 False\n",
            "159 False\n",
            "160 False\n",
            "161 False\n",
            "162 False\n",
            "163 False\n",
            "164 False\n",
            "165 False\n",
            "166 False\n",
            "167 False\n",
            "168 False\n",
            "169 False\n",
            "170 False\n",
            "171 False\n",
            "172 False\n",
            "173 False\n",
            "174 False\n",
            "175 False\n",
            "176 False\n",
            "177 False\n",
            "178 False\n",
            "179 False\n",
            "180 False\n",
            "181 False\n",
            "182 False\n",
            "183 False\n",
            "184 False\n"
          ]
        }
      ]
    },
    {
      "cell_type": "code",
      "source": [
        "for i, parameter in enumerate(model_aux3.parameters()):\n",
        "    print(i, parameter.requires_grad)"
      ],
      "metadata": {
        "colab": {
          "base_uri": "https://localhost:8080/"
        },
        "id": "SKeffQwXo2Qx",
        "outputId": "cbeee1a2-c8a4-42db-feb5-ad368856dd67"
      },
      "execution_count": 113,
      "outputs": [
        {
          "output_type": "stream",
          "name": "stdout",
          "text": [
            "0 False\n",
            "1 False\n",
            "2 False\n",
            "3 False\n",
            "4 False\n",
            "5 False\n",
            "6 False\n",
            "7 False\n",
            "8 False\n",
            "9 False\n",
            "10 False\n",
            "11 False\n",
            "12 False\n",
            "13 False\n",
            "14 False\n",
            "15 False\n"
          ]
        }
      ]
    },
    {
      "cell_type": "markdown",
      "metadata": {
        "id": "qav9QdhX4iZg"
      },
      "source": [
        "### Loop de entrenamiento"
      ]
    },
    {
      "cell_type": "code",
      "execution_count": 114,
      "metadata": {
        "id": "NhAzlDwq4iZg"
      },
      "outputs": [],
      "source": [
        "def train(model, optimiser, epochs=100):\n",
        "#     def train(model, optimiser, scheduler = None, epochs=100):\n",
        "    model = model.to(device=device)\n",
        "    for epoch in range(epochs):\n",
        "        for i, (xi, yi) in enumerate(train_loader):\n",
        "            model.train()\n",
        "            xi = xi.to(device=device, dtype=torch.float32)\n",
        "            yi = yi.to(device=device, dtype=torch.long)\n",
        "            scores = model(xi)\n",
        "\n",
        "            cost = F.cross_entropy(input= scores, target=yi)\n",
        "\n",
        "            optimiser.zero_grad()\n",
        "            cost.backward()\n",
        "            optimiser.step()\n",
        "\n",
        "        acc = accuracy(model, val_loader)\n",
        "#         if epoch%5 == 0:\n",
        "        print(f'Epoch: {epoch}, costo: {cost.item()}, accuracy: {acc},')\n",
        "#         scheduler.step()"
      ]
    },
    {
      "cell_type": "code",
      "execution_count": 119,
      "metadata": {
        "id": "tgx5y6s14iZg"
      },
      "outputs": [],
      "source": [
        "hidden1 = 256\n",
        "hidden = 256\n",
        "lr = 5e-4\n",
        "epochs = 5\n",
        "\n",
        "# model1 = nn.Sequential(nn.Flatten(),\n",
        "#                        nn.Linear(in_features=32*32*3, out_features=hidden1), nn.ReLU(),\n",
        "#                        nn.Linear(in_features=hidden1, out_features=hidden), nn.ReLU(),\n",
        "#                        nn.Linear(in_features=hidden, out_features=10))\n",
        "\n",
        "# Using RestNet\n",
        "model1 = nn.Sequential(model_aux,\n",
        "                       nn.Flatten(),\n",
        "                       nn.Linear(in_features=512, out_features= 10, bias= True))\n",
        "# # Using GoogLeNet\n",
        "# model2 = nn.Sequential(model_aux2,\n",
        "#                        nn.Flatten(),\n",
        "#                        nn.Linear(in_features=1024, out_features= 10, bias= True))\n",
        "# # Using AlexNet\n",
        "# model_AlexNet.classifier[6] = nn.Linear(4096,1000)\n",
        "# model3 = nn.Sequential(model_aux3,\n",
        "#                        nn.Flatten(),\n",
        "#                        nn.Linear(in_features=9216, out_features=4096, bias= True),\n",
        "#                        nn.Linear(in_features=4096, out_features=1024, bias= True),\n",
        "#                        nn.Linear(in_features=1024, out_features=10, bias= True))\n",
        "\n",
        "optimiser = torch.optim.Adam(model1.parameters(), lr=lr, betas=(0.9, 0.999))\n",
        "# optimiser2 = torch.optim.Adam(model2.parameters(), lr=lr, betas=(0.9, 0.999))\n",
        "# optimiser3 = torch.optim.SDG(model3.parameters(), lr=0.001, momenum=0.9)"
      ]
    },
    {
      "cell_type": "markdown",
      "source": [
        "Let's copare our different models:"
      ],
      "metadata": {
        "id": "b_R-93B0pD9p"
      }
    },
    {
      "cell_type": "markdown",
      "source": [
        "Training ResNet"
      ],
      "metadata": {
        "id": "v_8PXV7SpHc9"
      }
    },
    {
      "cell_type": "code",
      "source": [
        "train(model1, optimiser, epochs)"
      ],
      "metadata": {
        "colab": {
          "base_uri": "https://localhost:8080/"
        },
        "id": "Rcfrc1UcpCM0",
        "outputId": "740ecce6-7753-4b93-d760-705fa2fa806f"
      },
      "execution_count": 118,
      "outputs": [
        {
          "output_type": "stream",
          "name": "stdout",
          "text": [
            "Epoch: 0, costo: 0.7356866598129272, accuracy: 0.7828,\n",
            "Epoch: 1, costo: 0.7323437929153442, accuracy: 0.7948,\n",
            "Epoch: 2, costo: 0.5598592162132263, accuracy: 0.8038,\n",
            "Epoch: 3, costo: 1.091930627822876, accuracy: 0.8042,\n",
            "Epoch: 4, costo: 0.9431225061416626, accuracy: 0.8064,\n"
          ]
        }
      ]
    },
    {
      "cell_type": "code",
      "source": [
        "model1"
      ],
      "metadata": {
        "colab": {
          "base_uri": "https://localhost:8080/"
        },
        "id": "RAgiKpUzpaeO",
        "outputId": "1014ebb7-4e56-4fab-e4bd-f5f0eb1436f2"
      },
      "execution_count": 122,
      "outputs": [
        {
          "output_type": "execute_result",
          "data": {
            "text/plain": [
              "Sequential(\n",
              "  (0): Sequential(\n",
              "    (0): Conv2d(3, 64, kernel_size=(7, 7), stride=(2, 2), padding=(3, 3), bias=False)\n",
              "    (1): BatchNorm2d(64, eps=1e-05, momentum=0.1, affine=True, track_running_stats=True)\n",
              "    (2): ReLU(inplace=True)\n",
              "    (3): MaxPool2d(kernel_size=3, stride=2, padding=1, dilation=1, ceil_mode=False)\n",
              "    (4): Sequential(\n",
              "      (0): BasicBlock(\n",
              "        (conv1): Conv2d(64, 64, kernel_size=(3, 3), stride=(1, 1), padding=(1, 1), bias=False)\n",
              "        (bn1): BatchNorm2d(64, eps=1e-05, momentum=0.1, affine=True, track_running_stats=True)\n",
              "        (relu): ReLU(inplace=True)\n",
              "        (conv2): Conv2d(64, 64, kernel_size=(3, 3), stride=(1, 1), padding=(1, 1), bias=False)\n",
              "        (bn2): BatchNorm2d(64, eps=1e-05, momentum=0.1, affine=True, track_running_stats=True)\n",
              "      )\n",
              "      (1): BasicBlock(\n",
              "        (conv1): Conv2d(64, 64, kernel_size=(3, 3), stride=(1, 1), padding=(1, 1), bias=False)\n",
              "        (bn1): BatchNorm2d(64, eps=1e-05, momentum=0.1, affine=True, track_running_stats=True)\n",
              "        (relu): ReLU(inplace=True)\n",
              "        (conv2): Conv2d(64, 64, kernel_size=(3, 3), stride=(1, 1), padding=(1, 1), bias=False)\n",
              "        (bn2): BatchNorm2d(64, eps=1e-05, momentum=0.1, affine=True, track_running_stats=True)\n",
              "      )\n",
              "    )\n",
              "    (5): Sequential(\n",
              "      (0): BasicBlock(\n",
              "        (conv1): Conv2d(64, 128, kernel_size=(3, 3), stride=(2, 2), padding=(1, 1), bias=False)\n",
              "        (bn1): BatchNorm2d(128, eps=1e-05, momentum=0.1, affine=True, track_running_stats=True)\n",
              "        (relu): ReLU(inplace=True)\n",
              "        (conv2): Conv2d(128, 128, kernel_size=(3, 3), stride=(1, 1), padding=(1, 1), bias=False)\n",
              "        (bn2): BatchNorm2d(128, eps=1e-05, momentum=0.1, affine=True, track_running_stats=True)\n",
              "        (downsample): Sequential(\n",
              "          (0): Conv2d(64, 128, kernel_size=(1, 1), stride=(2, 2), bias=False)\n",
              "          (1): BatchNorm2d(128, eps=1e-05, momentum=0.1, affine=True, track_running_stats=True)\n",
              "        )\n",
              "      )\n",
              "      (1): BasicBlock(\n",
              "        (conv1): Conv2d(128, 128, kernel_size=(3, 3), stride=(1, 1), padding=(1, 1), bias=False)\n",
              "        (bn1): BatchNorm2d(128, eps=1e-05, momentum=0.1, affine=True, track_running_stats=True)\n",
              "        (relu): ReLU(inplace=True)\n",
              "        (conv2): Conv2d(128, 128, kernel_size=(3, 3), stride=(1, 1), padding=(1, 1), bias=False)\n",
              "        (bn2): BatchNorm2d(128, eps=1e-05, momentum=0.1, affine=True, track_running_stats=True)\n",
              "      )\n",
              "    )\n",
              "    (6): Sequential(\n",
              "      (0): BasicBlock(\n",
              "        (conv1): Conv2d(128, 256, kernel_size=(3, 3), stride=(2, 2), padding=(1, 1), bias=False)\n",
              "        (bn1): BatchNorm2d(256, eps=1e-05, momentum=0.1, affine=True, track_running_stats=True)\n",
              "        (relu): ReLU(inplace=True)\n",
              "        (conv2): Conv2d(256, 256, kernel_size=(3, 3), stride=(1, 1), padding=(1, 1), bias=False)\n",
              "        (bn2): BatchNorm2d(256, eps=1e-05, momentum=0.1, affine=True, track_running_stats=True)\n",
              "        (downsample): Sequential(\n",
              "          (0): Conv2d(128, 256, kernel_size=(1, 1), stride=(2, 2), bias=False)\n",
              "          (1): BatchNorm2d(256, eps=1e-05, momentum=0.1, affine=True, track_running_stats=True)\n",
              "        )\n",
              "      )\n",
              "      (1): BasicBlock(\n",
              "        (conv1): Conv2d(256, 256, kernel_size=(3, 3), stride=(1, 1), padding=(1, 1), bias=False)\n",
              "        (bn1): BatchNorm2d(256, eps=1e-05, momentum=0.1, affine=True, track_running_stats=True)\n",
              "        (relu): ReLU(inplace=True)\n",
              "        (conv2): Conv2d(256, 256, kernel_size=(3, 3), stride=(1, 1), padding=(1, 1), bias=False)\n",
              "        (bn2): BatchNorm2d(256, eps=1e-05, momentum=0.1, affine=True, track_running_stats=True)\n",
              "      )\n",
              "    )\n",
              "    (7): Sequential(\n",
              "      (0): BasicBlock(\n",
              "        (conv1): Conv2d(256, 512, kernel_size=(3, 3), stride=(2, 2), padding=(1, 1), bias=False)\n",
              "        (bn1): BatchNorm2d(512, eps=1e-05, momentum=0.1, affine=True, track_running_stats=True)\n",
              "        (relu): ReLU(inplace=True)\n",
              "        (conv2): Conv2d(512, 512, kernel_size=(3, 3), stride=(1, 1), padding=(1, 1), bias=False)\n",
              "        (bn2): BatchNorm2d(512, eps=1e-05, momentum=0.1, affine=True, track_running_stats=True)\n",
              "        (downsample): Sequential(\n",
              "          (0): Conv2d(256, 512, kernel_size=(1, 1), stride=(2, 2), bias=False)\n",
              "          (1): BatchNorm2d(512, eps=1e-05, momentum=0.1, affine=True, track_running_stats=True)\n",
              "        )\n",
              "      )\n",
              "      (1): BasicBlock(\n",
              "        (conv1): Conv2d(512, 512, kernel_size=(3, 3), stride=(1, 1), padding=(1, 1), bias=False)\n",
              "        (bn1): BatchNorm2d(512, eps=1e-05, momentum=0.1, affine=True, track_running_stats=True)\n",
              "        (relu): ReLU(inplace=True)\n",
              "        (conv2): Conv2d(512, 512, kernel_size=(3, 3), stride=(1, 1), padding=(1, 1), bias=False)\n",
              "        (bn2): BatchNorm2d(512, eps=1e-05, momentum=0.1, affine=True, track_running_stats=True)\n",
              "      )\n",
              "    )\n",
              "    (8): AdaptiveAvgPool2d(output_size=(1, 1))\n",
              "  )\n",
              "  (1): Flatten(start_dim=1, end_dim=-1)\n",
              "  (2): Linear(in_features=512, out_features=10, bias=True)\n",
              ")"
            ]
          },
          "metadata": {},
          "execution_count": 122
        }
      ]
    },
    {
      "cell_type": "markdown",
      "source": [
        "Training GoogLeNet"
      ],
      "metadata": {
        "id": "wiyirRNUpKMC"
      }
    },
    {
      "cell_type": "code",
      "source": [
        "model_aux = nn.Sequential(*list(model_GoogLeNet.children())[:-1])"
      ],
      "metadata": {
        "id": "i7QodXGpzNd4"
      },
      "execution_count": 123,
      "outputs": []
    },
    {
      "cell_type": "code",
      "source": [
        "train(model1, optimiser, epochs)"
      ],
      "metadata": {
        "colab": {
          "base_uri": "https://localhost:8080/"
        },
        "id": "mhDGvyZOpNA1",
        "outputId": "9497ab1f-5658-4c6a-c14f-303c7d5b09bc"
      },
      "execution_count": 124,
      "outputs": [
        {
          "output_type": "stream",
          "name": "stdout",
          "text": [
            "Epoch: 0, costo: 0.40828070044517517, accuracy: 0.7872,\n",
            "Epoch: 1, costo: 1.0227402448654175, accuracy: 0.7988,\n",
            "Epoch: 2, costo: 0.5628149509429932, accuracy: 0.8008,\n",
            "Epoch: 3, costo: 0.5918734073638916, accuracy: 0.8058,\n",
            "Epoch: 4, costo: 0.5010215640068054, accuracy: 0.8056,\n"
          ]
        }
      ]
    },
    {
      "cell_type": "code",
      "source": [
        "model1"
      ],
      "metadata": {
        "colab": {
          "base_uri": "https://localhost:8080/"
        },
        "id": "ZtLvDbVMpbEK",
        "outputId": "f5978535-2a03-4b8e-9e65-175cba4bd6f2"
      },
      "execution_count": 128,
      "outputs": [
        {
          "output_type": "execute_result",
          "data": {
            "text/plain": [
              "Sequential(\n",
              "  (0): Sequential(\n",
              "    (0): Conv2d(3, 64, kernel_size=(7, 7), stride=(2, 2), padding=(3, 3), bias=False)\n",
              "    (1): BatchNorm2d(64, eps=1e-05, momentum=0.1, affine=True, track_running_stats=True)\n",
              "    (2): ReLU(inplace=True)\n",
              "    (3): MaxPool2d(kernel_size=3, stride=2, padding=1, dilation=1, ceil_mode=False)\n",
              "    (4): Sequential(\n",
              "      (0): BasicBlock(\n",
              "        (conv1): Conv2d(64, 64, kernel_size=(3, 3), stride=(1, 1), padding=(1, 1), bias=False)\n",
              "        (bn1): BatchNorm2d(64, eps=1e-05, momentum=0.1, affine=True, track_running_stats=True)\n",
              "        (relu): ReLU(inplace=True)\n",
              "        (conv2): Conv2d(64, 64, kernel_size=(3, 3), stride=(1, 1), padding=(1, 1), bias=False)\n",
              "        (bn2): BatchNorm2d(64, eps=1e-05, momentum=0.1, affine=True, track_running_stats=True)\n",
              "      )\n",
              "      (1): BasicBlock(\n",
              "        (conv1): Conv2d(64, 64, kernel_size=(3, 3), stride=(1, 1), padding=(1, 1), bias=False)\n",
              "        (bn1): BatchNorm2d(64, eps=1e-05, momentum=0.1, affine=True, track_running_stats=True)\n",
              "        (relu): ReLU(inplace=True)\n",
              "        (conv2): Conv2d(64, 64, kernel_size=(3, 3), stride=(1, 1), padding=(1, 1), bias=False)\n",
              "        (bn2): BatchNorm2d(64, eps=1e-05, momentum=0.1, affine=True, track_running_stats=True)\n",
              "      )\n",
              "    )\n",
              "    (5): Sequential(\n",
              "      (0): BasicBlock(\n",
              "        (conv1): Conv2d(64, 128, kernel_size=(3, 3), stride=(2, 2), padding=(1, 1), bias=False)\n",
              "        (bn1): BatchNorm2d(128, eps=1e-05, momentum=0.1, affine=True, track_running_stats=True)\n",
              "        (relu): ReLU(inplace=True)\n",
              "        (conv2): Conv2d(128, 128, kernel_size=(3, 3), stride=(1, 1), padding=(1, 1), bias=False)\n",
              "        (bn2): BatchNorm2d(128, eps=1e-05, momentum=0.1, affine=True, track_running_stats=True)\n",
              "        (downsample): Sequential(\n",
              "          (0): Conv2d(64, 128, kernel_size=(1, 1), stride=(2, 2), bias=False)\n",
              "          (1): BatchNorm2d(128, eps=1e-05, momentum=0.1, affine=True, track_running_stats=True)\n",
              "        )\n",
              "      )\n",
              "      (1): BasicBlock(\n",
              "        (conv1): Conv2d(128, 128, kernel_size=(3, 3), stride=(1, 1), padding=(1, 1), bias=False)\n",
              "        (bn1): BatchNorm2d(128, eps=1e-05, momentum=0.1, affine=True, track_running_stats=True)\n",
              "        (relu): ReLU(inplace=True)\n",
              "        (conv2): Conv2d(128, 128, kernel_size=(3, 3), stride=(1, 1), padding=(1, 1), bias=False)\n",
              "        (bn2): BatchNorm2d(128, eps=1e-05, momentum=0.1, affine=True, track_running_stats=True)\n",
              "      )\n",
              "    )\n",
              "    (6): Sequential(\n",
              "      (0): BasicBlock(\n",
              "        (conv1): Conv2d(128, 256, kernel_size=(3, 3), stride=(2, 2), padding=(1, 1), bias=False)\n",
              "        (bn1): BatchNorm2d(256, eps=1e-05, momentum=0.1, affine=True, track_running_stats=True)\n",
              "        (relu): ReLU(inplace=True)\n",
              "        (conv2): Conv2d(256, 256, kernel_size=(3, 3), stride=(1, 1), padding=(1, 1), bias=False)\n",
              "        (bn2): BatchNorm2d(256, eps=1e-05, momentum=0.1, affine=True, track_running_stats=True)\n",
              "        (downsample): Sequential(\n",
              "          (0): Conv2d(128, 256, kernel_size=(1, 1), stride=(2, 2), bias=False)\n",
              "          (1): BatchNorm2d(256, eps=1e-05, momentum=0.1, affine=True, track_running_stats=True)\n",
              "        )\n",
              "      )\n",
              "      (1): BasicBlock(\n",
              "        (conv1): Conv2d(256, 256, kernel_size=(3, 3), stride=(1, 1), padding=(1, 1), bias=False)\n",
              "        (bn1): BatchNorm2d(256, eps=1e-05, momentum=0.1, affine=True, track_running_stats=True)\n",
              "        (relu): ReLU(inplace=True)\n",
              "        (conv2): Conv2d(256, 256, kernel_size=(3, 3), stride=(1, 1), padding=(1, 1), bias=False)\n",
              "        (bn2): BatchNorm2d(256, eps=1e-05, momentum=0.1, affine=True, track_running_stats=True)\n",
              "      )\n",
              "    )\n",
              "    (7): Sequential(\n",
              "      (0): BasicBlock(\n",
              "        (conv1): Conv2d(256, 512, kernel_size=(3, 3), stride=(2, 2), padding=(1, 1), bias=False)\n",
              "        (bn1): BatchNorm2d(512, eps=1e-05, momentum=0.1, affine=True, track_running_stats=True)\n",
              "        (relu): ReLU(inplace=True)\n",
              "        (conv2): Conv2d(512, 512, kernel_size=(3, 3), stride=(1, 1), padding=(1, 1), bias=False)\n",
              "        (bn2): BatchNorm2d(512, eps=1e-05, momentum=0.1, affine=True, track_running_stats=True)\n",
              "        (downsample): Sequential(\n",
              "          (0): Conv2d(256, 512, kernel_size=(1, 1), stride=(2, 2), bias=False)\n",
              "          (1): BatchNorm2d(512, eps=1e-05, momentum=0.1, affine=True, track_running_stats=True)\n",
              "        )\n",
              "      )\n",
              "      (1): BasicBlock(\n",
              "        (conv1): Conv2d(512, 512, kernel_size=(3, 3), stride=(1, 1), padding=(1, 1), bias=False)\n",
              "        (bn1): BatchNorm2d(512, eps=1e-05, momentum=0.1, affine=True, track_running_stats=True)\n",
              "        (relu): ReLU(inplace=True)\n",
              "        (conv2): Conv2d(512, 512, kernel_size=(3, 3), stride=(1, 1), padding=(1, 1), bias=False)\n",
              "        (bn2): BatchNorm2d(512, eps=1e-05, momentum=0.1, affine=True, track_running_stats=True)\n",
              "      )\n",
              "    )\n",
              "    (8): AdaptiveAvgPool2d(output_size=(1, 1))\n",
              "  )\n",
              "  (1): Flatten(start_dim=1, end_dim=-1)\n",
              "  (2): Linear(in_features=512, out_features=10, bias=True)\n",
              ")"
            ]
          },
          "metadata": {},
          "execution_count": 128
        }
      ]
    },
    {
      "cell_type": "code",
      "source": [
        "accuracy(model1, test_loader)"
      ],
      "metadata": {
        "colab": {
          "base_uri": "https://localhost:8080/"
        },
        "id": "_l2BmgBozdXH",
        "outputId": "72426235-19d5-4128-d4d6-c0d5caee3e16"
      },
      "execution_count": 127,
      "outputs": [
        {
          "output_type": "execute_result",
          "data": {
            "text/plain": [
              "0.8029"
            ]
          },
          "metadata": {},
          "execution_count": 127
        }
      ]
    },
    {
      "cell_type": "markdown",
      "source": [
        "Training AlexNet"
      ],
      "metadata": {
        "id": "eI_htaFdpTiQ"
      }
    },
    {
      "cell_type": "code",
      "source": [
        "model_aux = nn.Sequential(*list(model_AlexNet.children())[:-1])"
      ],
      "metadata": {
        "id": "8CMUekvDy_kA"
      },
      "execution_count": 129,
      "outputs": []
    },
    {
      "cell_type": "code",
      "source": [
        "train(model1, optimiser, epochs)"
      ],
      "metadata": {
        "colab": {
          "base_uri": "https://localhost:8080/"
        },
        "id": "mR5UaWAnpPsN",
        "outputId": "b9ff9ae9-f8bd-48b2-dc61-09d642e07828"
      },
      "execution_count": 130,
      "outputs": [
        {
          "output_type": "stream",
          "name": "stdout",
          "text": [
            "Epoch: 0, costo: 0.729094386100769, accuracy: 0.807,\n",
            "Epoch: 1, costo: 0.9018909335136414, accuracy: 0.8066,\n",
            "Epoch: 2, costo: 1.6307501792907715, accuracy: 0.8096,\n",
            "Epoch: 3, costo: 0.9949808120727539, accuracy: 0.8112,\n",
            "Epoch: 4, costo: 1.3837809562683105, accuracy: 0.8098,\n"
          ]
        }
      ]
    },
    {
      "cell_type": "code",
      "execution_count": 131,
      "metadata": {
        "scrolled": true,
        "colab": {
          "base_uri": "https://localhost:8080/"
        },
        "id": "6TdbPW824iZg",
        "outputId": "db7163e9-9ee1-4458-88ff-986b98199354"
      },
      "outputs": [
        {
          "output_type": "execute_result",
          "data": {
            "text/plain": [
              "Sequential(\n",
              "  (0): Sequential(\n",
              "    (0): Conv2d(3, 64, kernel_size=(7, 7), stride=(2, 2), padding=(3, 3), bias=False)\n",
              "    (1): BatchNorm2d(64, eps=1e-05, momentum=0.1, affine=True, track_running_stats=True)\n",
              "    (2): ReLU(inplace=True)\n",
              "    (3): MaxPool2d(kernel_size=3, stride=2, padding=1, dilation=1, ceil_mode=False)\n",
              "    (4): Sequential(\n",
              "      (0): BasicBlock(\n",
              "        (conv1): Conv2d(64, 64, kernel_size=(3, 3), stride=(1, 1), padding=(1, 1), bias=False)\n",
              "        (bn1): BatchNorm2d(64, eps=1e-05, momentum=0.1, affine=True, track_running_stats=True)\n",
              "        (relu): ReLU(inplace=True)\n",
              "        (conv2): Conv2d(64, 64, kernel_size=(3, 3), stride=(1, 1), padding=(1, 1), bias=False)\n",
              "        (bn2): BatchNorm2d(64, eps=1e-05, momentum=0.1, affine=True, track_running_stats=True)\n",
              "      )\n",
              "      (1): BasicBlock(\n",
              "        (conv1): Conv2d(64, 64, kernel_size=(3, 3), stride=(1, 1), padding=(1, 1), bias=False)\n",
              "        (bn1): BatchNorm2d(64, eps=1e-05, momentum=0.1, affine=True, track_running_stats=True)\n",
              "        (relu): ReLU(inplace=True)\n",
              "        (conv2): Conv2d(64, 64, kernel_size=(3, 3), stride=(1, 1), padding=(1, 1), bias=False)\n",
              "        (bn2): BatchNorm2d(64, eps=1e-05, momentum=0.1, affine=True, track_running_stats=True)\n",
              "      )\n",
              "    )\n",
              "    (5): Sequential(\n",
              "      (0): BasicBlock(\n",
              "        (conv1): Conv2d(64, 128, kernel_size=(3, 3), stride=(2, 2), padding=(1, 1), bias=False)\n",
              "        (bn1): BatchNorm2d(128, eps=1e-05, momentum=0.1, affine=True, track_running_stats=True)\n",
              "        (relu): ReLU(inplace=True)\n",
              "        (conv2): Conv2d(128, 128, kernel_size=(3, 3), stride=(1, 1), padding=(1, 1), bias=False)\n",
              "        (bn2): BatchNorm2d(128, eps=1e-05, momentum=0.1, affine=True, track_running_stats=True)\n",
              "        (downsample): Sequential(\n",
              "          (0): Conv2d(64, 128, kernel_size=(1, 1), stride=(2, 2), bias=False)\n",
              "          (1): BatchNorm2d(128, eps=1e-05, momentum=0.1, affine=True, track_running_stats=True)\n",
              "        )\n",
              "      )\n",
              "      (1): BasicBlock(\n",
              "        (conv1): Conv2d(128, 128, kernel_size=(3, 3), stride=(1, 1), padding=(1, 1), bias=False)\n",
              "        (bn1): BatchNorm2d(128, eps=1e-05, momentum=0.1, affine=True, track_running_stats=True)\n",
              "        (relu): ReLU(inplace=True)\n",
              "        (conv2): Conv2d(128, 128, kernel_size=(3, 3), stride=(1, 1), padding=(1, 1), bias=False)\n",
              "        (bn2): BatchNorm2d(128, eps=1e-05, momentum=0.1, affine=True, track_running_stats=True)\n",
              "      )\n",
              "    )\n",
              "    (6): Sequential(\n",
              "      (0): BasicBlock(\n",
              "        (conv1): Conv2d(128, 256, kernel_size=(3, 3), stride=(2, 2), padding=(1, 1), bias=False)\n",
              "        (bn1): BatchNorm2d(256, eps=1e-05, momentum=0.1, affine=True, track_running_stats=True)\n",
              "        (relu): ReLU(inplace=True)\n",
              "        (conv2): Conv2d(256, 256, kernel_size=(3, 3), stride=(1, 1), padding=(1, 1), bias=False)\n",
              "        (bn2): BatchNorm2d(256, eps=1e-05, momentum=0.1, affine=True, track_running_stats=True)\n",
              "        (downsample): Sequential(\n",
              "          (0): Conv2d(128, 256, kernel_size=(1, 1), stride=(2, 2), bias=False)\n",
              "          (1): BatchNorm2d(256, eps=1e-05, momentum=0.1, affine=True, track_running_stats=True)\n",
              "        )\n",
              "      )\n",
              "      (1): BasicBlock(\n",
              "        (conv1): Conv2d(256, 256, kernel_size=(3, 3), stride=(1, 1), padding=(1, 1), bias=False)\n",
              "        (bn1): BatchNorm2d(256, eps=1e-05, momentum=0.1, affine=True, track_running_stats=True)\n",
              "        (relu): ReLU(inplace=True)\n",
              "        (conv2): Conv2d(256, 256, kernel_size=(3, 3), stride=(1, 1), padding=(1, 1), bias=False)\n",
              "        (bn2): BatchNorm2d(256, eps=1e-05, momentum=0.1, affine=True, track_running_stats=True)\n",
              "      )\n",
              "    )\n",
              "    (7): Sequential(\n",
              "      (0): BasicBlock(\n",
              "        (conv1): Conv2d(256, 512, kernel_size=(3, 3), stride=(2, 2), padding=(1, 1), bias=False)\n",
              "        (bn1): BatchNorm2d(512, eps=1e-05, momentum=0.1, affine=True, track_running_stats=True)\n",
              "        (relu): ReLU(inplace=True)\n",
              "        (conv2): Conv2d(512, 512, kernel_size=(3, 3), stride=(1, 1), padding=(1, 1), bias=False)\n",
              "        (bn2): BatchNorm2d(512, eps=1e-05, momentum=0.1, affine=True, track_running_stats=True)\n",
              "        (downsample): Sequential(\n",
              "          (0): Conv2d(256, 512, kernel_size=(1, 1), stride=(2, 2), bias=False)\n",
              "          (1): BatchNorm2d(512, eps=1e-05, momentum=0.1, affine=True, track_running_stats=True)\n",
              "        )\n",
              "      )\n",
              "      (1): BasicBlock(\n",
              "        (conv1): Conv2d(512, 512, kernel_size=(3, 3), stride=(1, 1), padding=(1, 1), bias=False)\n",
              "        (bn1): BatchNorm2d(512, eps=1e-05, momentum=0.1, affine=True, track_running_stats=True)\n",
              "        (relu): ReLU(inplace=True)\n",
              "        (conv2): Conv2d(512, 512, kernel_size=(3, 3), stride=(1, 1), padding=(1, 1), bias=False)\n",
              "        (bn2): BatchNorm2d(512, eps=1e-05, momentum=0.1, affine=True, track_running_stats=True)\n",
              "      )\n",
              "    )\n",
              "    (8): AdaptiveAvgPool2d(output_size=(1, 1))\n",
              "  )\n",
              "  (1): Flatten(start_dim=1, end_dim=-1)\n",
              "  (2): Linear(in_features=512, out_features=10, bias=True)\n",
              ")"
            ]
          },
          "metadata": {},
          "execution_count": 131
        }
      ],
      "source": [
        "model1"
      ]
    },
    {
      "cell_type": "code",
      "execution_count": 132,
      "metadata": {
        "id": "C1N5z6RU4iZg",
        "outputId": "d4745c2b-e249-4335-bed3-5e5c92d01d64",
        "colab": {
          "base_uri": "https://localhost:8080/"
        }
      },
      "outputs": [
        {
          "output_type": "execute_result",
          "data": {
            "text/plain": [
              "0.8058"
            ]
          },
          "metadata": {},
          "execution_count": 132
        }
      ],
      "source": [
        "accuracy(model1, test_loader)"
      ]
    },
    {
      "cell_type": "markdown",
      "source": [
        "Test using Resnet34"
      ],
      "metadata": {
        "id": "eLdypwV4O2XA"
      }
    },
    {
      "cell_type": "code",
      "execution_count": null,
      "metadata": {
        "id": "H9YD3-Ye4iZg",
        "outputId": "19b6c7d5-a949-432d-c790-25229d9ba904",
        "colab": {
          "base_uri": "https://localhost:8080/"
        }
      },
      "outputs": [
        {
          "output_type": "stream",
          "name": "stderr",
          "text": [
            "/usr/local/lib/python3.10/dist-packages/torchvision/models/_utils.py:223: UserWarning: Arguments other than a weight enum or `None` for 'weights' are deprecated since 0.13 and may be removed in the future. The current behavior is equivalent to passing `weights=ResNet34_Weights.IMAGENET1K_V1`. You can also use `weights=ResNet34_Weights.DEFAULT` to get the most up-to-date weights.\n",
            "  warnings.warn(msg)\n",
            "Downloading: \"https://download.pytorch.org/models/resnet34-b627a593.pth\" to /root/.cache/torch/hub/checkpoints/resnet34-b627a593.pth\n",
            "100%|██████████| 83.3M/83.3M [00:00<00:00, 198MB/s]\n"
          ]
        }
      ],
      "source": [
        "model_resnet34 = models.resnet34(pretrained=True)\n",
        "model_aux = nn.Sequential(*list(model_resnet34.children())[:-1])"
      ]
    },
    {
      "cell_type": "code",
      "source": [
        "train(model1, optimiser, epochs)"
      ],
      "metadata": {
        "id": "ZRK_v3iLAWbF",
        "outputId": "8072bfb0-469a-4b20-b730-cacf46488698",
        "colab": {
          "base_uri": "https://localhost:8080/"
        }
      },
      "execution_count": null,
      "outputs": [
        {
          "output_type": "stream",
          "name": "stdout",
          "text": [
            "Epoch: 0, costo: 0.5247305631637573, accuracy: 0.8028,\n",
            "Epoch: 1, costo: 0.650072455406189, accuracy: 0.802,\n",
            "Epoch: 2, costo: 0.34240978956222534, accuracy: 0.8062,\n"
          ]
        }
      ]
    },
    {
      "cell_type": "code",
      "source": [
        "accuracy(model1, test_loader)"
      ],
      "metadata": {
        "id": "YnXSPyI5AefO",
        "outputId": "ff8ff282-9bea-4dd9-911b-f3887da4c158",
        "colab": {
          "base_uri": "https://localhost:8080/"
        }
      },
      "execution_count": null,
      "outputs": [
        {
          "output_type": "execute_result",
          "data": {
            "text/plain": [
              "0.8075"
            ]
          },
          "metadata": {},
          "execution_count": 23
        }
      ]
    },
    {
      "cell_type": "markdown",
      "source": [
        "Test Using Vgg16"
      ],
      "metadata": {
        "id": "D2Wsh6f-O55v"
      }
    },
    {
      "cell_type": "code",
      "source": [
        "model_vgg = models.vgg16(pretrained=True)\n",
        "model_aux = nn.Sequential(*list(model_vgg.children())[:-1])"
      ],
      "metadata": {
        "id": "OSf7HYqCAhnG",
        "outputId": "f357fae1-2b0b-4250-8066-883dd5d708e5",
        "colab": {
          "base_uri": "https://localhost:8080/"
        }
      },
      "execution_count": null,
      "outputs": [
        {
          "output_type": "stream",
          "name": "stderr",
          "text": [
            "/usr/local/lib/python3.10/dist-packages/torchvision/models/_utils.py:208: UserWarning: The parameter 'pretrained' is deprecated since 0.13 and may be removed in the future, please use 'weights' instead.\n",
            "  warnings.warn(\n",
            "/usr/local/lib/python3.10/dist-packages/torchvision/models/_utils.py:223: UserWarning: Arguments other than a weight enum or `None` for 'weights' are deprecated since 0.13 and may be removed in the future. The current behavior is equivalent to passing `weights=VGG16_Weights.IMAGENET1K_V1`. You can also use `weights=VGG16_Weights.DEFAULT` to get the most up-to-date weights.\n",
            "  warnings.warn(msg)\n",
            "Downloading: \"https://download.pytorch.org/models/vgg16-397923af.pth\" to /root/.cache/torch/hub/checkpoints/vgg16-397923af.pth\n",
            "100%|██████████| 528M/528M [00:02<00:00, 216MB/s]\n"
          ]
        }
      ]
    },
    {
      "cell_type": "code",
      "source": [
        "train(model1, optimiser, epochs)"
      ],
      "metadata": {
        "id": "wcmfi0tbAivV",
        "outputId": "4635faad-98ac-4b08-c955-a2ca133f8c84",
        "colab": {
          "base_uri": "https://localhost:8080/"
        }
      },
      "execution_count": null,
      "outputs": [
        {
          "output_type": "stream",
          "name": "stdout",
          "text": [
            "Epoch: 0, costo: 0.9023522138595581, accuracy: 0.8096,\n",
            "Epoch: 1, costo: 0.10088510066270828, accuracy: 0.8096,\n",
            "Epoch: 2, costo: 0.7199468612670898, accuracy: 0.813,\n"
          ]
        }
      ]
    },
    {
      "cell_type": "code",
      "source": [
        "accuracy(model1, test_loader)"
      ],
      "metadata": {
        "id": "HAQrjKvBAjxX",
        "outputId": "56c32eff-8295-4969-e80d-f6f887a02461",
        "colab": {
          "base_uri": "https://localhost:8080/"
        }
      },
      "execution_count": null,
      "outputs": [
        {
          "output_type": "execute_result",
          "data": {
            "text/plain": [
              "0.8097"
            ]
          },
          "metadata": {},
          "execution_count": 28
        }
      ]
    },
    {
      "cell_type": "markdown",
      "source": [
        "## Conclusion:\n",
        "\n",
        "Let's evaluate our results:\n",
        "\n",
        "Model --------- Accuracy\n",
        "\n",
        "GoogLeNet------ 0.8029\n",
        "\n",
        "AlexNet-------- 0.8058\n",
        "\n",
        "Resnet34------- 0.8075\n",
        "\n",
        "**Vgg16---------- 0.8097**\n",
        "\n",
        "\n",
        "\n",
        "In our test results, we found a big difference in the Vgg16 Model compare to others we tested with a 0.8097 of accuracy.\n",
        "\n",
        "One of our biggest challenges was to comprehend some of the models we added in this project.\n",
        "\n",
        "We learned some of the transfer learning benefits using pytorch like the improved training speed by using pre-trained models that learned important features from large datasets, saving computational resources for training.\n",
        "Its important to state, that we found that transfer learning helps to laverage previous knoledge and applied to some domain-specific cases with ease.\n",
        "\n",
        "\n"
      ],
      "metadata": {
        "id": "njur05hc4iA8"
      }
    }
  ],
  "metadata": {
    "kernelspec": {
      "display_name": "Python 3",
      "name": "python3"
    },
    "language_info": {
      "codemirror_mode": {
        "name": "ipython",
        "version": 3
      },
      "file_extension": ".py",
      "mimetype": "text/x-python",
      "name": "python",
      "nbconvert_exporter": "python",
      "pygments_lexer": "ipython3",
      "version": "3.9.0"
    },
    "toc": {
      "base_numbering": 1,
      "nav_menu": {},
      "number_sections": true,
      "sideBar": true,
      "skip_h1_title": false,
      "title_cell": "Table of Contents",
      "title_sidebar": "Contents",
      "toc_cell": false,
      "toc_position": {},
      "toc_section_display": true,
      "toc_window_display": false
    },
    "varInspector": {
      "cols": {
        "lenName": 16,
        "lenType": 16,
        "lenVar": 40
      },
      "kernels_config": {
        "python": {
          "delete_cmd_postfix": "",
          "delete_cmd_prefix": "del ",
          "library": "var_list.py",
          "varRefreshCmd": "print(var_dic_list())"
        },
        "r": {
          "delete_cmd_postfix": ") ",
          "delete_cmd_prefix": "rm(",
          "library": "var_list.r",
          "varRefreshCmd": "cat(var_dic_list()) "
        }
      },
      "types_to_exclude": [
        "module",
        "function",
        "builtin_function_or_method",
        "instance",
        "_Feature"
      ],
      "window_display": false
    },
    "colab": {
      "provenance": [],
      "gpuType": "T4",
      "include_colab_link": true
    },
    "accelerator": "GPU"
  },
  "nbformat": 4,
  "nbformat_minor": 0
}