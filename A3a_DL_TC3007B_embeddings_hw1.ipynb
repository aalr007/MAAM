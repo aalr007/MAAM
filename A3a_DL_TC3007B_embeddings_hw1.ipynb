{
  "cells": [
    {
      "cell_type": "markdown",
      "metadata": {
        "id": "view-in-github",
        "colab_type": "text"
      },
      "source": [
        "<a href=\"https://colab.research.google.com/github/aalr007/MAAM/blob/main/A3a_DL_TC3007B_embeddings_hw1.ipynb\" target=\"_parent\"><img src=\"https://colab.research.google.com/assets/colab-badge.svg\" alt=\"Open In Colab\"/></a>"
      ]
    },
    {
      "cell_type": "markdown",
      "id": "c6142099",
      "metadata": {
        "id": "c6142099"
      },
      "source": [
        "## TC 5033\n",
        "### Word Embeddings\n",
        "\n",
        "<br>\n",
        "\n",
        "#### Activity 3a: Exploring Word Embeddings with GloVe and Numpy\n",
        "<br>\n",
        "\n",
        "- Objective:\n",
        "    - To understand the concept of word embeddings and their significance in Natural Language Processing.\n",
        "    - To learn how to manipulate and visualize high-dimensional data using dimensionality reduction techniques like PCA and t-SNE.\n",
        "    - To gain hands-on experience in implementing word similarity and analogies using GloVe embeddings and Numpy.\n",
        "    \n",
        "<br>\n",
        "\n",
        "- Instructions:\n",
        "    - Download GloVe pre-trained vectors from the provided link in Canvas, the official public project:\n",
        "    Jeffrey Pennington, Richard Socher, and Christopher D. Manning. 2014. GloVe: Global Vectors for Word Representation\n",
        "    https://nlp.stanford.edu/data/glove.6B.zip\n",
        "\n",
        "    - Create a dictorionay of the embeddings so that you carry out fast look ups. Save that dictionary e.g. as a serialized file for faster loading in future uses.\n",
        "    \n",
        "    - PCA and t-SNE Visualization: After loading the GloVe embeddings, use Numpy and Sklearn to perform PCA and t-SNE to reduce the dimensionality of the embeddings and visualize them in a 2D or 3D space.\n",
        "\n",
        "    - Word Similarity: Implement a function that takes a word as input and returns the 'n' most similar words based on their embeddings. You should use Numpy to implement this function, using libraries that already implement this function (e.g. Gensim) will result in zero points.\n",
        "\n",
        "    - Word Analogies: Implement a function to solve analogies between words. For example, \"man is to king as woman is to ____\". You should use Numpy to implement this function, using libraries that already implement this function (e.g. Gensim) will result in zero points.\n",
        "\n",
        "    - Submission: This activity is to be submitted in teams of 3 or 4. Only one person should submit the final work, with the full names of all team members included in a markdown cell at the beginning of the notebook.\n",
        "    \n",
        "<br>\n",
        "\n",
        "- Evaluation Criteria:\n",
        "\n",
        "    - Code Quality (40%): Your code should be well-organized, clearly commented, and easy to follow. Use also markdown cells for clarity.\n",
        "    \n",
        "   - Functionality (60%): All functions should work as intended, without errors.\n",
        "       - Visualization of PCA and t-SNE (10% each for a total of 20%)\n",
        "       - Similarity function (20%)\n",
        "       - Analogy function (20%)\n",
        "|\n",
        "\n"
      ]
    },
    {
      "cell_type": "markdown",
      "id": "329dd09a",
      "metadata": {
        "id": "329dd09a"
      },
      "source": [
        "#### Import libraries"
      ]
    },
    {
      "cell_type": "code",
      "execution_count": 45,
      "id": "4af04b9d",
      "metadata": {
        "id": "4af04b9d"
      },
      "outputs": [],
      "source": [
        "# Import libraries\n",
        "import torch\n",
        "import torch.nn.functional as F\n",
        "from sklearn.manifold import TSNE\n",
        "from sklearn.decomposition import PCA\n",
        "import matplotlib.pyplot as plt\n",
        "import numpy as np\n",
        "from numpy.linalg import norm\n",
        "import pickle\n",
        "plt.style.use('ggplot')"
      ]
    },
    {
      "cell_type": "markdown",
      "id": "8712cf42",
      "metadata": {
        "id": "8712cf42"
      },
      "source": [
        "#### Load file"
      ]
    },
    {
      "cell_type": "code",
      "execution_count": 46,
      "id": "8c3c9d2a",
      "metadata": {
        "id": "8c3c9d2a"
      },
      "outputs": [],
      "source": [
        "# PATH = '/media/pepe/DataUbuntu/Databases/glove_embeddings/glove.6B.200d.txt'\n",
        "PATH = 'sample_data/globe.6B/glove.6B.200d.txt'\n",
        "emb_dim = 50"
      ]
    },
    {
      "cell_type": "code",
      "execution_count": 56,
      "id": "25a1eae6",
      "metadata": {
        "code_folding": [],
        "id": "25a1eae6"
      },
      "outputs": [],
      "source": [
        "# Create dictionary with embeddings\n",
        "def create_emb_dictionary(path):\n",
        "    # Crea un diccionario para almacenar las incrustaciones\n",
        "    emb_dict = {}\n",
        "\n",
        "    # abrimos la base de datos\n",
        "    with open(path, 'r', encoding='utf-8') as file:\n",
        "        for line in file:\n",
        "            parts = line.strip().split(' ')  # Supongamos que las incrustaciones están separadas por espacios.\n",
        "            word = parts[0]  # La primera parte es la palabra o elemento.\n",
        "            embedding = [float(val) for val in parts[1:]]  # El resto son los valores.\n",
        "            emb_dict[word] = embedding\n",
        "\n",
        "    # Guarda el diccionario en un archivo serializado para cargarlo rápidamente en el futuro.\n",
        "    with open('embeddings_dict_50D.pkl', 'wb') as output_file:\n",
        "        pickle.dump(emb_dict, output_file)"
      ]
    },
    {
      "cell_type": "code",
      "execution_count": 57,
      "id": "347a0e5e",
      "metadata": {
        "code_folding": [],
        "id": "347a0e5e"
      },
      "outputs": [],
      "source": [
        "# create dictionary\n",
        "embeddings_dict = create_emb_dictionary(PATH)"
      ]
    },
    {
      "cell_type": "code",
      "execution_count": 58,
      "id": "1f01b760",
      "metadata": {
        "code_folding": [
          1
        ],
        "id": "1f01b760"
      },
      "outputs": [],
      "source": [
        "# Serialize\n",
        "with open('embeddings_dict_50D.pkl', 'wb') as f:\n",
        "    pickle.dump(embeddings_dict, f)\n",
        "\n",
        "# Deserialize\n",
        "# with open('embeddings_dict_200D.pkl', 'rb') as f:\n",
        "#     embeddings_dict = pickle.load(f)"
      ]
    },
    {
      "cell_type": "markdown",
      "id": "fd0ab9aa",
      "metadata": {
        "id": "fd0ab9aa"
      },
      "source": [
        "#### See some embeddings"
      ]
    },
    {
      "cell_type": "code",
      "execution_count": 59,
      "id": "8b0991a9",
      "metadata": {
        "id": "8b0991a9"
      },
      "outputs": [],
      "source": [
        "# Show some\n",
        "def show_n_first_words(path, n_words):\n",
        "        with open(path, 'r') as f:\n",
        "            for i, line in enumerate(f):\n",
        "                print(line.split(), len(line.split()[1:]))\n",
        "                if i>=n_words: break"
      ]
    },
    {
      "cell_type": "code",
      "execution_count": 60,
      "id": "a16259ec",
      "metadata": {
        "id": "a16259ec",
        "colab": {
          "base_uri": "https://localhost:8080/"
        },
        "outputId": "def04582-7e04-42c7-edb2-e9280639515f"
      },
      "outputs": [
        {
          "output_type": "stream",
          "name": "stdout",
          "text": [
            "['the', '-0.071549', '0.093459', '0.023738', '-0.090339', '0.056123', '0.32547', '-0.39796', '-0.092139', '0.061181', '-0.1895', '0.13061', '0.14349', '0.011479', '0.38158', '0.5403', '-0.14088', '0.24315', '0.23036', '-0.55339', '0.048154', '0.45662', '3.2338', '0.020199', '0.049019', '-0.014132', '0.076017', '-0.11527', '0.2006', '-0.077657', '0.24328', '0.16368', '-0.34118', '-0.06607', '0.10152', '0.038232', '-0.17668', '-0.88153', '-0.33895', '-0.035481', '-0.55095', '-0.016899', '-0.43982', '0.039004', '0.40447', '-0.2588', '0.64594', '0.26641', '0.28009', '-0.024625', '0.63302', '-0.317', '0.10271', '0.30886', '0.097792', '-0.38227', '0.086552', '0.047075', '0.23511', '-0.32127', '-0.28538', '0.1667', '-0.0049707', '-0.62714', '-0.24904', '0.29713', '0.14379', '-0.12325', '-0.058178', '-0.001029', '-0.082126', '0.36935', '-0.00058442', '0.34286', '0.28426', '-0.068599', '0.65747', '-0.029087', '0.16184', '0.073672', '-0.30343', '0.095733', '-0.5286', '-0.22898', '0.064079', '0.015218', '0.34921', '-0.4396', '-0.43983', '0.77515', '-0.87767', '-0.087504', '0.39598', '0.62362', '-0.26211', '-0.30539', '-0.022964', '0.30567', '0.06766', '0.15383', '-0.11211', '-0.09154', '0.082562', '0.16897', '-0.032952', '-0.28775', '-0.2232', '-0.090426', '1.2407', '-0.18244', '-0.0075219', '-0.041388', '-0.011083', '0.078186', '0.38511', '0.23334', '0.14414', '-0.0009107', '-0.26388', '-0.20481', '0.10099', '0.14076', '0.28834', '-0.045429', '0.37247', '0.13645', '-0.67457', '0.22786', '0.12599', '0.029091', '0.030428', '-0.13028', '0.19408', '0.49014', '-0.39121', '-0.075952', '0.074731', '0.18902', '-0.16922', '-0.26019', '-0.039771', '-0.24153', '0.10875', '0.30434', '0.036009', '1.4264', '0.12759', '-0.073811', '-0.20418', '0.0080016', '0.15381', '0.20223', '0.28274', '0.096206', '-0.33634', '0.50983', '0.32625', '-0.26535', '0.374', '-0.30388', '-0.40033', '-0.04291', '-0.067897', '-0.29332', '0.10978', '-0.045365', '0.23222', '-0.31134', '-0.28983', '-0.66687', '0.53097', '0.19461', '0.3667', '0.26185', '-0.65187', '0.10266', '0.11363', '-0.12953', '-0.68246', '-0.18751', '0.1476', '1.0765', '-0.22908', '-0.0093435', '-0.20651', '-0.35225', '-0.2672', '-0.0034307', '0.25906', '0.21759', '0.66158', '0.1218', '0.19957', '-0.20303', '0.34474', '-0.24328', '0.13139', '-0.0088767', '0.33617', '0.030591', '0.25577'] 200\n",
            "[',', '0.17651', '0.29208', '-0.0020768', '-0.37523', '0.0049139', '0.23979', '-0.28893', '-0.014643', '-0.10993', '0.15592', '0.20627', '0.47675', '0.099907', '-0.14058', '0.21114', '0.12126', '-0.31831', '-0.089433', '-0.090553', '-0.31962', '0.21319', '2.4844', '-0.077521', '-0.084279', '0.20186', '0.26084', '-0.40411', '-0.19127', '0.24715', '0.22394', '-0.063437', '0.20379', '-0.18463', '-0.088413', '0.024169', '-0.28769', '-0.61246', '-0.12683', '-0.088273', '0.18331', '-0.53161', '-0.1997', '-0.26703', '0.15312', '-0.015239', '-0.082844', '0.47856', '-0.29612', '0.11168', '-0.02579', '-0.011697', '0.19923', '-0.14267', '0.6625', '-0.051739', '-0.16938', '-0.15635', '0.092806', '0.32548', '0.11724', '0.28788', '-0.060651', '-0.14153', '0.16668', '0.26861', '-0.031001', '-0.39665', '0.35304', '0.2385', '0.12388', '0.45698', '-0.12559', '-0.12804', '0.37449', '0.2446', '0.23073', '0.20808', '0.051258', '-0.21816', '-0.036409', '-0.0388', '-0.042487', '-0.30779', '-0.025449', '0.22532', '0.045538', '-0.48934', '-0.13988', '0.17394', '-0.46137', '-0.26555', '0.15473', '0.063816', '-0.17022', '-0.15762', '0.075765', '0.12151', '-0.4934', '-0.10909', '0.034487', '0.29947', '0.01869', '-0.16534', '0.016679', '0.16341', '-0.27418', '0.077797', '1.4023', '0.025275', '0.094725', '-0.040735', '-0.10642', '0.023364', '0.079143', '-0.16615', '-0.23013', '-0.14071', '0.40159', '-0.34951', '0.018545', '0.22434', '0.76922', '0.24722', '0.14936', '0.42368', '-0.72059', '-0.038541', '0.15522', '0.33596', '-0.43077', '-0.026925', '-0.37733', '0.24271', '-0.46495', '0.45783', '0.23693', '0.079361', '-0.32244', '-0.42434', '-0.11138', '0.55426', '0.085153', '-0.020581', '-0.046386', '1.2467', '0.13177', '0.067092', '-0.5778', '0.013586', '-0.071274', '0.017311', '0.089781', '0.19857', '-0.032205', '0.64843', '-0.23797', '-0.19676', '0.20203', '0.21074', '-0.50347', '0.026823', '-0.045444', '-0.22642', '-0.19977', '-0.12138', '0.16941', '0.061998', '0.42631', '-0.088383', '0.45756', '0.077774', '0.061342', '0.4571', '-0.17787', '-0.14597', '0.32654', '0.002443', '-0.11886', '0.10081', '-0.020011', '1.0366', '-0.39814', '-0.6818', '0.23685', '-0.20396', '-0.17668', '-0.31385', '0.14834', '-0.052187', '0.0613', '-0.32582', '0.19153', '-0.15469', '-0.14679', '0.046971', '0.032325', '-0.22006', '-0.20774', '-0.23189', '-0.10814'] 200\n",
            "['.', '0.12289', '0.58037', '-0.069635', '-0.50288', '0.10503', '0.39945', '-0.38635', '-0.084279', '0.12219', '0.080312', '0.32337', '0.47579', '-0.038375', '-0.00709', '0.41524', '0.32121', '-0.21185', '0.36144', '-0.055623', '-0.030512', '0.42854', '2.8547', '-0.14623', '-0.17557', '0.31197', '-0.13118', '0.033298', '0.13093', '0.089889', '-0.12417', '0.0023396', '-0.068954', '-0.10754', '-0.11551', '-0.31052', '-0.12097', '-0.46691', '-0.0836', '-0.037664', '-0.071779', '-0.11899', '-0.20381', '-0.12424', '0.46339', '-0.19828', '-0.0080365', '0.53718', '0.031739', '0.34331', '0.0079704', '0.0048744', '0.030592', '-0.17615', '0.82342', '-0.13793', '-0.10075', '-0.12686', '0.074735', '-0.088719', '-0.042719', '0.076624', '0.089263', '0.064445', '-0.031958', '0.15254', '-0.10384', '0.076604', '0.34099', '0.24331', '-0.10452', '0.40714', '-0.1826', '-0.040667', '0.50878', '0.08076', '0.22759', '-0.042162', '-0.18171', '-0.095025', '0.030334', '0.088202', '-3.9843e-06', '-0.0039877', '0.15724', '0.33167', '0.08471', '-0.25919', '-0.41384', '0.2992', '-0.54255', '0.032129', '0.1003', '0.44202', '0.044682', '-0.090681', '-0.10481', '-0.1186', '-0.31972', '-0.2079', '-0.040203', '-0.022988', '0.22824', '0.0055238', '0.12568', '-0.1464', '-0.14904', '-0.11561', '1.0517', '-0.19498', '0.083958', '0.044812', '-0.12965', '-0.093468', '0.21237', '-0.088332', '-0.1868', '0.26521', '0.13097', '-0.048102', '-0.22467', '0.28412', '0.34907', '0.34833', '0.017877', '0.30504', '-0.83453', '0.048856', '-0.1933', '0.20764', '-0.49701', '-0.18747', '-0.076801', '0.15558', '-0.46844', '0.40944', '0.21386', '0.082392', '-0.26491', '-0.21224', '-0.13293', '0.14738', '-0.14192', '0.18994', '-0.15587', '1.0738', '0.40789', '-0.27452', '-0.18431', '0.00068679', '-0.087115', '0.19672', '0.40918', '-0.35462', '-0.06326', '0.4492', '-0.060568', '-0.041636', '0.20531', '0.017025', '-0.58448', '0.075441', '0.082116', '-0.46008', '0.012393', '-0.02531', '0.14177', '-0.092192', '0.34505', '-0.52136', '0.57304', '0.011973', '0.033196', '0.29672', '-0.27899', '0.19979', '0.25666', '0.082079', '-0.078436', '0.093719', '0.24202', '1.3495', '-0.30434', '-0.30936', '0.42047', '-0.079068', '-0.14819', '-0.089404', '0.0668', '0.22405', '0.27226', '-0.035236', '0.17688', '-0.0536', '0.0070031', '-0.033006', '-0.080021', '-0.24451', '-0.039174', '-0.16236', '-0.096652'] 200\n",
            "['of', '0.052924', '0.25427', '0.31353', '-0.35613', '0.029629', '0.51034', '-0.10716', '0.15195', '0.057698', '0.06149', '0.06116', '0.39911', '-0.00029018', '0.31978', '0.43257', '-0.14708', '0.054842', '0.27079', '-0.14051', '-0.30101', '0.16313', '3.0013', '0.22231', '-0.14279', '0.083705', '0.089866', '-0.52706', '-0.089661', '0.27311', '0.31413', '-0.04081', '0.060557', '-0.042656', '0.24178', '-0.29187', '0.22575', '-0.6298', '-0.14641', '-0.22429', '-0.056621', '-0.17776', '-0.64269', '0.51626', '0.22305', '0.12124', '0.48074', '0.41743', '0.54805', '0.40955', '0.42407', '0.049906', '-0.32574', '0.46298', '0.19245', '0.28143', '0.2966', '0.063593', '-0.11906', '-0.15016', '-0.04984', '0.40675', '0.010675', '-0.69127', '0.048729', '0.26391', '0.30961', '-0.11921', '0.25548', '-0.28219', '-0.037413', '0.36461', '0.027129', '0.20786', '0.53325', '0.50148', '0.72381', '0.065292', '-0.078716', '-0.10537', '-0.08081', '-0.2096', '0.040902', '-0.88101', '0.24715', '0.16146', '0.10361', '0.19705', '-0.27365', '0.89902', '-0.29981', '0.036165', '0.041238', '0.60105', '-0.18911', '-0.43887', '-0.14097', '0.44073', '-0.19999', '0.28834', '-0.25458', '-0.10985', '-0.0027379', '0.091735', '0.17021', '-0.16305', '-0.57439', '0.37063', '1.7262', '-0.24656', '0.51681', '-0.15355', '-0.15553', '0.019783', '0.1803', '0.38178', '0.094443', '-0.55158', '-0.20242', '-0.4386', '-0.42108', '0.27525', '0.58977', '0.026655', '0.16401', '0.13893', '-0.68692', '0.51071', '0.29278', '0.022041', '-0.18156', '-0.64905', '0.16923', '-0.01059', '0.21785', '-0.27242', '0.27967', '0.1395', '-0.70559', '-0.26034', '-0.44017', '0.15303', '0.19693', '-0.096838', '0.14827', '1.1294', '-0.31267', '0.0099916', '-0.48623', '0.080584', '0.35608', '-0.19925', '0.19306', '-0.2004', '-0.44194', '0.75766', '0.24487', '-0.18903', '0.26653', '-0.21339', '-0.54083', '0.40532', '-0.02796', '-0.13398', '-0.11086', '0.059506', '0.24052', '-0.59739', '-0.0024069', '-0.18593', '1.042', '-0.12969', '0.20813', '0.33305', '-0.1278', '0.085662', '-0.076422', '0.31407', '-0.23784', '-0.054838', '0.011369', '0.845', '-0.34165', '0.093983', '0.082445', '-0.27777', '-0.44226', '-0.063078', '0.37274', '0.054468', '0.24197', '-0.040886', '0.3894', '-0.10509', '0.23372', '0.096027', '-0.30324', '0.24488', '-0.086254', '-0.41917', '0.46496'] 200\n",
            "['to', '0.57346', '0.5417', '-0.23477', '-0.3624', '0.4037', '0.11386', '-0.44933', '-0.30991', '-0.0053411', '0.58426', '-0.025956', '0.49393', '-0.037209', '-0.28428', '0.097696', '-0.48907', '0.026027', '0.37649', '0.057788', '-0.46807', '0.081288', '3.2825', '-0.6369', '0.37956', '0.0038167', '0.093607', '-0.12855', '0.1738', '0.10522', '0.28648', '0.21089', '-0.47076', '0.027733', '-0.19803', '0.076328', '-0.84629', '-0.79708', '-0.38743', '-0.030422', '-0.26849', '0.48585', '0.12895', '0.38354', '0.38722', '-0.38524', '0.19075', '0.48998', '0.13278', '0.010792', '0.2677', '0.17812', '-0.11433', '-0.33494', '0.87306', '0.75875', '-0.30378', '-0.15626', '0.0012085', '0.23322', '0.27953', '-0.18494', '-0.14146', '-0.18969', '-0.038386', '0.35874', '0.065513', '0.060565', '0.66339', '-0.083252', '0.065163', '0.51761', '0.16171', '0.46011', '0.16388', '-0.12399', '0.31122', '-0.15412', '-0.10917', '-0.42551', '0.11418', '0.25137', '-0.056158', '-0.25927', '0.28163', '-0.018094', '0.16065', '-0.48506', '-0.98903', '0.25022', '-0.16736', '0.41474', '0.17701', '0.42407', '0.11088', '-0.1836', '-0.1241', '-0.3478', '0.099078', '-0.22381', '-0.11245', '-0.21156', '0.0030706', '-0.23607', '0.027261', '0.3643', '0.039922', '-0.18369', '1.2266', '-0.7764', '-0.66225', '0.015724', '-0.14969', '0.084649', '0.26814', '-0.16765', '-0.31942', '0.28494', '-0.07', '0.01201', '-0.12219', '0.5631', '-0.32', '0.50109', '-0.10209', '0.46575', '-0.71542', '0.17293', '0.58259', '0.078384', '-0.033844', '-0.25129', '0.36503', '0.031578', '-0.65778', '0.05475', '0.87189', '0.12455', '-0.45877', '-0.26965', '-0.46779', '-0.0028578', '0.1781', '0.63969', '0.13995', '0.97596', '0.11836', '-0.63904', '-0.15416', '0.065262', '0.24329', '0.66476', '0.25069', '-0.10252', '-0.32839', '-0.085559', '-0.012774', '-0.19431', '0.56139', '-0.35733', '-0.20344', '-0.12413', '-0.34431', '-0.23296', '-0.21187', '0.085387', '0.070063', '-0.19803', '-0.026023', '-0.39037', '0.80002', '0.40577', '-0.079863', '0.35263', '-0.34043', '0.39676', '0.22862', '-0.35028', '-0.47344', '0.59742', '-0.11657', '1.0552', '-0.4157', '-0.080552', '-0.056571', '-0.16622', '0.19274', '-0.095175', '-0.20781', '0.1562', '0.050231', '-0.27915', '0.43742', '-0.31237', '0.13194', '-0.33278', '0.18877', '-0.23422', '0.54418', '-0.23069', '0.34947'] 200\n",
            "['and', '0.20327', '0.47348', '0.050877', '0.002103', '0.060547', '0.33066', '0.048486', '0.021504', '-0.53631', '0.21312', '0.19983', '0.51408', '0.00070422', '0.094641', '0.068724', '0.27424', '-0.20493', '0.23268', '0.3249', '-0.19444', '0.64693', '2.8342', '0.14004', '-0.26868', '0.27325', '0.015312', '-0.27975', '-0.26423', '0.14183', '-0.026064', '0.11349', '0.25039', '-0.24972', '-0.16882', '-0.31039', '-0.44458', '-0.34789', '-0.20181', '-0.013405', '0.23635', '0.17741', '-0.10535', '-0.20716', '0.37856', '0.10507', '-0.3097', '0.46782', '-0.50021', '0.26643', '0.51564', '0.054247', '0.50546', '-0.24959', '0.54021', '0.17268', '-0.03865', '0.02373', '0.24111', '0.1721', '0.078734', '0.31275', '0.187', '-0.45933', '0.55853', '0.22511', '0.16761', '-0.045662', '0.55918', '-0.24065', '-0.24904', '0.38718', '-0.21586', '-0.10332', '0.24157', '-0.1844', '0.31295', '-0.16315', '-0.21771', '0.18137', '-0.045089', '0.068367', '-0.17317', '-0.79639', '0.24492', '0.12389', '0.11703', '-0.088345', '-0.37042', '0.43759', '-0.47564', '-0.095386', '-0.15975', '0.1838', '0.25664', '-0.41276', '0.047558', '0.16437', '-0.26353', '-0.27328', '-0.089788', '0.31598', '-0.11246', '-0.18703', '0.20422', '0.068352', '0.011667', '0.13657', '1.1524', '0.024065', '-0.11591', '-0.18142', '-0.36441', '-0.010051', '0.19956', '0.2685', '-0.095357', '-0.11906', '0.32378', '-0.19527', '-0.368', '-0.0038172', '0.396', '0.24194', '0.31296', '0.24128', '-0.7612', '0.071389', '0.42396', '0.26369', '-0.091366', '-0.13438', '-0.17673', '0.013168', '-0.624', '0.17744', '0.38957', '-0.037665', '-0.12586', '-0.14862', '-0.29635', '0.40572', '-0.071653', '-0.11642', '-0.16958', '1.0982', '0.39618', '-0.16874', '-0.6036', '0.41394', '0.28977', '0.11419', '-0.047337', '-0.0033519', '-0.42435', '0.61701', '-0.01048', '-0.28841', '0.42077', '-0.075991', '-0.38083', '0.57339', '0.18044', '-0.11781', '0.35162', '0.1622', '0.55483', '0.14', '0.2321', '-0.20205', '0.60227', '-0.15379', '0.21907', '0.28405', '0.011906', '0.10622', '0.5067', '-0.43201', '-0.40887', '-0.17819', '0.22042', '1.0775', '-0.39381', '-0.35828', '0.36302', '0.14872', '0.035555', '-0.030339', '-0.11273', '0.023382', '0.15904', '-0.14389', '-0.11754', '-0.63655', '-0.12197', '0.043809', '0.14716', '0.07375', '-0.21358', '-0.62249', '0.14386'] 200\n"
          ]
        }
      ],
      "source": [
        "show_n_first_words(PATH, 5)"
      ]
    },
    {
      "cell_type": "markdown",
      "id": "ff828123",
      "metadata": {
        "id": "ff828123"
      },
      "source": [
        "### Plot some embeddings"
      ]
    },
    {
      "cell_type": "code",
      "execution_count": 61,
      "id": "3d3ffaa4",
      "metadata": {
        "id": "3d3ffaa4"
      },
      "outputs": [],
      "source": [
        "def plot_embeddings(emb_path, words2show, emb_dim, embeddings_dict, func = PCA):\n",
        "    pass"
      ]
    },
    {
      "cell_type": "code",
      "execution_count": 53,
      "id": "9b1b120a",
      "metadata": {
        "id": "9b1b120a"
      },
      "outputs": [],
      "source": [
        "words= ['burger', 'tortilla', 'bread', 'pizza', 'beef', 'steak', 'fries', 'chips',\n",
        "            'argentina', 'mexico', 'spain', 'usa', 'france', 'italy', 'greece', 'china',\n",
        "            'water', 'beer', 'tequila', 'wine', 'whisky', 'brandy', 'vodka', 'coffee', 'tea',\n",
        "            'apple', 'banana', 'orange', 'lemon', 'grapefruit', 'grape', 'strawberry', 'raspberry',\n",
        "            'school', 'work', 'university', 'highschool']\n"
      ]
    },
    {
      "cell_type": "code",
      "execution_count": 54,
      "id": "87d33789",
      "metadata": {
        "id": "87d33789"
      },
      "outputs": [],
      "source": [
        "#\n",
        "plot_embeddings(PATH, words, emb_dim, embeddings_dict, PCA)"
      ]
    },
    {
      "cell_type": "code",
      "execution_count": 55,
      "id": "f22bacb4",
      "metadata": {
        "id": "f22bacb4",
        "colab": {
          "base_uri": "https://localhost:8080/",
          "height": 386
        },
        "outputId": "ec37aa4f-7780-4c94-9464-e2dba49a36f4"
      },
      "outputs": [
        {
          "output_type": "stream",
          "name": "stderr",
          "text": [
            "<ipython-input-55-af77e5f81ad4>:10: VisibleDeprecationWarning: Creating an ndarray from ragged nested sequences (which is a list-or-tuple of lists-or-tuples-or ndarrays with different lengths or shapes) is deprecated. If you meant to do this, you must specify 'dtype=object' when creating the ndarray.\n",
            "  embeddings_matrix = np.array([embeddings_dict[word] for word in words])\n"
          ]
        },
        {
          "output_type": "error",
          "ename": "ValueError",
          "evalue": "ignored",
          "traceback": [
            "\u001b[0;31m---------------------------------------------------------------------------\u001b[0m",
            "\u001b[0;31mTypeError\u001b[0m                                 Traceback (most recent call last)",
            "\u001b[0;31mTypeError\u001b[0m: float() argument must be a string or a real number, not 'list'",
            "\nThe above exception was the direct cause of the following exception:\n",
            "\u001b[0;31mValueError\u001b[0m                                Traceback (most recent call last)",
            "\u001b[0;32m<ipython-input-55-af77e5f81ad4>\u001b[0m in \u001b[0;36m<cell line: 13>\u001b[0;34m()\u001b[0m\n\u001b[1;32m     11\u001b[0m \u001b[0;34m\u001b[0m\u001b[0m\n\u001b[1;32m     12\u001b[0m \u001b[0;31m# Asegurarse de que las incrustaciones sean números flotantes\u001b[0m\u001b[0;34m\u001b[0m\u001b[0;34m\u001b[0m\u001b[0m\n\u001b[0;32m---> 13\u001b[0;31m \u001b[0membeddings_matrix\u001b[0m \u001b[0;34m=\u001b[0m \u001b[0membeddings_matrix\u001b[0m\u001b[0;34m.\u001b[0m\u001b[0mastype\u001b[0m\u001b[0;34m(\u001b[0m\u001b[0mfloat\u001b[0m\u001b[0;34m)\u001b[0m\u001b[0;34m\u001b[0m\u001b[0;34m\u001b[0m\u001b[0m\n\u001b[0m\u001b[1;32m     14\u001b[0m \u001b[0;34m\u001b[0m\u001b[0m\n\u001b[1;32m     15\u001b[0m \u001b[0;34m\u001b[0m\u001b[0m\n",
            "\u001b[0;31mValueError\u001b[0m: setting an array element with a sequence."
          ]
        }
      ],
      "source": [
        "# t-SNE dimensionality reduction for visualization\n",
        "\n",
        "# Cargar el diccionario de incrustaciones desde el archivo serializado\n",
        "with open('embedding_dict.pkl', 'rb') as input_file:\n",
        "    embeddings_dict = pickle.load(input_file)\n",
        "\n",
        "\n",
        "# Obtener las palabras y las incrustaciones en una matriz NumPy\n",
        "words = list(embeddings_dict.keys())\n",
        "embeddings_matrix = np.array([embeddings_dict[word] for word in words])\n",
        "\n",
        "# Asegurarse de que las incrustaciones sean números flotantes\n",
        "embeddings_matrix = embeddings_matrix.astype(float)\n",
        "\n",
        "\n",
        "# Aplicar PCA para reducir a 10 dimensiones\n",
        "pca = PCA(n_components=10)\n",
        "embeddings_pca = pca.fit_transform(embeddings_matrix)\n",
        "\n",
        "# Aplicar t-SNE para reducir a 2 dimensiones\n",
        "tsne = TSNE(n_components=2)\n",
        "embeddings_tsne = tsne.fit_transform(embeddings_pca)\n",
        "\n",
        "embeddings = plot_embeddings(PATH, words, emb_dim, embeddings_dict, tSNE)"
      ]
    },
    {
      "cell_type": "markdown",
      "id": "8211b7f1",
      "metadata": {
        "id": "8211b7f1"
      },
      "source": [
        "### Let us compute analogies"
      ]
    },
    {
      "cell_type": "code",
      "execution_count": null,
      "id": "0003ce18",
      "metadata": {
        "id": "0003ce18"
      },
      "outputs": [],
      "source": [
        "# analogy\n",
        "def analogy(word1, word2, word3, embeddings_dict):\n",
        "    pass"
      ]
    },
    {
      "cell_type": "code",
      "execution_count": null,
      "id": "9c02ec01",
      "metadata": {
        "id": "9c02ec01"
      },
      "outputs": [],
      "source": [
        "analogy('man', 'king', 'woman', embeddings_dict)"
      ]
    },
    {
      "cell_type": "code",
      "execution_count": null,
      "id": "bb50e0f7",
      "metadata": {
        "id": "bb50e0f7"
      },
      "outputs": [],
      "source": [
        "# most similar\n",
        "def find_most_similar(word, embeddings_dict, top_n=10):\n",
        "    pass"
      ]
    },
    {
      "cell_type": "code",
      "execution_count": null,
      "id": "7946d712",
      "metadata": {
        "id": "7946d712"
      },
      "outputs": [],
      "source": [
        "most_similar = find_most_similar('mexico', embeddings_dict)"
      ]
    },
    {
      "cell_type": "code",
      "execution_count": null,
      "id": "3b6e0ea1",
      "metadata": {
        "id": "3b6e0ea1"
      },
      "outputs": [],
      "source": [
        "for i, w in enumerate(most_similar, 1):\n",
        "    print(f'{i} ---> {w[0]}')"
      ]
    },
    {
      "cell_type": "code",
      "execution_count": null,
      "id": "09875cae",
      "metadata": {
        "id": "09875cae"
      },
      "outputs": [],
      "source": []
    },
    {
      "cell_type": "code",
      "execution_count": null,
      "id": "985bfda4",
      "metadata": {
        "id": "985bfda4"
      },
      "outputs": [],
      "source": []
    },
    {
      "cell_type": "code",
      "execution_count": null,
      "id": "f06f33c5",
      "metadata": {
        "id": "f06f33c5"
      },
      "outputs": [],
      "source": []
    },
    {
      "cell_type": "code",
      "execution_count": null,
      "id": "05e86fa7",
      "metadata": {
        "id": "05e86fa7"
      },
      "outputs": [],
      "source": []
    },
    {
      "cell_type": "code",
      "execution_count": null,
      "id": "e1e1838b",
      "metadata": {
        "id": "e1e1838b"
      },
      "outputs": [],
      "source": []
    },
    {
      "cell_type": "code",
      "execution_count": null,
      "id": "fe1a9fad",
      "metadata": {
        "id": "fe1a9fad"
      },
      "outputs": [],
      "source": []
    }
  ],
  "metadata": {
    "kernelspec": {
      "display_name": "Python 3 (ipykernel)",
      "language": "python",
      "name": "python3"
    },
    "language_info": {
      "codemirror_mode": {
        "name": "ipython",
        "version": 3
      },
      "file_extension": ".py",
      "mimetype": "text/x-python",
      "name": "python",
      "nbconvert_exporter": "python",
      "pygments_lexer": "ipython3",
      "version": "3.9.0"
    },
    "varInspector": {
      "cols": {
        "lenName": 16,
        "lenType": 16,
        "lenVar": 40
      },
      "kernels_config": {
        "python": {
          "delete_cmd_postfix": "",
          "delete_cmd_prefix": "del ",
          "library": "var_list.py",
          "varRefreshCmd": "print(var_dic_list())"
        },
        "r": {
          "delete_cmd_postfix": ") ",
          "delete_cmd_prefix": "rm(",
          "library": "var_list.r",
          "varRefreshCmd": "cat(var_dic_list()) "
        }
      },
      "types_to_exclude": [
        "module",
        "function",
        "builtin_function_or_method",
        "instance",
        "_Feature"
      ],
      "window_display": false
    },
    "colab": {
      "provenance": [],
      "include_colab_link": true
    }
  },
  "nbformat": 4,
  "nbformat_minor": 5
}